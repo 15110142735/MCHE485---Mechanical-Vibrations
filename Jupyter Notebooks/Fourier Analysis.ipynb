{
 "metadata": {
  "name": "",
  "signature": "sha256:4d2f04baa256e683ac7e83517abf32354f7519e3041531bb9017bd6a8e56625c"
 },
 "nbformat": 3,
 "nbformat_minor": 0,
 "worksheets": [
  {
   "cells": [
    {
     "cell_type": "markdown",
     "metadata": {},
     "source": [
      "<h1 style=\"text-align:center\">Fourier Analysis</h1>\n",
      "<h3 style=\"text-align:center\"> MCHE 485: Mechanical Vibrations</h3> \n",
      "<p style=\"text-align:center\">Dr. Joshua Vaughan <br>\n",
      "<a href=\"mailto:joshua.vaughan@louisiana.edu\">joshua.vaughan@louisiana.edu</a><br>\n",
      "http://www.ucs.louisiana.edu/~jev9637/   </p>"
     ]
    },
    {
     "cell_type": "markdown",
     "metadata": {},
     "source": [
      "This notebook will look at the Fourier Analysis of periodic functions. The exact function is compared to an N-term approximation. Then, the response to the exact and approximate inputs will be compared.\n",
      "\n",
      "We can write any periodic function as an infinite sum of sines and cosines:\n",
      "\n",
      "$ \\quad f(t) = \\sum_{n=0}^{\\infty}a_n\\cos(n\\omega_0t) + \\sum_{n=1}^{\\infty}b_n\\sin(n\\omega_0t) $\n",
      "\n",
      "where\n",
      "\n",
      "$ \\quad a_n = \\frac{\\omega_0}{\\pi}\\int_0^{\\frac{2\\pi}{\\omega_0}}f(t)\\cos(n\\omega_0t)dt $, \n",
      "\n",
      "$ \\quad b_n = \\frac{\\omega_0}{\\pi}\\int_0^{\\frac{2\\pi}{\\omega_0}}f(t)\\sin(n\\omega_0t)dt $, \n",
      "\n",
      "and\n",
      "\n",
      "$ \\quad a_0 = \\frac{\\omega_0}{2\\pi}\\int_0^{\\frac{2\\pi}{\\omega_0}}f(t)dt $\n",
      "\n",
      "For more information on this process, you can see the lectures at the [class website](http://www.ucs.louisiana.edu/~jev9637/MCHE485.html). In the code below, we'll solve the required integrals numerically.\n",
      "\n",
      "By changing the number of terms we use to approximate the original function we can approach its shape, as shown in Figure 1.\n",
      "<p style=\"text-align:center\">\n",
      "\t<img src=\"http://shared.crawlab.org/SquareWave_Fourier_Approx.gif\" alt=\"Fourier Analysis\" width=50%/></a><br>\n",
      "    <strong> Figure 1: Increasing the Number of Terms in the Approximation </strong>\n",
      "</p>"
     ]
    },
    {
     "cell_type": "code",
     "collapsed": false,
     "input": [
      "import numpy as np              # Grab all of the NumPy functions with nickname np"
     ],
     "language": "python",
     "metadata": {},
     "outputs": [],
     "prompt_number": 4
    },
    {
     "cell_type": "code",
     "collapsed": false,
     "input": [
      "# We want our plots to be displayed inline, not in a separate window\n",
      "%matplotlib inline \n",
      "\n",
      "# Import the plotting functions \n",
      "import matplotlib.pyplot as plt"
     ],
     "language": "python",
     "metadata": {},
     "outputs": [],
     "prompt_number": 5
    },
    {
     "cell_type": "markdown",
     "metadata": {},
     "source": [
      "## *Aside*: Defining Piecewise Functions\n",
      "One way that we can define piecewise functions is by using NumPy to compare a time vector to a quantity, then multiplying the boolean result by the function over the given range. For example..."
     ]
    },
    {
     "cell_type": "code",
     "collapsed": false,
     "input": [
      "t = np.linspace(0,5,11) # Definte a time vector (very rough spacing for this example)\n",
      "\n",
      "print 'Time time vector is {}.\\n'.format(t)\n",
      "\n",
      "\n",
      "# Now, compare evaluate each element to see which are greater than 2.0\n",
      "# You can see that the result is an array of booleans, true or false.\n",
      "test = t > 2.0\n",
      "print 'The boolean result of t > 2.0 is {}.\\n'.format(test)\n",
      "\n",
      "\n",
      "\n",
      "# If we multiply this boolean array by a numeric array, the \"True\" values are treated as 1s and the \"False\" values as 0s.\n",
      "result = t * (t > 2.0)\n",
      "print 'The total result of t * (t > 2.0) is {}.\\n'.format(result)\n",
      "\n",
      "\n",
      "# You can see that the resulting array only contains values that satisfy the (t > 2.0) comparison."
     ],
     "language": "python",
     "metadata": {},
     "outputs": [
      {
       "output_type": "stream",
       "stream": "stdout",
       "text": [
        "Time time vector is [ 0.   0.5  1.   1.5  2.   2.5  3.   3.5  4.   4.5  5. ].\n",
        "\n",
        "The boolean result of t > 2.0 is [False False False False False  True  True  True  True  True  True].\n",
        "\n",
        "The total result of t * (t > 2.0) is [ 0.   0.   0.   0.   0.   2.5  3.   3.5  4.   4.5  5. ].\n",
        "\n"
       ]
      }
     ],
     "prompt_number": 6
    },
    {
     "cell_type": "markdown",
     "metadata": {},
     "source": [
      "## Now, on to the Fourier Expansion\n",
      "We first have to define the periodic, \"exact\" function we want to perform the expansion on."
     ]
    },
    {
     "cell_type": "code",
     "collapsed": false,
     "input": [
      "#--------- Input your function to examine here --------\n",
      "\n",
      "# This is the square wave from the example video - http://www.ucs.louisiana.edu/~jev9637/MCHE485_FourierSquare.html\n",
      "t = np.linspace(0,4,4001)             # define the time to look at, easiest to just choose 1 period\n",
      "w0 = 2.0*np.pi/4.0                    # define the fundamental frequency (here, I know t(end)=tau)\n",
      "tau_0 = 2.0*np.pi/w0                  # define fundamental period based on w0\n",
      "\n",
      "y = (t > 0) - 2 * (t>2)\n",
      "\n",
      "\n",
      "# This is a \"trapezoid\" wave\n",
      "# We're using an if/elif/else strucutre to define this one. This can be considerably less efficient for large arrays\n",
      "#\n",
      "# t = np.linspace(0,4,4000)           # define the time to look at, easiest to just choose 1 period\n",
      "# w0 = 2*np.pi/t[-1]                  # define the fundamental frequency (here, I know t(end)=tau)\n",
      "# tau_0 = 2*np.pi/w0                  # define fundamental period based on w0\n",
      "#\n",
      "# F0 = 1\n",
      "# y = np.zeros((len(t),))\n",
      "#\n",
      "# for ii in range(len(t)):\n",
      "#   if t[ii] <= tau_0/3:\n",
      "#       y[ii] = 3*F0/tau_0*t[ii]\n",
      "#   elif t[ii] <= 2*tau_0/3:\n",
      "#       y[ii] = F0\n",
      "#   else:\n",
      "#       y[ii] = -3*F0/tau_0*t[ii]+3*F0\n",
      "\n",
      "# This is the triangle wave from the video lecture - http://www.ucs.louisiana.edu/~jev9637/MCHE485_FourierTriangle.html\n",
      "# F0 = 1.0\n",
      "# y = (F0/2 * t)*(t < 2.0) + (-F0/2 * t + 2 * F0)*(t > 2.0)*(t < 4.0)"
     ],
     "language": "python",
     "metadata": {},
     "outputs": [],
     "prompt_number": 7
    },
    {
     "cell_type": "code",
     "collapsed": false,
     "input": [
      "#--------- This is the actual Numerical Fourier Expansion --------\n",
      "#\n",
      "# NOTE: SciPy trapz command is trapz(y,t) (opposite order of MATLAB/Octave)\n",
      "\n",
      "# define the number of terms to use in the approximation\n",
      "num_terms = 9\n",
      "\n",
      "# get the a0 term\n",
      "a0 = w0/(2.0*np.pi)*np.trapz(y,t)  \n",
      "\n",
      "# fill arrays with zeros - Good practice, it speeds computation in large problems\n",
      "a = np.zeros((num_terms,))\n",
      "b = np.zeros((num_terms,))\n",
      "integral_cos = np.zeros((len(t),num_terms))\n",
      "integral_sin = np.zeros((len(t),num_terms))\n",
      "sin_term = np.zeros((num_terms,len(t)))\n",
      "cos_term = np.zeros((num_terms,len(t)))\n",
      "\n",
      "# cycle through the 1 to num_terms Fourier coefficients (a_n and b_n)\n",
      "for n in range(num_terms):\n",
      "\n",
      "    # a_n calculations\n",
      "    integral_cos[:,n] = y * np.cos((n+1)*w0*t)         # define the integral \"interior\"\n",
      "    a[n] = w0/np.pi * np.trapz(integral_cos[:,n],t)    # solve for a_n\n",
      "\n",
      "    # b_n calculations\n",
      "    integral_sin[:,n] = y * np.sin((n+1)*w0*t)         # define the integral \"interior\"\n",
      "    b[n] = w0/np.pi * np.trapz(integral_sin[:,n],t)    # solve for b_n\n",
      "    \n",
      "    sin_term[n,:] = np.sin((n+1)*w0*t)                 # calculate the nth sine term\n",
      "    cos_term[n,:] = np.cos((n+1)*w0*t)                 # calculate the nth cosine_term\n",
      "\n",
      "\n",
      "# Generate the approximate input based on the Fourier coeff. calculated above\n",
      "approx = np.zeros_like(t) #First fill with zeros\n",
      "\n",
      "for ii in range(len(t)):\n",
      "     approx[ii] = a0 + np.sum(a * cos_term[:,ii],0) + np.sum(b * sin_term[:,ii],0)"
     ],
     "language": "python",
     "metadata": {},
     "outputs": [],
     "prompt_number": 8
    },
    {
     "cell_type": "code",
     "collapsed": false,
     "input": [
      "# Let's print out the a_n and b_n terms for inspection\n",
      "print '\\nThe a0 term is {:0.4f}.\\n\\n'.format(a0)\n",
      "\n",
      "print 'The a_n terms are:'\n",
      "print '\\n  ' + np.array_str(a, precision=4, suppress_small=True)\n",
      "\n",
      "print '\\n\\nThe b_n terms are:'\n",
      "print '\\n  ' + np.array_str(b, precision=4, suppress_small=True)"
     ],
     "language": "python",
     "metadata": {},
     "outputs": [
      {
       "output_type": "stream",
       "stream": "stdout",
       "text": [
        "\n",
        "The a0 term is 0.0001.\n",
        "\n",
        "\n",
        "The a_n terms are:\n",
        "\n",
        "  [-0.0007  0.0002 -0.0007  0.0002 -0.0007  0.0002 -0.0007  0.0002 -0.0007]\n",
        "\n",
        "\n",
        "The b_n terms are:\n",
        "\n",
        "  [ 1.2732  0.      0.4244  0.      0.2546 -0.      0.1819 -0.      0.1415]\n"
       ]
      }
     ],
     "prompt_number": 9
    },
    {
     "cell_type": "markdown",
     "metadata": {},
     "source": [
      "<br>\n",
      "***Note***: Due to numerical precision of our numerical integration, we might have terms that are nonzero when they should be. Use your engineering knowledge/judgement to determine if this is happening.\n",
      "<br>\n",
      "<br>"
     ]
    },
    {
     "cell_type": "code",
     "collapsed": false,
     "input": [
      "# Now, let's plot the comparison\n",
      "\n",
      "\n",
      "# Make the figure pretty, then plot the results\n",
      "#   \"pretty\" parameters selected based on pdf output, not screen output\n",
      "#   Many of these setting could also be made default by the .matplotlibrc file\n",
      "fig = plt.figure(figsize=(6,4))\n",
      "ax = plt.gca()\n",
      "plt.subplots_adjust(bottom=0.17,left=0.17,top=0.96,right=0.96)\n",
      "plt.setp(ax.get_ymajorticklabels(),family='Serif',fontsize=18)\n",
      "plt.setp(ax.get_xmajorticklabels(),family='Serif',fontsize=18)\n",
      "ax.spines['right'].set_color('none')\n",
      "ax.spines['top'].set_color('none')\n",
      "ax.xaxis.set_ticks_position('bottom')\n",
      "ax.yaxis.set_ticks_position('left')\n",
      "ax.grid(True,linestyle=':',color='0.75')\n",
      "ax.set_axisbelow(True)\n",
      "\n",
      "plt.xlabel(r'Time (s)',family='Serif',fontsize=22,weight='bold',labelpad=5)\n",
      "plt.ylabel(r'$y(t)$',family='Serif',fontsize=22,weight='bold',labelpad=10)\n",
      "\n",
      "plt.plot(t, y, '--', linewidth=2, label=r'Exact')\n",
      "\n",
      "f = str(num_terms) + '-Term Fourier Expansion'\n",
      "plt.plot(t, approx, linewidth=2, label=f)\n",
      "\n",
      "plt.ylim(-1.5,2.5)\n",
      "\n",
      "leg = plt.legend(loc='upper right', ncol = 1, fancybox=True)\n",
      "ltext  = leg.get_texts() \n",
      "plt.setp(ltext,family='Serif',fontsize=16)\n",
      "\n",
      "# Adjust the page layout filling the page using the new tight_layout command\n",
      "plt.tight_layout(pad=0.5)\n",
      "\n",
      "# If you want to save the figure, uncomment the two commands below. \n",
      "#   The figure will be saved in the same directory as your IPython notebook.\n",
      "# f = str(num_terms) + 'orderFourierApprox.pdf'\n",
      "# plt.savefig(f)\n",
      "\n",
      "fig.set_size_inches(9,6) # Resize the figure for better display in the notebook"
     ],
     "language": "python",
     "metadata": {},
     "outputs": [
      {
       "metadata": {},
       "output_type": "display_data",
       "png": "[encoded data removed]",
       "text": [
        "<matplotlib.figure.Figure at 0x110bb98d0>"
       ]
      }
     ],
     "prompt_number": 11
    },
    {
     "cell_type": "markdown",
     "metadata": {},
     "source": [
      "## Response Comparison\n",
      "Now, let's look at the response of a simple mass-spring-damper system like the one shown in Figure 2.\n",
      "<p style=\"text-align:center\">\n",
      "\t<img src=\"http://shared.crawlab.org/MassSpringDamper_Seismic_Horiz.png\" alt=\"A Mass-Spring-Damper System\" width=35%/></a><br>\n",
      "    <strong> Figure 2: A Mass-Spring-Damper System </strong>\n",
      "</p>\n",
      "\n",
      "The equation of motion for the system is:\n",
      "\n",
      "$ \\quad m \\ddot{x} + c \\dot{x} + kx = c \\dot{y} + ky $\n",
      "\n",
      "We could also write this equation in terms of the damping ratio, $\\zeta$, and natural frequency, $\\omega_n$.\n",
      "\n",
      "$ \\quad \\ddot{x} + 2\\zeta\\omega_n\\dot{x} + \\omega_n^2x = 2\\zeta\\omega_n \\dot{y} + \\omega_n^2 y$\n",
      "\n",
      "For information on how to obtain this equation, you can see the lectures at the [class website](http://www.ucs.louisiana.edu/~jev9637/MCHE485.html).\n",
      "\n",
      "### Control System Library\n",
      "For the following simulations in this notebook, we will use the [Control Systems Library for Python](http://www.cds.caltech.edu/~murray/wiki/Control_Systems_Library_for_Python). Instructions on installation and use can be found at that link."
     ]
    },
    {
     "cell_type": "code",
     "collapsed": false,
     "input": [
      "import control               # import the control system library"
     ],
     "language": "python",
     "metadata": {},
     "outputs": [],
     "prompt_number": 12
    },
    {
     "cell_type": "code",
     "collapsed": false,
     "input": [
      "# Define the System Parameters\n",
      "m = 1.0                      # kg\n",
      "k = (2.*np.pi)**2.           # N/m (Selected to give an undamped natrual frequency of 1Hz)\n",
      "wn = np.sqrt(k/m)            # Natural Frequency (rad/s)\n",
      "\n",
      "z = 0.25                     # Define a desired damping ratio\n",
      "c = 2*z*wn*m                 # calculate the damping coeff. to create it (N/(m/s))\n",
      "\n",
      "wd = wn * np.sqrt(1 - z**2)  # Damped natural frequency (rad/s)"
     ],
     "language": "python",
     "metadata": {},
     "outputs": [],
     "prompt_number": 13
    },
    {
     "cell_type": "code",
     "collapsed": false,
     "input": [
      "# Define the system to use in simulation - in transfer function form here\n",
      "num = [2.*z*wn,wn**2]\n",
      "den = [1,2.*z*wn,wn**2]\n",
      "\n",
      "# Definte the transfer function\n",
      "sys = control.tf(num,den)\n",
      "\n",
      "# run the simulation - first with the exact input\n",
      "[T_out,yout_exact,xout_exact] = control.forced_response(sys,t,y)\n",
      "\n",
      "# run the simulation - now with the approximate input\n",
      "[T_approx,yout_approx,xout_approx] = control.forced_response(sys,t,approx)"
     ],
     "language": "python",
     "metadata": {},
     "outputs": [],
     "prompt_number": 14
    },
    {
     "cell_type": "code",
     "collapsed": false,
     "input": [
      "# Make the figure pretty, then plot the results\n",
      "#   \"pretty\" parameters selected based on pdf output, not screen output\n",
      "#   Many of these setting could also be made default by the .matplotlibrc file\n",
      "fig = plt.figure(figsize=(6,4))\n",
      "ax = plt.gca()\n",
      "plt.subplots_adjust(bottom=0.17,left=0.17,top=0.96,right=0.96)\n",
      "plt.setp(ax.get_ymajorticklabels(),family='CMU Serif',fontsize=18)\n",
      "plt.setp(ax.get_xmajorticklabels(),family='CMU Serif',fontsize=18)\n",
      "ax.spines['right'].set_color('none')\n",
      "ax.spines['top'].set_color('none')\n",
      "ax.xaxis.set_ticks_position('bottom')\n",
      "ax.yaxis.set_ticks_position('left')\n",
      "ax.grid(True,linestyle=':',color='0.75')\n",
      "ax.set_axisbelow(True)\n",
      "\n",
      "plt.xlabel('Time (s)',family='CMU Serif',fontsize=22,weight='bold',labelpad=5)\n",
      "plt.ylabel('Position (m)',family='CMU Serif',fontsize=22,weight='bold',labelpad=10)\n",
      "\n",
      "plt.plot(t,y,':',linewidth=2,label=r'Exact Command')\n",
      "plt.plot(t,yout_exact,'--',linewidth=2,label=r'Exact Resp.')\n",
      "\n",
      "f = str(num_terms) + '-Term Approx. Resp.'\n",
      "plt.plot(t,yout_approx,linewidth=2,label=f)\n",
      "\n",
      "# You may need to adjust these limits for best results\n",
      "plt.ylim(-2.5, 3.5)\n",
      "\n",
      "leg = plt.legend(loc='upper right', fancybox=True)\n",
      "ltext  = leg.get_texts() \n",
      "plt.setp(ltext,family='CMU Serif',fontsize=16)\n",
      "\n",
      "# Adjust the page layout filling the page using the new tight_layout command\n",
      "plt.tight_layout(pad=0.5)\n",
      "\n",
      "# If you want to save the figure, uncomment the two commands below. \n",
      "#   The figure will be saved in the same directory as your IPython notebook.\n",
      "# f = str(num_terms) + 'orderFourierApprox_Resp.pdf'\n",
      "# plt.savefig(f)\n",
      "\n",
      "fig.set_size_inches(9,6) # Resize the figure for better display in the notebook"
     ],
     "language": "python",
     "metadata": {},
     "outputs": [
      {
       "metadata": {},
       "output_type": "display_data",
       "png": "[encoded data removed]",
       "text": [
        "<matplotlib.figure.Figure at 0x114369ad0>"
       ]
      }
     ],
     "prompt_number": 16
    },
    {
     "cell_type": "markdown",
     "metadata": {},
     "source": [
      "<hr class = \"style-end\">"
     ]
    },
    {
     "cell_type": "markdown",
     "metadata": {},
     "source": [
      "#### Licenses\n",
      "Code is licensed under a 3-clause BSD style license. See the licenses/LICENSE.md file.\n",
      "\n",
      "Other content is provided under a [Creative Commons Attribution-NonCommercial 4.0 International License](http://creativecommons.org/licenses/by-nc/4.0/), CC-BY-NC 4.0."
     ]
    },
    {
     "cell_type": "code",
     "collapsed": false,
     "input": [
      "# Ignore this cell - We just update the CSS to make the notebook look a little bit better and easier to read\n",
      "\n",
      "# Improve the notebook styling -- Run this first\n",
      "from IPython.core.display import HTML\n",
      "css_file = 'styling/CRAWLAB_IPythonNotebook.css'\n",
      "HTML(open(css_file, \"r\").read())"
     ],
     "language": "python",
     "metadata": {},
     "outputs": [
      {
       "html": [
        "<style>\n",
        "    @font-face {\n",
        "        font-family: \"Computer Modern\";\n",
        "        src: url('http://9dbb143991406a7c655e-aa5fcb0a5a4ec34cff238a2d56ca4144.r56.cf5.rackcdn.com/cmunss.otf');\n",
        "    }\n",
        "    @font-face {\n",
        "        font-family: \"Computer Modern\";\n",
        "        font-weight: bold;\n",
        "        src: url('http://9dbb143991406a7c655e-aa5fcb0a5a4ec34cff238a2d56ca4144.r56.cf5.rackcdn.com/cmunsx.otf');\n",
        "    }\n",
        "    @font-face {\n",
        "        font-family: \"Computer Modern\";\n",
        "        font-style: oblique;\n",
        "        src: url('http://9dbb143991406a7c655e-aa5fcb0a5a4ec34cff238a2d56ca4144.r56.cf5.rackcdn.com/cmunsi.otf');\n",
        "    }\n",
        "    @font-face {\n",
        "        font-family: \"Computer Modern\";\n",
        "        font-weight: bold;\n",
        "        font-style: oblique;\n",
        "        src: url('http://9dbb143991406a7c655e-aa5fcb0a5a4ec34cff238a2d56ca4144.r56.cf5.rackcdn.com/cmunso.otf');\n",
        "    }\n",
        "    \n",
        "    div.cell{\n",
        "        max-width:1100px;\n",
        "        margin-left:auto;\n",
        "        margin-right:auto;\n",
        "    }\n",
        "    \n",
        "    h1 {\n",
        "        font-family: Computer Modern;\n",
        "    }\n",
        "    \n",
        "    h4{\n",
        "        margin-top:12px;\n",
        "        margin-bottom: 3px;\n",
        "       }\n",
        "\n",
        "    div.text_cell_render{\n",
        "        font-family: Computer Modern, \"Helvetica Neue\", Arial, Helvetica, Geneva, sans-serif;\n",
        "        line-height: 145%;\n",
        "        font-size: 130%;\n",
        "        max-width:1100px;\n",
        "        margin-left:auto;\n",
        "        margin-right:auto;\n",
        "    }\n",
        "    \n",
        "    .CodeMirror{\n",
        "            font-family: \"Source Code Pro\", source-code-pro, Consolas, monospace;\n",
        "    }\n",
        "    \n",
        "    .warning{\n",
        "        color: rgb( 240, 20, 20 )\n",
        "        }  \n",
        "    \n",
        "    hr.style-end {\n",
        "    border: 0;\n",
        "    height: 1px;\n",
        "    text-align: center;\n",
        "    background: #333;\n",
        "    background-image: -webkit-linear-gradient(left, #ccc, #333, #ccc); \n",
        "    background-image:    -moz-linear-gradient(left, #ccc, #333, #ccc); \n",
        "    background-image:     -ms-linear-gradient(left, #ccc, #333, #ccc); \n",
        "    background-image:      -o-linear-gradient(left, #ccc, #333, #ccc); \n",
        "    }\n",
        "\n",
        "    hr.style-end:after {\n",
        "    content: \"\u269c\";\n",
        "    display: inline-block;\n",
        "    position: relative; \n",
        "    top: -0.5em;  \n",
        "    font-size: 1.5em;\n",
        "    padding: 0 0.25em;\n",
        "    background: white;\n",
        "    }\n",
        "    \n",
        "/*  Center figures, etc\n",
        "    .ui-wrapper {\n",
        "        margin-left: auto !important;\n",
        "        margin-right: auto !important;\n",
        "    }\n",
        " */\n",
        "    \n",
        "</style>\n",
        "<script>\n",
        "    MathJax.Hub.Config({\n",
        "                        TeX: {\n",
        "                           extensions: [\"AMSmath.js\"]\n",
        "                           },\n",
        "                tex2jax: {\n",
        "                    inlineMath: [ ['$','$'], [\"\\\\(\",\"\\\\)\"] ],\n",
        "                    displayMath: [ ['$$','$$'], [\"\\\\[\",\"\\\\]\"] ]\n",
        "                },\n",
        "                displayAlign: 'center', // Change this to 'center' to center equations.\n",
        "                \"HTML-CSS\": {\n",
        "                    styles: {'.MathJax_Display': {\"margin\": 4}}\n",
        "                }\n",
        "        });\n",
        "</script>\n"
       ],
       "metadata": {},
       "output_type": "pyout",
       "prompt_number": 2,
       "text": [
        "<IPython.core.display.HTML at 0x106c48c90>"
       ]
      }
     ],
     "prompt_number": 2
    }
   ],
   "metadata": {}
  }
 ]
}