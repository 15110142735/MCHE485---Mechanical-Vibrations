{
 "cells": [
  {
   "cell_type": "markdown",
   "metadata": {},
   "source": [
    "<h1 style=\"text-align:center\">Undamped Response to Harmonic Seismic Inputs</h1>\n",
    "<h3 style=\"text-align:center\">MCHE 485: Mechanical Vibrations</h3> \n",
    "<p style=\"text-align:center\">Dr. Joshua Vaughan <br>\n",
    "<a href=\"mailto:joshua.vaughan@louisiana.edu\">joshua.vaughan@louisiana.edu</a><br>\n",
    "http://www.ucs.louisiana.edu/~jev9637/   </p>"
   ]
  },
  {
   "cell_type": "markdown",
   "metadata": {},
   "source": [
    "<p style=\"text-align:center\">\n",
    "\t<img src=\"http://shared.crawlab.org/MassSpring_Seismic_Horiz.png\" alt=\"A Mass-Spring-Damper System\" width=50%/></a><br>\n",
    "    <strong> Figure 1: A Mass-Spring System </strong>\n",
    "</p>\n",
    "\n",
    "This notebook examines the frequency response of a simple mass-spring system like the one shown in Figure 1. It has a position input, $ y(t) $, that is known to be harmonic connected to the mass, $ m $, via a spring of stiffness $ k $. The position of the mass is defined by $ x(t) $.\n",
    "\n",
    "The equation of motion for the system is:\n",
    "\n",
    "<!-- the \\quad commmand just adds a space in the math mode -->\n",
    "$ \\quad m \\ddot{x} + kx = ky $\n",
    "\n",
    "We could also write this equation in terms of the damping ratio, $\\zeta$, and natural frequency, $\\omega_n$.\n",
    "\n",
    "$ \\quad \\ddot{x} + \\omega_n^2x = \\omega_n^2 y$\n",
    "\n",
    "For information on how to obtain this equation, you can see the lectures at the [class website](http://www.ucs.louisiana.edu/~jev9637/MCHE485.html)."
   ]
  },
  {
   "cell_type": "code",
   "execution_count": 1,
   "metadata": {
    "collapsed": false
   },
   "outputs": [],
   "source": [
    "import numpy as np              # Grab all of the NumPy functions with nickname np"
   ]
  },
  {
   "cell_type": "code",
   "execution_count": 2,
   "metadata": {
    "collapsed": false
   },
   "outputs": [],
   "source": [
    "# We want our plots to be displayed inline, not in a separate window\n",
    "%matplotlib inline"
   ]
  },
  {
   "cell_type": "code",
   "execution_count": 3,
   "metadata": {
    "collapsed": false
   },
   "outputs": [],
   "source": [
    "# Import the plotting functions \n",
    "import matplotlib.pyplot as plt"
   ]
  },
  {
   "cell_type": "code",
   "execution_count": 4,
   "metadata": {
    "collapsed": false
   },
   "outputs": [],
   "source": [
    "# Define the System Parameters\n",
    "m = 1.0                 # kg\n",
    "k = (2.*np.pi)**2.      # N/m (Selected to give an undamped natural frequency of 1Hz)\n",
    "wn = np.sqrt(k/m)       # Natural Frequency (rad/s)"
   ]
  },
  {
   "cell_type": "markdown",
   "metadata": {},
   "source": [
    "Let's use the closed-form, steady-state solution we developed in lecture:\n",
    "\n",
    "Assume:\n",
    "\n",
    "$ \\quad y(t) = \\bar{y} \\sin{\\omega t} $\n",
    "\n",
    "Then, the solution $x(t)$ should have the form:\n",
    "\n",
    "$ \\quad x(t) = a \\sin{\\omega t} + b \\cos{\\omega t} $\n",
    "\n",
    "We saw that when we substituted this assumed solution into the equations of motion for this undamped system, the $b$ constant was elimiinated, leaving:\n",
    "\n",
    "$ \\quad x(t) = \\frac{\\omega_n^2}{\\omega_n^2 - \\omega^2}\\bar{y} \\sin{\\omega t} $\n",
    "\n",
    "or \n",
    "\n",
    "$ \\quad x(t) = \\frac{\\omega_n^2}{\\omega_n^2 - \\omega^2} y(t) $\n",
    "\n",
    "So, $ \\frac{\\omega_n^2}{\\omega_n^2 - \\omega^2} $ gives us the relationship between the input $ y(t) $ and the system response $ x(t) $. Let's plot that for a range of frequencies."
   ]
  },
  {
   "cell_type": "code",
   "execution_count": 5,
   "metadata": {
    "collapsed": false
   },
   "outputs": [],
   "source": [
    "# Set up input parameters\n",
    "w = np.linspace(0,wn*3,500)            # Frequency range for freq response plot, 0-3x wn with 500 points in-between\n",
    "\n",
    "x_amp = (wn**2) / (wn**2 - w**2)\n",
    "\n",
    "# Let's mask the discontinuity, so it isn't plotted\n",
    "pos = np.where(np.abs(x_amp) >= 15)\n",
    "x_amp[pos] = np.nan\n",
    "w[pos] = np.nan"
   ]
  },
  {
   "cell_type": "code",
   "execution_count": 6,
   "metadata": {
    "collapsed": false
   },
   "outputs": [
    {
     "data": {
      "image/png": "[encoded data removed]",
      "text/plain": [
       "<matplotlib.figure.Figure at 0x10c57fac8>"
      ]
     },
     "metadata": {},
     "output_type": "display_data"
    }
   ],
   "source": [
    "# Make the figure pretty, then plot the results\n",
    "#   \"pretty\" parameters selected based on pdf output, not screen output\n",
    "#   Many of these setting could also be made default by the .matplotlibrc file\n",
    "fig = plt.figure(figsize=(6,4))\n",
    "ax = plt.gca()\n",
    "plt.subplots_adjust(bottom=0.2,left=0.15,top=0.96,right=0.96)\n",
    "plt.setp(ax.get_ymajorticklabels(),family='serif',fontsize=18)\n",
    "plt.setp(ax.get_xmajorticklabels(),family='serif',fontsize=18)\n",
    "ax.spines['right'].set_color('none')\n",
    "ax.spines['top'].set_color('none')\n",
    "ax.xaxis.set_ticks_position('bottom')\n",
    "ax.yaxis.set_ticks_position('left')\n",
    "ax.grid(True,linestyle=':',color='0.75')\n",
    "ax.set_axisbelow(True)\n",
    "\n",
    "plt.xlabel(r'Input Frequency $\\left(\\omega\\right)$',family='serif',fontsize=22,weight='bold',labelpad=10)\n",
    "plt.ylabel(r'$ \\frac{\\omega_n^2}{\\omega_n^2 - \\omega^2} $',family='serif',fontsize=22,weight='bold',labelpad=10)\n",
    "plt.ylim(-10.0,10.0)\n",
    "plt.yticks([0])\n",
    "plt.xticks([0,1],['0','$\\omega = \\omega_n$'])\n",
    "\n",
    "plt.plot(w/wn, x_amp, linewidth=2)\n",
    "\n",
    "# If you want to save the figure, uncomment the commands below. \n",
    "# The figure will be saved in the same directory as your IPython notebook.\n",
    "# Save the figure as a high-res pdf in the current folder\n",
    "# plt.savefig('MassSpring_SeismicFreqResp_Amplitude.pdf',dpi=300)\n",
    "\n",
    "fig.set_size_inches(9,6) # Resize the figure for better display in the notebook"
   ]
  },
  {
   "cell_type": "markdown",
   "metadata": {},
   "source": [
    "### Magnitude of the Response\n",
    "We can also plot the magnitude of this."
   ]
  },
  {
   "cell_type": "code",
   "execution_count": 7,
   "metadata": {
    "collapsed": false
   },
   "outputs": [
    {
     "data": {
      "image/png": "[encoded data removed]",
      "text/plain": [
       "<matplotlib.figure.Figure at 0x10e912048>"
      ]
     },
     "metadata": {},
     "output_type": "display_data"
    }
   ],
   "source": [
    "# Define the magnitude of the response\n",
    "x_mag = np.abs(x_amp)\n",
    "\n",
    "# Make the figure pretty, then plot the results\n",
    "#   \"pretty\" parameters selected based on pdf output, not screen output\n",
    "#   Many of these setting could also be made default by the .matplotlibrc file\n",
    "fig = plt.figure(figsize=(6,4))\n",
    "ax = plt.gca()\n",
    "plt.subplots_adjust(bottom=0.2,left=0.15,top=0.96,right=0.96)\n",
    "plt.setp(ax.get_ymajorticklabels(),family='serif',fontsize=18)\n",
    "plt.setp(ax.get_xmajorticklabels(),family='serif',fontsize=18)\n",
    "ax.spines['right'].set_color('none')\n",
    "ax.spines['top'].set_color('none')\n",
    "ax.xaxis.set_ticks_position('bottom')\n",
    "ax.yaxis.set_ticks_position('left')\n",
    "ax.grid(True,linestyle=':',color='0.75')\n",
    "ax.set_axisbelow(True)\n",
    "\n",
    "plt.xlabel(r'Input Frequency $\\left(\\omega\\right)$',family='serif',fontsize=22,weight='bold',labelpad=10)\n",
    "plt.ylabel(r'$ \\left|\\frac{\\omega_n^2}{\\omega_n^2 - \\omega^2} \\right|$',family='serif',fontsize=22,weight='bold',labelpad=10)\n",
    "plt.ylim(0.0,10.0)\n",
    "plt.yticks([0])\n",
    "plt.xticks([0,1],['0','$\\omega = \\omega_n$'])\n",
    "\n",
    "plt.plot(w/wn,x_mag,linewidth=2)\n",
    "\n",
    "# If you want to save the figure, uncomment the commands below. \n",
    "# The figure will be saved in the same directory as your IPython notebook.\n",
    "# Save the figure as a high-res pdf in the current folder\n",
    "# savefig('MassSpring_SeismicFreqResp_Magnitude.pdf',dpi=300)\n",
    "\n",
    "fig.set_size_inches(9,6) # Resize the figure for better display in the notebook"
   ]
  },
  {
   "cell_type": "code",
   "execution_count": 8,
   "metadata": {
    "collapsed": false
   },
   "outputs": [],
   "source": [
    "# Set up input parameters\n",
    "w = np.linspace(0,wn*3,500)            # Frequency range for freq response plot, 0-3x wn with 500 points in-between\n",
    "\n",
    "xddot_amp = -(wn**2 * w**2) / (wn**2 - w**2)\n",
    "\n",
    "# Let's mask the discontinuity, so it isn't plotted\n",
    "pos = np.where(np.abs(xddot_amp) >= 600)\n",
    "xddot_amp[pos] = np.nan\n",
    "w[pos] = np.nan"
   ]
  },
  {
   "cell_type": "markdown",
   "metadata": {},
   "source": [
    "### Acceleration \n",
    "Now, let's look at the acceleration of the mass, $\\ddot{x}(t)$, for the same seismic input, y(t).\n",
    "\n",
    "$ \\quad \\ddot{x}(t) = \\frac{-\\omega_n^2\\omega^2}{\\omega_n^2 - \\omega^2}\\bar{y} \\sin{\\omega t} $\n",
    "\n",
    "or \n",
    "\n",
    "$ \\quad x(t) = \\frac{-\\omega_n^2\\omega^2}{\\omega_n^2 - \\omega^2} y(t) $\n",
    "\n",
    "So, $ \\frac{-\\omega_n^2\\omega^2}{\\omega_n^2 - \\omega^2} $ gives us the relationship between the input $ y(t) $ and the acceleration of the mass, $ \\ddot{x}(t) $. Let's plot that for a range of frequencies."
   ]
  },
  {
   "cell_type": "code",
   "execution_count": 9,
   "metadata": {
    "collapsed": false
   },
   "outputs": [
    {
     "data": {
      "image/png": "[encoded data removed]",
      "text/plain": [
       "<matplotlib.figure.Figure at 0x10efa0860>"
      ]
     },
     "metadata": {},
     "output_type": "display_data"
    }
   ],
   "source": [
    "# Make the figure pretty, then plot the results\n",
    "#   \"pretty\" parameters selected based on pdf output, not screen output\n",
    "#   Many of these setting could also be made default by the .matplotlibrc file\n",
    "fig = plt.figure(figsize=(6,4))\n",
    "ax = plt.gca()\n",
    "plt.subplots_adjust(bottom=0.20,left=0.15,top=0.96,right=0.96)\n",
    "plt.setp(ax.get_ymajorticklabels(),family='serif',fontsize=18)\n",
    "plt.setp(ax.get_xmajorticklabels(),family='serif',fontsize=18)\n",
    "ax.spines['right'].set_color('none')\n",
    "ax.spines['top'].set_color('none')\n",
    "ax.xaxis.set_ticks_position('bottom')\n",
    "ax.yaxis.set_ticks_position('left')\n",
    "ax.grid(True,linestyle=':',color='0.75')\n",
    "ax.set_axisbelow(True)\n",
    "\n",
    "plt.xlabel(r'Input Frequency $\\left(\\omega\\right)$',family='serif',fontsize=22,weight='bold',labelpad=10)\n",
    "plt.ylabel(r'$ \\frac{-\\omega_n^2 \\omega^2}{\\omega_n^2 - \\omega^2} $',family='serif',fontsize=22,weight='bold',labelpad=10)\n",
    "plt.ylim(-500.0,500.0)\n",
    "plt.yticks([0])\n",
    "plt.xticks([0,1],['0','$\\omega = \\omega_n$'])\n",
    "\n",
    "plt.plot(w/wn,xddot_amp,linewidth=2)\n",
    "\n",
    "# If you want to save the figure, uncomment the commands below. \n",
    "# The figure will be saved in the same directory as your IPython notebook.\n",
    "# Save the figure as a high-res pdf in the current folder\n",
    "# plt.savefig('MassSpring_SeismicFreqResp_AccelAmplitude.pdf',dpi=300)\n",
    "\n",
    "fig.set_size_inches(9,6) # Resize the figure for better display in the notebook"
   ]
  },
  {
   "cell_type": "markdown",
   "metadata": {},
   "source": [
    "### Normalization\n",
    "We could also normalize the input frequency, $ \\omega $, based on its relationship to the natural frequency of the system, $ \\omega_n$. To do so, divide both the numerator and denominator of:\n",
    "\n",
    "$ \\quad x(t) = \\frac{\\omega_n^2}{\\omega_n^2 - \\omega^2}\\bar{y} \\sin{\\omega t} $\n",
    "\n",
    "by $\\omega_n$. We can then define $\\Omega \\equiv \\frac{\\omega}{\\omega_n} $ and write:\n",
    "\n",
    "$ \\quad x(t) = \\left(\\frac{1}{1-\\Omega^2}\\right) \\bar{y} \\sin{\\omega t} $\n",
    "\n",
    "The term $\\frac{1}{1-\\Omega^2}$ then gives us a normalized version of the amplitude of vibration by plotting it versus $\\Omega$.\n"
   ]
  },
  {
   "cell_type": "code",
   "execution_count": 10,
   "metadata": {
    "collapsed": false
   },
   "outputs": [],
   "source": [
    "# Set up input parameters\n",
    "wnorm = np.linspace(0,3,500)            # Frequency range for freq response plot, 0-3x wn with 500 points in-between\n",
    "\n",
    "xnorm_amp = (1) / (1 - wnorm**2)\n",
    "\n",
    "# Let's mask the discontinuity, so it isn't plotted\n",
    "pos = np.where(np.abs(xnorm_amp) >= 15)\n",
    "x_amp[pos] = np.nan\n",
    "wnorm[pos] = np.nan"
   ]
  },
  {
   "cell_type": "code",
   "execution_count": 11,
   "metadata": {
    "collapsed": false
   },
   "outputs": [
    {
     "data": {
      "image/png": "[encoded data removed]",
      "text/plain": [
       "<matplotlib.figure.Figure at 0x10ef9ccc0>"
      ]
     },
     "metadata": {},
     "output_type": "display_data"
    }
   ],
   "source": [
    "# Make the figure pretty, then plot the results\n",
    "#   \"pretty\" parameters selected based on pdf output, not screen output\n",
    "#   Many of these setting could also be made default by the .matplotlibrc file\n",
    "fig = plt.figure(figsize=(6,4))\n",
    "ax = plt.gca()\n",
    "plt.subplots_adjust(bottom=0.23,left=0.15,top=0.96,right=0.96)\n",
    "plt.setp(ax.get_ymajorticklabels(),family='serif',fontsize=18)\n",
    "plt.setp(ax.get_xmajorticklabels(),family='serif',fontsize=18)\n",
    "ax.spines['right'].set_color('none')\n",
    "ax.spines['top'].set_color('none')\n",
    "ax.xaxis.set_ticks_position('bottom')\n",
    "ax.yaxis.set_ticks_position('left')\n",
    "ax.grid(True,linestyle=':',color='0.75')\n",
    "ax.set_axisbelow(True)\n",
    "\n",
    "plt.xlabel(r'Normalized Frequency $\\left(\\Omega = \\frac{\\omega}{\\omega_n}\\right)$',family='serif',fontsize=22,weight='bold',labelpad=5)\n",
    "plt.ylabel(r'$ \\frac{1}{1 - \\Omega^2} $',family='serif',fontsize=22,weight='bold',labelpad=15)\n",
    "plt.ylim(-5.0,5.0)\n",
    "plt.yticks([0,1])\n",
    "plt.xticks([0,1],['0','$\\Omega = 1$'])\n",
    "\n",
    "plt.plot(wnorm, xnorm_amp, linewidth=2)\n",
    "\n",
    "# If you want to save the figure, uncomment the commands below. \n",
    "# The figure will be saved in the same directory as your IPython notebook.\n",
    "# Save the figure as a high-res pdf in the current folder\n",
    "# savefig('MassSpring_SeismicFreqResp_NormAmp.pdf',dpi=300)\n",
    "\n",
    "fig.set_size_inches(9,6) # Resize the figure for better display in the notebook"
   ]
  },
  {
   "cell_type": "markdown",
   "metadata": {},
   "source": [
    "### Magnitude of the Response\n",
    "We can also plot the magnitude of the normalized response"
   ]
  },
  {
   "cell_type": "code",
   "execution_count": 12,
   "metadata": {
    "collapsed": false
   },
   "outputs": [
    {
     "data": {
      "image/png": "[encoded data removed]",
      "text/plain": [
       "<matplotlib.figure.Figure at 0x10f3de898>"
      ]
     },
     "metadata": {},
     "output_type": "display_data"
    }
   ],
   "source": [
    "# Take the absolute value to get the magnitude\n",
    "xnorm_mag = np.abs(xnorm_amp)\n",
    "\n",
    "# Make the figure pretty, then plot the results\n",
    "#   \"pretty\" parameters selected based on pdf output, not screen output\n",
    "#   Many of these setting could also be made default by the .matplotlibrc file\n",
    "fig = plt.figure(figsize=(6,4))\n",
    "ax = plt.gca()\n",
    "plt.subplots_adjust(bottom=0.23,left=0.15,top=0.96,right=0.96)\n",
    "plt.setp(ax.get_ymajorticklabels(),family='serif',fontsize=18)\n",
    "plt.setp(ax.get_xmajorticklabels(),family='serif',fontsize=18)\n",
    "ax.spines['right'].set_color('none')\n",
    "ax.spines['top'].set_color('none')\n",
    "ax.xaxis.set_ticks_position('bottom')\n",
    "ax.yaxis.set_ticks_position('left')\n",
    "ax.grid(True,linestyle=':',color='0.75')\n",
    "ax.set_axisbelow(True)\n",
    "\n",
    "plt.xlabel(r'Normalized Frequency $\\left(\\Omega = \\frac{\\omega}{\\omega_n}\\right)$',family='serif',fontsize=22,weight='bold',labelpad=5)\n",
    "plt.ylabel(r'$ \\left| \\frac{1}{1 - \\Omega^2} \\right|$',family='serif',fontsize=22,weight='bold',labelpad=15)\n",
    "plt.ylim(0.0,5.0)\n",
    "plt.yticks([0,1])\n",
    "plt.xticks([0,1],['0','$\\Omega = 1$'])\n",
    "\n",
    "plt.plot(wnorm,xnorm_mag,linewidth=2)\n",
    "\n",
    "# If you want to save the figure, uncomment the commands below. \n",
    "# The figure will be saved in the same directory as your IPython notebook.\n",
    "# Save the figure as a high-res pdf in the current folder\n",
    "# plt.savefig('MassSpring_SeismicFreqResp_NormMag.pdf',dpi=300)\n",
    "\n",
    "fig.set_size_inches(9,6) # Resize the figure for better display in the notebook"
   ]
  },
  {
   "cell_type": "markdown",
   "metadata": {},
   "source": [
    "<br>\n",
    "<hr class = \"style-end\">\n",
    "#### Licenses\n",
    "Code is licensed under a 3-clause BSD style license. See the licenses/LICENSE.md file.\n",
    "\n",
    "Other content is provided under a [Creative Commons Attribution-NonCommercial 4.0 International License](http://creativecommons.org/licenses/by-nc/4.0/), CC-BY-NC 4.0.\n",
    "\n"
   ]
  },
  {
   "cell_type": "code",
   "execution_count": 13,
   "metadata": {
    "collapsed": false
   },
   "outputs": [
    {
     "data": {
      "text/html": [
       "<style>\n",
       "    @font-face {\n",
       "        font-family: \"Computer Modern\";\n",
       "        src: url('http://9dbb143991406a7c655e-aa5fcb0a5a4ec34cff238a2d56ca4144.r56.cf5.rackcdn.com/cmunss.otf');\n",
       "    }\n",
       "    @font-face {\n",
       "        font-family: \"Computer Modern\";\n",
       "        font-weight: bold;\n",
       "        src: url('http://9dbb143991406a7c655e-aa5fcb0a5a4ec34cff238a2d56ca4144.r56.cf5.rackcdn.com/cmunsx.otf');\n",
       "    }\n",
       "    @font-face {\n",
       "        font-family: \"Computer Modern\";\n",
       "        font-style: oblique;\n",
       "        src: url('http://9dbb143991406a7c655e-aa5fcb0a5a4ec34cff238a2d56ca4144.r56.cf5.rackcdn.com/cmunsi.otf');\n",
       "    }\n",
       "    @font-face {\n",
       "        font-family: \"Computer Modern\";\n",
       "        font-weight: bold;\n",
       "        font-style: oblique;\n",
       "        src: url('http://9dbb143991406a7c655e-aa5fcb0a5a4ec34cff238a2d56ca4144.r56.cf5.rackcdn.com/cmunso.otf');\n",
       "    }\n",
       "    \n",
       "    div.cell{\n",
       "        max-width:1100px;\n",
       "        margin-left:auto;\n",
       "        margin-right:auto;\n",
       "    }\n",
       "    \n",
       "    h1 {\n",
       "        font-family: Computer Modern;\n",
       "    }\n",
       "    \n",
       "    h4{\n",
       "        margin-top:12px;\n",
       "        margin-bottom: 3px;\n",
       "       }\n",
       "\n",
       "    div.text_cell_render{\n",
       "        font-family: Computer Modern, \"Helvetica Neue\", Arial, Helvetica, Geneva, sans-serif;\n",
       "        line-height: 145%;\n",
       "        font-size: 130%;\n",
       "        max-width:1100px;\n",
       "        margin-left:auto;\n",
       "        margin-right:auto;\n",
       "    }\n",
       "    \n",
       "    .CodeMirror{\n",
       "            font-family: \"Source Code Pro\", source-code-pro, Consolas, monospace;\n",
       "    }\n",
       "    \n",
       "    .warning{\n",
       "        color: rgb( 240, 20, 20 )\n",
       "        }  \n",
       "    \n",
       "    hr.style-end {\n",
       "    border: 0;\n",
       "    height: 1px;\n",
       "    text-align: center;\n",
       "    background: #333;\n",
       "    background-image: -webkit-linear-gradient(left, #ccc, #333, #ccc); \n",
       "    background-image:    -moz-linear-gradient(left, #ccc, #333, #ccc); \n",
       "    background-image:     -ms-linear-gradient(left, #ccc, #333, #ccc); \n",
       "    background-image:      -o-linear-gradient(left, #ccc, #333, #ccc); \n",
       "    }\n",
       "\n",
       "    hr.style-end:after {\n",
       "    content: \"⚜\";\n",
       "    display: inline-block;\n",
       "    position: relative; \n",
       "    top: -0.5em;  \n",
       "    font-size: 1.5em;\n",
       "    padding: 0 0.25em;\n",
       "    background: white;\n",
       "    }\n",
       "    \n",
       "/*  Center figures, etc\n",
       "    .ui-wrapper {\n",
       "        margin-left: auto !important;\n",
       "        margin-right: auto !important;\n",
       "    }\n",
       " */\n",
       "    \n",
       "</style>\n",
       "<script>\n",
       "    MathJax.Hub.Config({\n",
       "                        TeX: {\n",
       "                           extensions: [\"AMSmath.js\"]\n",
       "                           },\n",
       "                tex2jax: {\n",
       "                    inlineMath: [ ['$','$'], [\"\\\\(\",\"\\\\)\"] ],\n",
       "                    displayMath: [ ['$$','$$'], [\"\\\\[\",\"\\\\]\"] ]\n",
       "                },\n",
       "                displayAlign: 'center', // Change this to 'center' to center equations.\n",
       "                \"HTML-CSS\": {\n",
       "                    styles: {'.MathJax_Display': {\"margin\": 4}}\n",
       "                }\n",
       "        });\n",
       "</script>\n"
      ],
      "text/plain": [
       "<IPython.core.display.HTML object>"
      ]
     },
     "execution_count": 13,
     "metadata": {},
     "output_type": "execute_result"
    }
   ],
   "source": [
    "# Ignore this cell - We just update the CSS to make the notebook look a little bit better and easier to read\n",
    "\n",
    "# Improve the notebook styling -- Run this first\n",
    "from IPython.core.display import HTML\n",
    "css_file = 'styling/CRAWLAB_IPythonNotebook.css'\n",
    "HTML(open(css_file, \"r\").read())"
   ]
  }
 ],
 "metadata": {
  "kernelspec": {
   "display_name": "Python 3",
   "language": "python",
   "name": "python3"
  },
  "language_info": {
   "codemirror_mode": {
    "name": "ipython",
    "version": 3
   },
   "file_extension": ".py",
   "mimetype": "text/x-python",
   "name": "python",
   "nbconvert_exporter": "python",
   "pygments_lexer": "ipython3",
   "version": "3.5.1"
  }
 },
 "nbformat": 4,
 "nbformat_minor": 0
}
