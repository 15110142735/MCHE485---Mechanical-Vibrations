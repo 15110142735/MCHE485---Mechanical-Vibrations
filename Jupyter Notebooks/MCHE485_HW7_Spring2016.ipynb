{
 "cells": [
  {
   "cell_type": "markdown",
   "metadata": {},
   "source": [
    "<h1 style=\"text-align:center\">Homework 7</h1>\n",
    "<h3 style=\"text-align:center\">MCHE 485: Mechanical Vibrations &mdash; Spring 2016</h3> \n",
    "<p style=\"text-align:center\">Dr. Joshua Vaughan <br>\n",
    "<a href=\"mailto:joshua.vaughan@louisiana.edu\">joshua.vaughan@louisiana.edu</a><br>\n",
    "http://www.ucs.louisiana.edu/~jev9637/   </p>"
   ]
  },
  {
   "cell_type": "code",
   "execution_count": 1,
   "metadata": {
    "collapsed": false
   },
   "outputs": [],
   "source": [
    "import numpy as np"
   ]
  },
  {
   "cell_type": "code",
   "execution_count": 2,
   "metadata": {
    "collapsed": false
   },
   "outputs": [],
   "source": [
    "# We want our plots to be displayed inline, not in a separate window\n",
    "%matplotlib inline \n",
    "\n",
    "# Import the plotting functions \n",
    "import matplotlib.pyplot as plt"
   ]
  },
  {
   "cell_type": "code",
   "execution_count": 3,
   "metadata": {
    "collapsed": false
   },
   "outputs": [],
   "source": [
    "# Let's also improve the printing of NumPy arrays.\n",
    "np.set_printoptions(precision=3, suppress=True)"
   ]
  },
  {
   "cell_type": "code",
   "execution_count": 4,
   "metadata": {
    "collapsed": true
   },
   "outputs": [],
   "source": [
    "# We'll use the scipy version of the linear algebra\n",
    "from scipy import linalg\n",
    "\n",
    "# Import the ODE solver for the simluations\n",
    "from scipy.integrate import odeint  "
   ]
  },
  {
   "cell_type": "markdown",
   "metadata": {},
   "source": [
    "## Problem 4.7"
   ]
  },
  {
   "cell_type": "code",
   "execution_count": 5,
   "metadata": {
    "collapsed": true
   },
   "outputs": [],
   "source": [
    "# Define the matrices\n",
    "m1 = 1.0\n",
    "m2 = 2.0\n",
    "\n",
    "k1 = 3.0 \n",
    "k2 = 2.0\n",
    "k3 = 4.0\n",
    "\n",
    "M = np.asarray([[m1, 0],\n",
    "                [0,  m2]])\n",
    "\n",
    "K = np.asarray([[k1 + k2, -k2],\n",
    "                [-k2,      k2 + k3]])"
   ]
  },
  {
   "cell_type": "code",
   "execution_count": 6,
   "metadata": {
    "collapsed": true
   },
   "outputs": [],
   "source": [
    "eigenvals, eigenvects = linalg.eigh(K, M)"
   ]
  },
  {
   "cell_type": "code",
   "execution_count": 7,
   "metadata": {
    "collapsed": false
   },
   "outputs": [
    {
     "name": "stdout",
     "output_type": "stream",
     "text": [
      "\n",
      "\n",
      "The resulting eigenalues are 2.27 and 5.73.\n",
      "\n",
      "\n",
      "So the two natrual frequencies are 1.51rad/s and 2.39rad/s.\n",
      "\n",
      "\n"
     ]
    }
   ],
   "source": [
    "print('\\n')\n",
    "print('The resulting eigenalues are {:.2f} and {:.2f}.'.format(eigenvals[0], eigenvals[1]))\n",
    "print('\\n')\n",
    "print('So the two natrual frequencies are {:.2f}rad/s and {:.2f}rad/s.'.format(np.sqrt(eigenvals[0]), np.sqrt(eigenvals[1])))\n",
    "print('\\n')"
   ]
  },
  {
   "cell_type": "code",
   "execution_count": 8,
   "metadata": {
    "collapsed": false
   },
   "outputs": [
    {
     "name": "stdout",
     "output_type": "stream",
     "text": [
      "\n",
      "\n",
      "The first eigenvector is [-0.46  -0.628].\n",
      "\n",
      "\n",
      "The second eigenvector is [-0.888  0.325].\n",
      "\n",
      "\n"
     ]
    }
   ],
   "source": [
    "print('\\n')\n",
    "print('The first eigenvector is ' + str(eigenvects[:,0]) + '.')\n",
    "print('\\n')\n",
    "print('The second eigenvector is ' + str(eigenvects[:,1]) + '.')\n",
    "print('\\n')"
   ]
  },
  {
   "cell_type": "markdown",
   "metadata": {},
   "source": [
    "Now, let's simluate the system reponse to the set of initial conditions given in the problem. We first define the equations of motion, then set up the remainder of the numerical ODE solution. Finally, we'll plot the response."
   ]
  },
  {
   "cell_type": "code",
   "execution_count": 9,
   "metadata": {
    "collapsed": true
   },
   "outputs": [],
   "source": [
    "# Define the equations of motion\n",
    "\n",
    "# Define the system as a series of 1st order ODEs (beginnings of state-space form)\n",
    "def eq_of_motion(w, t, p):\n",
    "    \"\"\"\n",
    "    Defines the differential equations for the coupled spring-mass system.\n",
    "\n",
    "    Arguments:\n",
    "        w :  vector of the state variables:\n",
    "                  w = [x1, x1_dot, x2, x2_dot]\n",
    "        t :  time\n",
    "        p :  vector of the parameters:\n",
    "                  p = [m1, m2, k1, k2, k3]\n",
    "    \"\"\"\n",
    "    x1, x1_dot, x2, x2_dot = w\n",
    "    m1, m2, k1, k2, k3 = p\n",
    "\n",
    "    # Create sysODE = (x1', x1_dot', x2', x2_dot')\n",
    "    sysODE = [x1_dot,\n",
    "             (-(k1 + k2) * x1 + k2 * x2) / m1,\n",
    "             x2_dot,\n",
    "             (k2 * x1 - (k2 + k3) * x2) / m2]\n",
    "    \n",
    "    return sysODE"
   ]
  },
  {
   "cell_type": "code",
   "execution_count": 10,
   "metadata": {
    "collapsed": true
   },
   "outputs": [],
   "source": [
    "# Set up simulation parameters \n",
    "\n",
    "# ODE solver parameters\n",
    "abserr = 1.0e-9\n",
    "relerr = 1.0e-9\n",
    "max_step = 0.01\n",
    "stoptime = 10.0\n",
    "numpoints = 10001\n",
    "\n",
    "# Create the time samples for the output of the ODE solver\n",
    "t = np.linspace(0.0, stoptime, numpoints)"
   ]
  },
  {
   "cell_type": "code",
   "execution_count": 11,
   "metadata": {
    "collapsed": true
   },
   "outputs": [],
   "source": [
    "# Initial conditions\n",
    "x1_init = 1.0                       # initial x1 position\n",
    "x1_dot_init = 0.0                   # initial x1 velocity\n",
    "x2_init = 0.0                       # initial x2 position\n",
    "x2_dot_init = 1.0                   # initial x2 velocity\n",
    "\n",
    "# Pack the parameters and initial conditions into arrays \n",
    "p = [m1, m2, k1, k2, k3]\n",
    "x0 = [x1_init, x1_dot_init, x2_init, x2_dot_init]\n",
    "\n",
    "# Call the ODE solver.\n",
    "resp = odeint(eq_of_motion, x0, t, args=(p,), atol=abserr, rtol=relerr,  hmax=max_step)"
   ]
  },
  {
   "cell_type": "markdown",
   "metadata": {},
   "source": [
    "Now, let's plot the response."
   ]
  },
  {
   "cell_type": "code",
   "execution_count": 12,
   "metadata": {
    "collapsed": false
   },
   "outputs": [
    {
     "data": {
      "image/png": "[encoded data removed]",
      "text/plain": [
       "<matplotlib.figure.Figure at 0x10d3a9048>"
      ]
     },
     "metadata": {},
     "output_type": "display_data"
    }
   ],
   "source": [
    "# Set the plot size - 3x2 aspect ratio is best\n",
    "fig = plt.figure(figsize=(6,4))\n",
    "ax = plt.gca()\n",
    "plt.subplots_adjust(bottom=0.17,left=0.17,top=0.96,right=0.96)\n",
    "\n",
    "# Change the axis units to serif\n",
    "plt.setp(ax.get_ymajorticklabels(),family='serif',fontsize=18)\n",
    "plt.setp(ax.get_xmajorticklabels(),family='serif',fontsize=18)\n",
    "\n",
    "ax.spines['right'].set_color('none')\n",
    "ax.spines['top'].set_color('none')\n",
    "\n",
    "ax.xaxis.set_ticks_position('bottom')\n",
    "ax.yaxis.set_ticks_position('left')\n",
    "\n",
    "# Turn on the plot grid and set appropriate linestyle and color\n",
    "ax.grid(True,linestyle=':',color='0.75')\n",
    "ax.set_axisbelow(True)\n",
    "\n",
    "# Define the X and Y axis labels\n",
    "plt.xlabel('Time (s)',family='serif',fontsize=22,weight='bold',labelpad=5)\n",
    "plt.ylabel('Position (m)',family='serif',fontsize=22,weight='bold',labelpad=10)\n",
    "\n",
    "plt.plot(t, resp[:,0], linewidth=2, linestyle='-', label=r'$x_1$')\n",
    "plt.plot(t, resp[:,2], linewidth=2, linestyle='--',label=r'$x_2$')\n",
    "\n",
    "# uncomment below and set limits if needed\n",
    "# plt.xlim(0,5)\n",
    "# plt.ylim(-1,1.35)\n",
    "# plt.yticks([-0.5,0,0.5,1.0],['$-x_0$','$0$','$x_0$','$2x_0$'])\n",
    "\n",
    "# Create the legend, then fix the fontsize\n",
    "leg = plt.legend(loc='upper right', fancybox=True)\n",
    "ltext  = leg.get_texts()\n",
    "plt.setp(ltext,family='serif',fontsize=18)\n",
    "\n",
    "# Adjust the page layout filling the page using the new tight_layout command\n",
    "plt.tight_layout(pad=0.5)\n",
    "\n",
    "# save the figure as a high-res pdf in the current folder\n",
    "# It's saved at the original 6x4 size\n",
    "# plt.savefig('MCHE485_Prob4p7_response.pdf')\n",
    "\n",
    "fig.set_size_inches(9, 6) # Resize the figure for better display in the notebook"
   ]
  },
  {
   "cell_type": "markdown",
   "metadata": {},
   "source": [
    "## Problem 4.9"
   ]
  },
  {
   "cell_type": "code",
   "execution_count": 13,
   "metadata": {
    "collapsed": true
   },
   "outputs": [],
   "source": [
    "# Define the matrices\n",
    "m1 = 2.0  # kg\n",
    "m2 = 2.0  # kg\n",
    "\n",
    "l1 = 1.0  # m \n",
    "l2 = 1.5  # m\n",
    "\n",
    "g = 9.81  # m/2^2\n",
    "\n",
    "M = np.asarray([[m1 + m2, 0.5 * m2 * l1 * l2],\n",
    "                [0.5 * m2 * l1 * l2,  m2 * l2**2]])\n",
    "\n",
    "K = np.asarray([[(m1 + m2) * g * l1,           0],\n",
    "                [0,                  m2 * g * l2]])"
   ]
  },
  {
   "cell_type": "code",
   "execution_count": 14,
   "metadata": {
    "collapsed": true
   },
   "outputs": [],
   "source": [
    "eigenvals, eigenvects = linalg.eigh(K, M)"
   ]
  },
  {
   "cell_type": "code",
   "execution_count": 15,
   "metadata": {
    "collapsed": false,
    "scrolled": true
   },
   "outputs": [
    {
     "name": "stdout",
     "output_type": "stream",
     "text": [
      "\n",
      "\n",
      "The resulting eigenalues are 5.61 and 13.08.\n",
      "\n",
      "\n",
      "So the two natrual frequencies are 2.37rad/s and 3.62rad/s.\n",
      "\n",
      "\n"
     ]
    }
   ],
   "source": [
    "print('\\n')\n",
    "print('The resulting eigenalues are {:.2f} and {:.2f}.'.format(eigenvals[0], eigenvals[1]))\n",
    "print('\\n')\n",
    "print('So the two natrual frequencies are {:.2f}rad/s and {:.2f}rad/s.'.format(np.sqrt(eigenvals[0]), np.sqrt(eigenvals[1])))\n",
    "print('\\n')"
   ]
  },
  {
   "cell_type": "code",
   "execution_count": 16,
   "metadata": {
    "collapsed": false
   },
   "outputs": [
    {
     "name": "stdout",
     "output_type": "stream",
     "text": [
      "\n",
      "\n",
      "The first eigenvector is [-0.189 -0.378].\n",
      "\n",
      "\n",
      "The second eigenvector is [-0.5    0.333].\n",
      "\n",
      "\n"
     ]
    }
   ],
   "source": [
    "print('\\n')\n",
    "print('The first eigenvector is ' + str(eigenvects[:,0]) + '.')\n",
    "print('\\n')\n",
    "print('The second eigenvector is ' + str(eigenvects[:,1]) + '.')\n",
    "print('\\n')"
   ]
  },
  {
   "cell_type": "markdown",
   "metadata": {},
   "source": [
    "## Problem 4.13"
   ]
  },
  {
   "cell_type": "code",
   "execution_count": 17,
   "metadata": {
    "collapsed": true
   },
   "outputs": [],
   "source": [
    "# Define the matrices\n",
    "m1 = 1.0  # gg\n",
    "m2 = 1.0  # kg\n",
    "m3 = 1.0  # kg\n",
    "\n",
    "k = 2.0   # N/m\n",
    "l = 1.0   # m\n",
    "\n",
    "\n",
    "M = np.asarray([[m1 + m2 + m3, 0],\n",
    "                [0,  (m1 + m3) * l**2]])\n",
    "\n",
    "K = np.asarray([[2 * k, 0],\n",
    "                [0,      2 * k * l**2]])"
   ]
  },
  {
   "cell_type": "code",
   "execution_count": 18,
   "metadata": {
    "collapsed": true
   },
   "outputs": [],
   "source": [
    "eigenvals, eigenvects = linalg.eigh(K, M)"
   ]
  },
  {
   "cell_type": "code",
   "execution_count": 19,
   "metadata": {
    "collapsed": false
   },
   "outputs": [
    {
     "name": "stdout",
     "output_type": "stream",
     "text": [
      "\n",
      "\n",
      "The resulting eigenalues are 1.33 and 2.00.\n",
      "\n",
      "\n",
      "So the two natrual frequencies are 1.15rad/s and 1.41rad/s.\n",
      "\n",
      "\n"
     ]
    }
   ],
   "source": [
    "print('\\n')\n",
    "print('The resulting eigenalues are {:.2f} and {:.2f}.'.format(eigenvals[0], eigenvals[1]))\n",
    "print('\\n')\n",
    "print('So the two natrual frequencies are {:.2f}rad/s and {:.2f}rad/s.'.format(np.sqrt(eigenvals[0]), np.sqrt(eigenvals[1])))\n",
    "print('\\n')"
   ]
  },
  {
   "cell_type": "code",
   "execution_count": 20,
   "metadata": {
    "collapsed": false
   },
   "outputs": [
    {
     "name": "stdout",
     "output_type": "stream",
     "text": [
      "\n",
      "\n",
      "The first eigenvector is [ 0.577  0.   ].\n",
      "\n",
      "\n",
      "The second eigenvector is [ 0.     0.707].\n",
      "\n",
      "\n"
     ]
    }
   ],
   "source": [
    "print('\\n')\n",
    "print('The first eigenvector is ' + str(eigenvects[:,0]) + '.')\n",
    "print('\\n')\n",
    "print('The second eigenvector is ' + str(eigenvects[:,1]) + '.')\n",
    "print('\\n')"
   ]
  },
  {
   "cell_type": "markdown",
   "metadata": {},
   "source": [
    "## Problem 4.28"
   ]
  },
  {
   "cell_type": "code",
   "execution_count": 21,
   "metadata": {
    "collapsed": false
   },
   "outputs": [],
   "source": [
    "# Define the matrices\n",
    "I1 = 10.0\n",
    "I2 = 30.0\n",
    "\n",
    "k1 = 800000 \n",
    "k2 = 1200000\n",
    "k3 = 500000\n",
    "\n",
    "M = np.asarray([[I1, 0],\n",
    "                [0,  I2]])\n",
    "\n",
    "K = np.asarray([[k1 + k2, -k2],\n",
    "                [-k2,      k2 + k3]])"
   ]
  },
  {
   "cell_type": "code",
   "execution_count": 22,
   "metadata": {
    "collapsed": false
   },
   "outputs": [],
   "source": [
    "eigenvals, eigenvects = linalg.eigh(K, M)"
   ]
  },
  {
   "cell_type": "markdown",
   "metadata": {},
   "source": [
    "\n",
    "The linalg.eigh function returns two arrays, one of the eigenvalues and one of the eigenvectors. The eigenvalues are the square of the two natural frequencies. The eigenvectors are returned in normalized form, with each \"column\" of the array representing an eigenvector.\n"
   ]
  },
  {
   "cell_type": "code",
   "execution_count": 23,
   "metadata": {
    "collapsed": false
   },
   "outputs": [
    {
     "name": "stdout",
     "output_type": "stream",
     "text": [
      "\n",
      "\n",
      "The resulting eigenalues are 28653.29 and 228013.38.\n",
      "\n",
      "\n",
      "So the two natrual frequencies are 169.27rad/s and 477.51rad/s.\n",
      "\n",
      "\n"
     ]
    }
   ],
   "source": [
    "print('\\n')\n",
    "print('The resulting eigenalues are {:.2f} and {:.2f}.'.format(eigenvals[0], eigenvals[1]))\n",
    "print('\\n')\n",
    "print('So the two natrual frequencies are {:.2f}rad/s and {:.2f}rad/s.'.format(np.sqrt(eigenvals[0]), np.sqrt(eigenvals[1])))\n",
    "print('\\n')"
   ]
  },
  {
   "cell_type": "code",
   "execution_count": 24,
   "metadata": {
    "collapsed": false
   },
   "outputs": [
    {
     "name": "stdout",
     "output_type": "stream",
     "text": [
      "\n",
      "\n",
      "The first eigenvector is [-0.119 -0.169].\n",
      "\n",
      "\n",
      "The second eigenvector is [-0.293  0.068].\n",
      "\n",
      "\n"
     ]
    }
   ],
   "source": [
    "print('\\n')\n",
    "print('The first eigenvector is ' + str(eigenvects[:,0]) + '.')\n",
    "print('\\n')\n",
    "print('The second eigenvector is ' + str(eigenvects[:,1]) + '.')\n",
    "print('\\n')"
   ]
  },
  {
   "cell_type": "markdown",
   "metadata": {},
   "source": [
    "## Problem 4.29\n",
    "We'll loop through the presribed range for $I_2$ determining the eigenvalues and eigenvectors along the way. Then, we'll plot them."
   ]
  },
  {
   "cell_type": "code",
   "execution_count": 25,
   "metadata": {
    "collapsed": false
   },
   "outputs": [],
   "source": [
    "I2_range = np.linspace(0.01, 60, 601) # Create the range for I2, 0+ - 60 with 601 data points\n",
    "\n",
    "eigval_range = np.zeros((601, 2)) # Create an array to fill with teh calculated eigenvalues\n",
    "\n",
    "# create arrays to fill with the two eigenvectors\n",
    "eigvect1_range = np.zeros((2, 601))\n",
    "eigvect2_range = np.zeros((2, 601))\n",
    "\n",
    "for index, I2 in enumerate(I2_range):\n",
    "    M = np.asarray([[I1, 0],\n",
    "                [0,  I2]])\n",
    "    \n",
    "    # K doens't change from the original definition, so we don't need to include here\n",
    "    # So, I've commented it out.\n",
    "    # It's still included as a comment for reference\n",
    "    #  K = np.asarray([[k1 + k2, -k2],\n",
    "    #                 [-k2,      k2 + k3]])\n",
    "    \n",
    "    # Solve for the eigenvalues and eigenvectors for the current I2 value\n",
    "    eigenvals, eigenvects = linalg.eigh(K, M)\n",
    "    \n",
    "    # reshape the returned eigenvalues for storage in the array\n",
    "    eigval_range[index, :] = eigenvals.reshape(1,2)\n",
    "    \n",
    "    # Now, fill the corret places on the eigenvalue arrays\n",
    "    eigvect1_range[:, index] = eigenvects[:, 0]\n",
    "    eigvect2_range[:, index] = eigenvects[:, 1]"
   ]
  },
  {
   "cell_type": "code",
   "execution_count": 26,
   "metadata": {
    "collapsed": false
   },
   "outputs": [
    {
     "data": {
      "image/png": "[encoded data removed]",
      "text/plain": [
       "<matplotlib.figure.Figure at 0x10fbcefd0>"
      ]
     },
     "metadata": {},
     "output_type": "display_data"
    }
   ],
   "source": [
    "# Set the plot size - 3x2 aspect ratio is best\n",
    "fig = plt.figure(figsize=(6, 4))\n",
    "ax = plt.gca()\n",
    "plt.subplots_adjust(bottom=0.17, left=0.17, top=0.96, right=0.96)\n",
    "\n",
    "# Change the axis units to serif\n",
    "plt.setp(ax.get_ymajorticklabels(), family='serif', fontsize=18)\n",
    "plt.setp(ax.get_xmajorticklabels(), family='serif', fontsize=18)\n",
    "\n",
    "ax.spines['right'].set_color('none')\n",
    "ax.spines['top'].set_color('none')\n",
    "\n",
    "ax.xaxis.set_ticks_position('bottom')\n",
    "ax.yaxis.set_ticks_position('left')\n",
    "\n",
    "# Turn on the plot grid and set appropriate linestyle and color\n",
    "ax.grid(True,linestyle=':', color='0.75')\n",
    "ax.set_axisbelow(True)\n",
    "\n",
    "# Define the X and Y axis labels\n",
    "plt.xlabel(r'$I_2$ ($kg \\ m^2$)', family='serif', fontsize=22, weight='bold', labelpad=5)\n",
    "plt.ylabel(r'Eigenvalue $\\left( (rad/s)^2 \\right)$', family='serif', fontsize=22, weight='bold', labelpad=10)\n",
    "\n",
    "plt.plot(I2_range, eigval_range[:, 0], linewidth=2, linestyle='-', label=r'$\\omega_1$')\n",
    "plt.plot(I2_range, eigval_range[:, 1], linewidth=2, linestyle='--', label=r'$\\omega_2$')\n",
    "\n",
    "# uncomment below and set limits if needed\n",
    "# plt.xlim(0, 5)\n",
    "plt.ylim(0, 10 * np.max(eigval_range[:,0]))\n",
    "\n",
    "# Create the legend, then fix the fontsize\n",
    "leg = plt.legend(loc='upper right', ncol = 1, fancybox=True)\n",
    "ltext  = leg.get_texts()\n",
    "plt.setp(ltext, family='serif', fontsize=20)\n",
    "\n",
    "# Adjust the page layout filling the page using the new tight_layout command\n",
    "plt.tight_layout(pad=0.5)\n",
    "\n",
    "# Uncomment to save the figure as a high-res pdf in the current folder\n",
    "# It's saved at the original 6x4 size\n",
    "# plt.savefig('MCHE485_Prob4p29_eigenvals.pdf')\n",
    "\n",
    "fig.set_size_inches(9, 6) # Resize the figure for better display in the notebook"
   ]
  },
  {
   "cell_type": "code",
   "execution_count": 27,
   "metadata": {
    "collapsed": false
   },
   "outputs": [
    {
     "data": {
      "image/png": "[encoded data removed]",
      "text/plain": [
       "<matplotlib.figure.Figure at 0x10fdf8358>"
      ]
     },
     "metadata": {},
     "output_type": "display_data"
    }
   ],
   "source": [
    "# Set the plot size - 3x2 aspect ratio is best\n",
    "fig = plt.figure(figsize=(6, 4))\n",
    "ax = plt.gca()\n",
    "plt.subplots_adjust(bottom=0.17, left=0.17, top=0.96, right=0.96)\n",
    "\n",
    "# Change the axis units to serif\n",
    "plt.setp(ax.get_ymajorticklabels(), family='serif', fontsize=18)\n",
    "plt.setp(ax.get_xmajorticklabels(), family='serif', fontsize=18)\n",
    "\n",
    "ax.spines['right'].set_color('none')\n",
    "ax.spines['top'].set_color('none')\n",
    "\n",
    "ax.xaxis.set_ticks_position('bottom')\n",
    "ax.yaxis.set_ticks_position('left')\n",
    "\n",
    "# Turn on the plot grid and set appropriate linestyle and color\n",
    "ax.grid(True,linestyle=':', color='0.75')\n",
    "ax.set_axisbelow(True)\n",
    "\n",
    "# Define the X and Y axis labels\n",
    "plt.xlabel(r'$I_2$ ($kg \\ m^2$)', family='serif', fontsize=22, weight='bold', labelpad=5)\n",
    "plt.ylabel(r'Eigenvector Values', family='serif', fontsize=22, weight='bold', labelpad=10)\n",
    "\n",
    "plt.plot(I2_range, eigvect1_range[0, :], linewidth=2, linestyle='-', label=r'$\\bar{X}_{11}$')\n",
    "plt.plot(I2_range, eigvect1_range[1, :], linewidth=2, linestyle='--', label=r'$\\bar{X}_{12}$')\n",
    "\n",
    "# uncomment below and set limits if needed\n",
    "# plt.xlim(0, 5)\n",
    "plt.ylim(-0.35, 0.0)\n",
    "\n",
    "# Create the legend, then fix the fontsize\n",
    "leg = plt.legend(loc='upper right', ncol = 2, fancybox=True)\n",
    "ltext  = leg.get_texts()\n",
    "plt.setp(ltext, family='serif', fontsize=20)\n",
    "\n",
    "# Adjust the page layout filling the page using the new tight_layout command\n",
    "plt.tight_layout(pad=0.5)\n",
    "\n",
    "# Uncomment to save the figure as a high-res pdf in the current folder\n",
    "# It's saved at the original 6x4 size\n",
    "# plt.savefig('MCHE485_Prob4p29_eigenvect1.pdf')\n",
    "\n",
    "fig.set_size_inches(9, 6) # Resize the figure for better display in the notebook"
   ]
  },
  {
   "cell_type": "code",
   "execution_count": 28,
   "metadata": {
    "collapsed": false
   },
   "outputs": [
    {
     "data": {
      "image/png": "[encoded data removed]",
      "text/plain": [
       "<matplotlib.figure.Figure at 0x10ff914a8>"
      ]
     },
     "metadata": {},
     "output_type": "display_data"
    }
   ],
   "source": [
    "# Set the plot size - 3x2 aspect ratio is best\n",
    "fig = plt.figure(figsize=(6, 4))\n",
    "ax = plt.gca()\n",
    "plt.subplots_adjust(bottom=0.17, left=0.17, top=0.96, right=0.96)\n",
    "\n",
    "# Change the axis units to serif\n",
    "plt.setp(ax.get_ymajorticklabels(), family='serif', fontsize=18)\n",
    "plt.setp(ax.get_xmajorticklabels(), family='serif', fontsize=18)\n",
    "\n",
    "ax.spines['right'].set_color('none')\n",
    "ax.spines['top'].set_color('none')\n",
    "\n",
    "ax.xaxis.set_ticks_position('bottom')\n",
    "ax.yaxis.set_ticks_position('left')\n",
    "\n",
    "# Turn on the plot grid and set appropriate linestyle and color\n",
    "ax.grid(True,linestyle=':', color='0.75')\n",
    "ax.set_axisbelow(True)\n",
    "\n",
    "# Define the X and Y axis labels\n",
    "plt.xlabel(r'$I_2$ ($kg \\ m^2$)', family='serif', fontsize=22, weight='bold', labelpad=5)\n",
    "plt.ylabel(r'Eigenvector Values', family='serif', fontsize=22, weight='bold', labelpad=10)\n",
    "\n",
    "plt.plot(I2_range, eigvect2_range[0, :], linewidth=2, linestyle='-', label=r'$\\bar{X}_{21}$')\n",
    "plt.plot(I2_range, eigvect2_range[1, :], linewidth=2, linestyle='--', label=r'$\\bar{X}_{22}$')\n",
    "\n",
    "# uncomment below and set limits if needed\n",
    "# plt.xlim(0, 5)\n",
    "plt.ylim(-1, 5)\n",
    "\n",
    "# Create the legend, then fix the fontsize\n",
    "leg = plt.legend(loc='upper right', ncol = 2, fancybox=True)\n",
    "ltext  = leg.get_texts()\n",
    "plt.setp(ltext, family='serif', fontsize=20)\n",
    "\n",
    "# Adjust the page layout filling the page using the new tight_layout command\n",
    "plt.tight_layout(pad=0.5)\n",
    "\n",
    "# Uncomment to save the figure as a high-res pdf in the current folder\n",
    "# It's saved at the original 6x4 size\n",
    "# plt.savefig('MCHE485_Prob4p29_eigenvect2.pdf')\n",
    "\n",
    "fig.set_size_inches(9, 6) # Resize the figure for better display in the notebook"
   ]
  },
  {
   "cell_type": "markdown",
   "metadata": {},
   "source": [
    "## Problem 4.40"
   ]
  },
  {
   "cell_type": "code",
   "execution_count": 29,
   "metadata": {
    "collapsed": false
   },
   "outputs": [],
   "source": [
    "# Define the matrices\n",
    "m1 = 0.1  # kg\n",
    "m2 = 0.2  # kg\n",
    "m3 = 0.1  # kg\n",
    "\n",
    "k1 = 1000 # N/m\n",
    "k2 = 2000 # N/m\n",
    "k3 = 1000 # N/m\n",
    "\n",
    "M = np.asarray([[m1,  0,   0],\n",
    "                [m2, m2,   0],\n",
    "                [m3, m3,  m3]])\n",
    "\n",
    "K = np.asarray([[k1, -k2,   0],\n",
    "                [0,   k2, -k3],\n",
    "                [0,    0,  k3]])"
   ]
  },
  {
   "cell_type": "code",
   "execution_count": 30,
   "metadata": {
    "collapsed": false
   },
   "outputs": [],
   "source": [
    "eigenvals, eigenvects = linalg.eig(K, M)"
   ]
  },
  {
   "cell_type": "markdown",
   "metadata": {},
   "source": [
    "We needed to call ```eig``` not the usual, faster ```eigh``` due to the nature of the matrices in this problem. The funciton ```eigh``` returns real eigenvalues, whereas ```eig``` is not guaranteed to. So, we need to check the realness of the returned eigenvalues and get the appropriate components."
   ]
  },
  {
   "cell_type": "code",
   "execution_count": 31,
   "metadata": {
    "collapsed": true
   },
   "outputs": [],
   "source": [
    "# After checking (manually) that the returned values had not imaginary compoenent, \n",
    "# we can just take the absolute value of the array. This takes the absolute\n",
    "# value of each component.\n",
    "eigenvals = np.abs(eigenvals)"
   ]
  },
  {
   "cell_type": "code",
   "execution_count": 32,
   "metadata": {
    "collapsed": false
   },
   "outputs": [
    {
     "name": "stdout",
     "output_type": "stream",
     "text": [
      "\n",
      "\n",
      "The resulting eigenalues are 38984.82, 1805.13, and 14210.05.\n",
      "\n",
      "\n",
      "So the natrual frequencies are 197.45rad/s, 42.49rad/s, and 119.21rad/s.\n",
      "\n",
      "\n"
     ]
    }
   ],
   "source": [
    "print('\\n')\n",
    "print('The resulting eigenalues are {:.2f}, {:.2f}, and {:.2f}.'.format(eigenvals[0], eigenvals[1], eigenvals[2]))\n",
    "print('\\n')\n",
    "print('So the natrual frequencies are {:.2f}rad/s, {:.2f}rad/s, and {:.2f}rad/s.'.format(np.sqrt(eigenvals[0]), np.sqrt(eigenvals[1]), np.sqrt(eigenvals[2])))\n",
    "print('\\n')"
   ]
  },
  {
   "cell_type": "code",
   "execution_count": 33,
   "metadata": {
    "collapsed": false
   },
   "outputs": [
    {
     "name": "stdout",
     "output_type": "stream",
     "text": [
      "\n",
      "\n",
      "The first eigenvector is [-0.537  0.779 -0.325].\n",
      "\n",
      "\n",
      "The second eigenvector is [-0.889 -0.364 -0.276].\n",
      "\n",
      "\n",
      "The third eigenvector is [-0.35   0.074  0.934].\n",
      "\n",
      "\n"
     ]
    }
   ],
   "source": [
    "print('\\n')\n",
    "print('The first eigenvector is ' + str(eigenvects[:,0]) + '.')\n",
    "print('\\n')\n",
    "print('The second eigenvector is ' + str(eigenvects[:,1]) + '.')\n",
    "print('\\n')\n",
    "print('The third eigenvector is ' + str(eigenvects[:,2]) + '.')\n",
    "print('\\n')"
   ]
  },
  {
   "cell_type": "markdown",
   "metadata": {},
   "source": [
    "<hr class = \"style-end\">"
   ]
  },
  {
   "cell_type": "markdown",
   "metadata": {},
   "source": [
    "#### Licenses\n",
    "Code is licensed under a 3-clause BSD style license. See the licenses/LICENSE.md file.\n",
    "\n",
    "Other content is provided under a [Creative Commons Attribution-NonCommercial 4.0 International License](http://creativecommons.org/licenses/by-nc/4.0/), CC-BY-NC 4.0.\n",
    "\n"
   ]
  },
  {
   "cell_type": "code",
   "execution_count": 34,
   "metadata": {
    "collapsed": false
   },
   "outputs": [
    {
     "data": {
      "text/html": [
       "<style>\n",
       "    @font-face {\n",
       "        font-family: \"Computer Modern\";\n",
       "        src: url('http://9dbb143991406a7c655e-aa5fcb0a5a4ec34cff238a2d56ca4144.r56.cf5.rackcdn.com/cmunss.otf');\n",
       "    }\n",
       "    @font-face {\n",
       "        font-family: \"Computer Modern\";\n",
       "        font-weight: bold;\n",
       "        src: url('http://9dbb143991406a7c655e-aa5fcb0a5a4ec34cff238a2d56ca4144.r56.cf5.rackcdn.com/cmunsx.otf');\n",
       "    }\n",
       "    @font-face {\n",
       "        font-family: \"Computer Modern\";\n",
       "        font-style: oblique;\n",
       "        src: url('http://9dbb143991406a7c655e-aa5fcb0a5a4ec34cff238a2d56ca4144.r56.cf5.rackcdn.com/cmunsi.otf');\n",
       "    }\n",
       "    @font-face {\n",
       "        font-family: \"Computer Modern\";\n",
       "        font-weight: bold;\n",
       "        font-style: oblique;\n",
       "        src: url('http://9dbb143991406a7c655e-aa5fcb0a5a4ec34cff238a2d56ca4144.r56.cf5.rackcdn.com/cmunso.otf');\n",
       "    }\n",
       "    \n",
       "    div.cell{\n",
       "        max-width:1100px;\n",
       "        margin-left:auto;\n",
       "        margin-right:auto;\n",
       "    }\n",
       "    \n",
       "    h1 {\n",
       "        font-family: Computer Modern;\n",
       "    }\n",
       "    \n",
       "    h4{\n",
       "        margin-top:12px;\n",
       "        margin-bottom: 3px;\n",
       "       }\n",
       "\n",
       "    div.text_cell_render{\n",
       "        font-family: Computer Modern, \"Helvetica Neue\", Arial, Helvetica, Geneva, sans-serif;\n",
       "        line-height: 145%;\n",
       "        font-size: 130%;\n",
       "        max-width:1100px;\n",
       "        margin-left:auto;\n",
       "        margin-right:auto;\n",
       "    }\n",
       "    \n",
       "    .CodeMirror{\n",
       "            font-family: \"Source Code Pro\", source-code-pro, Consolas, monospace;\n",
       "    }\n",
       "    \n",
       "    .warning{\n",
       "        color: rgb( 240, 20, 20 )\n",
       "        }  \n",
       "    \n",
       "    hr.style-end {\n",
       "    border: 0;\n",
       "    height: 1px;\n",
       "    text-align: center;\n",
       "    background: #333;\n",
       "    background-image: -webkit-linear-gradient(left, #ccc, #333, #ccc); \n",
       "    background-image:    -moz-linear-gradient(left, #ccc, #333, #ccc); \n",
       "    background-image:     -ms-linear-gradient(left, #ccc, #333, #ccc); \n",
       "    background-image:      -o-linear-gradient(left, #ccc, #333, #ccc); \n",
       "    }\n",
       "\n",
       "    hr.style-end:after {\n",
       "    content: \"⚜\";\n",
       "    display: inline-block;\n",
       "    position: relative; \n",
       "    top: -0.5em;  \n",
       "    font-size: 1.5em;\n",
       "    padding: 0 0.25em;\n",
       "    background: white;\n",
       "    }\n",
       "    \n",
       "/*  Center figures, etc\n",
       "    .ui-wrapper {\n",
       "        margin-left: auto !important;\n",
       "        margin-right: auto !important;\n",
       "    }\n",
       " */\n",
       "    \n",
       "</style>\n",
       "<script>\n",
       "    MathJax.Hub.Config({\n",
       "                        TeX: {\n",
       "                           extensions: [\"AMSmath.js\"]\n",
       "                           },\n",
       "                tex2jax: {\n",
       "                    inlineMath: [ ['$','$'], [\"\\\\(\",\"\\\\)\"] ],\n",
       "                    displayMath: [ ['$$','$$'], [\"\\\\[\",\"\\\\]\"] ]\n",
       "                },\n",
       "                displayAlign: 'center', // Change this to 'center' to center equations.\n",
       "                \"HTML-CSS\": {\n",
       "                    styles: {'.MathJax_Display': {\"margin\": 4}}\n",
       "                }\n",
       "        });\n",
       "</script>\n"
      ],
      "text/plain": [
       "<IPython.core.display.HTML object>"
      ]
     },
     "execution_count": 34,
     "metadata": {},
     "output_type": "execute_result"
    }
   ],
   "source": [
    "# Ignore this cell - We just update the CSS to make the notebook look a little bit better and easier to read\n",
    "\n",
    "# Improve the notebook styling -- Run this first\n",
    "from IPython.core.display import HTML\n",
    "css_file = 'styling/CRAWLAB_IPythonNotebook.css'\n",
    "HTML(open(css_file, \"r\").read())"
   ]
  }
 ],
 "metadata": {
  "kernelspec": {
   "display_name": "Python 3",
   "language": "python",
   "name": "python3"
  },
  "language_info": {
   "codemirror_mode": {
    "name": "ipython",
    "version": 3
   },
   "file_extension": ".py",
   "mimetype": "text/x-python",
   "name": "python",
   "nbconvert_exporter": "python",
   "pygments_lexer": "ipython3",
   "version": "3.5.1"
  }
 },
 "nbformat": 4,
 "nbformat_minor": 0
}
