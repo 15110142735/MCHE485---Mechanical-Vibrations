{
 "cells": [
  {
   "cell_type": "markdown",
   "metadata": {},
   "source": [
    "<h1 style=\"text-align:center\">Undamped Two-mass-spring System<br>Eigenvalue Problem &amp; Free Vibration</h1>\n",
    "<h3 style=\"text-align:center\">MCHE 485: Mechanical Vibrations</h3> \n",
    "<p style=\"text-align:center\">Dr. Joshua Vaughan <br>\n",
    "<a href=\"mailto:joshua.vaughan@louisiana.edu\">joshua.vaughan@louisiana.edu</a><br>\n",
    "http://www.ucs.louisiana.edu/~jev9637/   </p>"
   ]
  },
  {
   "cell_type": "markdown",
   "metadata": {},
   "source": [
    "<p style=\"text-align:center\">\n",
    "\t<img src=\"http://shared.crawlab.org/TwoMass_3spring.png\" alt=\"A Two-Mass-Spring-Damper System\" width=50%/></a><br>\n",
    "    <strong> Figure 1: A Two-Mass-Spring System</strong>\n",
    "</p>\n",
    "\n",
    "This notebook demonstrates the free-vibration response and the eigenvalue/eigenvector problem using a two-mass-spring system shown in Figure 1. We'll just look at one example set of parameters. The same techniques apply for other parameters and for larger matrices. \n",
    "\n",
    "The equations of motion for the system are:\n",
    "\n",
    "$ \\quad m_1 \\ddot{x}_1 + (k_1+k_2)x_1 - k_2 x_2 = 0 $\n",
    "\n",
    "$ \\quad m_2 \\ddot{x}_2 - k_2 x_1 + (k_2 + k_3)x_2 = 0 $\n",
    "\n",
    "We could also write these equations in matrix form:\n",
    "\n",
    "$ \\quad \\begin{bmatrix}m_1 & 0 \\\\ 0 & m_2\\end{bmatrix}\\begin{bmatrix}\\ddot{x}_1 \\\\ \\ddot{x}_2\\end{bmatrix} +  \\begin{bmatrix}k_1 + k_2 & -k_2 \\\\ -k_2 & k_2 + k_3\\end{bmatrix}\\begin{bmatrix}x_1 \\\\ x_2\\end{bmatrix} = \\begin{bmatrix}0 \\\\ 0\\end{bmatrix}$\n",
    "\n",
    "Define\n",
    "\n",
    "$ \\quad M = \\begin{bmatrix}m_1 & 0 \\\\ 0 & m_2\\end{bmatrix} $\n",
    "\n",
    "and \n",
    "\n",
    "$ \\quad K = \\begin{bmatrix}k_1 + k_2 & -k_2 \\\\ -k_2 & k_2 + k_3\\end{bmatrix} $\n",
    "\n",
    "For information on how to obtain these equations, you can see the lectures at the [class website](http://www.ucs.louisiana.edu/~jev9637/MCHE485.html).\n",
    "\n",
    "We'll use the [Scipy version of the linear algebra module](http://docs.scipy.org/doc/scipy-0.13.0/reference/generated/scipy.linalg.eigh.html). It allows us to solve the \"general\" eignevalue problem."
   ]
  },
  {
   "cell_type": "code",
   "execution_count": 1,
   "metadata": {
    "collapsed": true
   },
   "outputs": [],
   "source": [
    "# We'll use the scipy version of the linear algebra\n",
    "from scipy import linalg\n",
    "\n",
    "\n",
    "import numpy as np                        # Grab all of the NumPy functions with nickname np\n",
    "\n",
    "from scipy.integrate import odeint        # We also need to import odeint for the simluations\n",
    "from scipy import linalg                  # We'll use linalg for the eigenvalue problems"
   ]
  },
  {
   "cell_type": "code",
   "execution_count": 2,
   "metadata": {
    "collapsed": true
   },
   "outputs": [],
   "source": [
    "# We want our plots to be displayed inline, not in a separate window\n",
    "%matplotlib inline \n",
    "\n",
    "import matplotlib.pyplot as plt"
   ]
  },
  {
   "cell_type": "code",
   "execution_count": 3,
   "metadata": {
    "collapsed": true
   },
   "outputs": [],
   "source": [
    "# Define the system as a series of 1st order ODEs (beginnings of state-space form)\n",
    "def eq_of_motion(w, t, p):\n",
    "    \"\"\"\n",
    "    Defines the differential equations for the coupled spring-mass system.\n",
    "\n",
    "    Arguments:\n",
    "        w :  vector of the state variables:\n",
    "                  w = [x1, x1_dot, x2, x2_dot]\n",
    "        t :  time\n",
    "        p :  vector of the parameters:\n",
    "                  p = [m1, m2, k1, k2, k3]\n",
    "    \"\"\"\n",
    "    x1, x1_dot, x2, x2_dot = w\n",
    "    m1, m2, k1, k2, k3 = p\n",
    "\n",
    "    # Create sysODE = (x1', x1_dot', x2', x2_dot'):\n",
    "    sysODE = [x1_dot,\n",
    "             (-(k1 + k2) * x1 + k2 * x2) / m1,\n",
    "             x2_dot,\n",
    "             (k2 * x1 - (k2 + k3) * x2) / m2]\n",
    "              \n",
    "    return sysODE"
   ]
  },
  {
   "cell_type": "code",
   "execution_count": 4,
   "metadata": {
    "collapsed": true
   },
   "outputs": [],
   "source": [
    "# Define the system parameters\n",
    "m1 = 1.0                # kg\n",
    "m2 = 1.0                # kg\n",
    "k1 = (2 * np.pi)**2     # N/m - chosen to make the low mode natural frequency =1Hz\n",
    "k2 = (2 * np.pi)**2     # N/m - chosen to make the low mode natural frequency =1Hz\n",
    "k3 = (2 * np.pi)**2     # N/m - chosen to make the low mode natural frequency =1Hz"
   ]
  },
  {
   "cell_type": "markdown",
   "metadata": {},
   "source": [
    "## The Eigenvalue Problem\n",
    "For the undamped proble we can use $M$ and $K$ directly to solve:\n",
    "\n",
    "$ \\quad \\left[K - \\omega^2 M\\right]\\bar{X} = 0 $ \n",
    "\n",
    "for $\\bar{X}$."
   ]
  },
  {
   "cell_type": "code",
   "execution_count": 5,
   "metadata": {},
   "outputs": [],
   "source": [
    "# Define the matrices\n",
    "M = np.asarray([[m1, 0],\n",
    "                [0,  m2]])\n",
    "\n",
    "K = np.asarray([[k1 + k2, -k2],\n",
    "                [-k2,      k2 + k3]])"
   ]
  },
  {
   "cell_type": "code",
   "execution_count": 6,
   "metadata": {
    "collapsed": true
   },
   "outputs": [],
   "source": [
    "eigenvals, eigenvects = linalg.eigh(K, M)"
   ]
  },
  {
   "cell_type": "markdown",
   "metadata": {},
   "source": [
    "\n",
    "The linalg.eigh function returns two arrays, one of the eigenvalues and one of the eigenvectors. The eigenvalues are the square of the two natural frequencies. The eigenvectors are returned in normalized form, with each ''row'' of the array representing an eigenvector.\n"
   ]
  },
  {
   "cell_type": "code",
   "execution_count": 7,
   "metadata": {},
   "outputs": [
    {
     "name": "stdout",
     "output_type": "stream",
     "text": [
      "\n",
      "\n",
      "The resulting eigenalues are 39.48 and 118.44.\n",
      "\n",
      "\n",
      "So the two natrual frequencies are 6.28rad/s and 10.88rad/s.\n",
      "\n",
      "\n"
     ]
    }
   ],
   "source": [
    "print('\\n')\n",
    "print('The resulting eigenalues are {:.2f} and {:.2f}.'.format(eigenvals[0], eigenvals[1]))\n",
    "print('\\n')\n",
    "print('So the two natrual frequencies are {:.2f}rad/s and {:.2f}rad/s.'.format(np.sqrt(eigenvals[0]), np.sqrt(eigenvals[1])))\n",
    "print('\\n')"
   ]
  },
  {
   "cell_type": "code",
   "execution_count": 8,
   "metadata": {},
   "outputs": [
    {
     "name": "stdout",
     "output_type": "stream",
     "text": [
      "\n",
      "\n",
      "The first eigenvector is [-0.70710678 -0.70710678].\n",
      "\n",
      "\n",
      "The second eigenvector is [-0.70710678  0.70710678].\n",
      "\n",
      "\n"
     ]
    }
   ],
   "source": [
    "print('\\n')\n",
    "print('The first eigenvector is ' + str(eigenvects[:,0]) + '.')\n",
    "print('\\n')\n",
    "print('The second eigenvector is ' + str(eigenvects[:,1]) + '.')\n",
    "print('\\n')"
   ]
  },
  {
   "cell_type": "code",
   "execution_count": 9,
   "metadata": {
    "collapsed": true
   },
   "outputs": [],
   "source": [
    "# Set up simulation parameters \n",
    "\n",
    "# ODE solver parameters\n",
    "abserr = 1.0e-9\n",
    "relerr = 1.0e-9\n",
    "max_step = 0.01\n",
    "stoptime = 5.0\n",
    "numpoints = 5001\n",
    "\n",
    "# Create the time samples for the output of the ODE solver\n",
    "t = np.linspace(0.0, stoptime, numpoints)"
   ]
  },
  {
   "cell_type": "markdown",
   "metadata": {},
   "source": [
    "First, let's try initial conditions that exactly match the low mode.\n",
    "\n",
    "$ \\quad x_1(0) = x_0$ and $ x_2(0) = x_0$"
   ]
  },
  {
   "cell_type": "code",
   "execution_count": 10,
   "metadata": {},
   "outputs": [],
   "source": [
    "# Now, set up hte intial conditions and call the ODE solver\n",
    "\n",
    "# Initial conditions\n",
    "x1_init = 0.5                       # initial x1 position\n",
    "x1_dot_init = 0.0                   # initial x1 velocity\n",
    "x2_init = 0.5                       # initial x2 position\n",
    "x2_dot_init = 0.0                   # initial x2 velocity\n",
    "\n",
    "# Pack the parameters and initial conditions into arrays \n",
    "p = [m1, m2, k1, k2, k3]\n",
    "x0 = [x1_init, x1_dot_init, x2_init, x2_dot_init]\n",
    "\n",
    "# Call the ODE solver.\n",
    "resp = odeint(eq_of_motion, x0, t, args=(p,), atol=abserr, rtol=relerr,  hmax=max_step)"
   ]
  },
  {
   "cell_type": "markdown",
   "metadata": {},
   "source": [
    "This response should only contain the first, low mode since the initial conditions exactly match its shape. Let's plot it to verify."
   ]
  },
  {
   "cell_type": "code",
   "execution_count": 11,
   "metadata": {},
   "outputs": [
    {
     "data": {
      "image/png": "[encoded data removed]",
      "text/plain": [
       "<matplotlib.figure.Figure at 0x1137ce438>"
      ]
     },
     "metadata": {},
     "output_type": "display_data"
    }
   ],
   "source": [
    "# Set the plot size - 3x2 aspect ratio is best\n",
    "fig = plt.figure(figsize=(6,4))\n",
    "ax = plt.gca()\n",
    "plt.subplots_adjust(bottom=0.17,left=0.17,top=0.96,right=0.96)\n",
    "\n",
    "# Change the axis units to serif\n",
    "plt.setp(ax.get_ymajorticklabels(),family='serif',fontsize=18)\n",
    "plt.setp(ax.get_xmajorticklabels(),family='serif',fontsize=18)\n",
    "\n",
    "ax.spines['right'].set_color('none')\n",
    "ax.spines['top'].set_color('none')\n",
    "\n",
    "ax.xaxis.set_ticks_position('bottom')\n",
    "ax.yaxis.set_ticks_position('left')\n",
    "\n",
    "# Turn on the plot grid and set appropriate linestyle and color\n",
    "ax.grid(True,linestyle=':',color='0.75')\n",
    "ax.set_axisbelow(True)\n",
    "\n",
    "# Define the X and Y axis labels\n",
    "plt.xlabel('Time (s)',family='serif',fontsize=22,weight='bold',labelpad=5)\n",
    "plt.ylabel('Position (m)',family='serif',fontsize=22,weight='bold',labelpad=10)\n",
    "\n",
    "plt.plot(t,resp[:,0],linewidth=2,label=r'$x_1$')\n",
    "plt.plot(t,resp[:,2],linewidth=2,linestyle=\"--\",label=r'$x_2$')\n",
    "\n",
    "# uncomment below and set limits if needed\n",
    "# plt.xlim(0,5)\n",
    "plt.ylim(-0.75,0.75)\n",
    "plt.yticks([-0.75, -0.5, -0.25, 0, 0.25, 0.5, 0.75], ['', '$-x_0$', '', '$0$', '', '$x_0$', ''])\n",
    "\n",
    "# Create the legend, then fix the fontsize\n",
    "leg = plt.legend(loc='upper right', ncol = 2, fancybox=True)\n",
    "ltext  = leg.get_texts()\n",
    "plt.setp(ltext,family='serif',fontsize=18)\n",
    "\n",
    "# Adjust the page layout filling the page using the new tight_layout command\n",
    "plt.tight_layout(pad=0.5)\n",
    "\n",
    "# save the figure as a high-res pdf in the current folder\n",
    "# It's saved at the original 6x4 size\n",
    "# plt.savefig('MCHE485_Midterm2_Prob1ci.pdf')\n",
    "\n",
    "fig.set_size_inches(9,6) # Resize the figure for better display in the notebook"
   ]
  },
  {
   "cell_type": "markdown",
   "metadata": {},
   "source": [
    "Now, let's try initial conditions that exactly match the second mode.\n",
    "\n",
    "$ \\quad x_1(0) = x_0$ and $ x_2(0) = -x_0$"
   ]
  },
  {
   "cell_type": "code",
   "execution_count": 12,
   "metadata": {
    "collapsed": true
   },
   "outputs": [],
   "source": [
    "# Now, set up hte intial conditions and call the ODE solver\n",
    "\n",
    "# Initial conditions\n",
    "x1_init = 0.5                       # initial x1 position\n",
    "x1_dot_init = 0.0                   # initial x1 velocity\n",
    "x2_init = -0.5                      # initial x2 position\n",
    "x2_dot_init = 0.0                   # initial x2 velocity\n",
    "\n",
    "# Pack the parameters and initial conditions into arrays \n",
    "p = [m1, m2, k1, k2, k3]\n",
    "x0 = [x1_init, x1_dot_init, x2_init, x2_dot_init]\n",
    "\n",
    "# Call the ODE solver.\n",
    "resp = odeint(eq_of_motion, x0, t, args=(p,), atol=abserr, rtol=relerr,  hmax=max_step)"
   ]
  },
  {
   "cell_type": "markdown",
   "metadata": {},
   "source": [
    "This response should only contain the second mode since the initial conditions exactly match its shape. Let's plot it to verify."
   ]
  },
  {
   "cell_type": "code",
   "execution_count": 13,
   "metadata": {},
   "outputs": [
    {
     "data": {
      "image/png": "[encoded data removed]",
      "text/plain": [
       "<matplotlib.figure.Figure at 0x115999668>"
      ]
     },
     "metadata": {},
     "output_type": "display_data"
    }
   ],
   "source": [
    "# Set the plot size - 3x2 aspect ratio is best\n",
    "fig = plt.figure(figsize=(6,4))\n",
    "ax = plt.gca()\n",
    "plt.subplots_adjust(bottom=0.17,left=0.17,top=0.96,right=0.96)\n",
    "\n",
    "# Change the axis units to serif\n",
    "plt.setp(ax.get_ymajorticklabels(),family='serif',fontsize=18)\n",
    "plt.setp(ax.get_xmajorticklabels(),family='serif',fontsize=18)\n",
    "\n",
    "ax.spines['right'].set_color('none')\n",
    "ax.spines['top'].set_color('none')\n",
    "\n",
    "ax.xaxis.set_ticks_position('bottom')\n",
    "ax.yaxis.set_ticks_position('left')\n",
    "\n",
    "# Turn on the plot grid and set appropriate linestyle and color\n",
    "ax.grid(True,linestyle=':',color='0.75')\n",
    "ax.set_axisbelow(True)\n",
    "\n",
    "# Define the X and Y axis labels\n",
    "plt.xlabel('Time (s)',family='serif',fontsize=22,weight='bold',labelpad=5)\n",
    "plt.ylabel('Position (m)',family='serif',fontsize=22,weight='bold',labelpad=10)\n",
    "\n",
    "plt.plot(t,resp[:,0],linewidth=2,label=r'$x_1$')\n",
    "plt.plot(t,resp[:,2],linewidth=2,linestyle=\"--\",label=r'$x_2$')\n",
    "\n",
    "# uncomment below and set limits if needed\n",
    "# plt.xlim(0,5)\n",
    "plt.ylim(-0.75,0.75)\n",
    "plt.yticks([-0.75, -0.5, -0.25, 0, 0.25, 0.5, 0.75], ['', '$-x_0$', '', '$0$', '', '$x_0$', ''])\n",
    "\n",
    "# Create the legend, then fix the fontsize\n",
    "leg = plt.legend(loc='upper right', ncol = 2, fancybox=True)\n",
    "ltext  = leg.get_texts()\n",
    "plt.setp(ltext,family='serif',fontsize=18)\n",
    "\n",
    "# Adjust the page layout filling the page using the new tight_layout command\n",
    "plt.tight_layout(pad=0.5)\n",
    "\n",
    "# save the figure as a high-res pdf in the current folder\n",
    "# It's saved at the original 6x4 size\n",
    "# plt.savefig('MCHE485_Midterm2_Prob1ci.pdf')\n",
    "\n",
    "fig.set_size_inches(9,6) # Resize the figure for better display in the notebook"
   ]
  },
  {
   "cell_type": "markdown",
   "metadata": {},
   "source": [
    "## The Undamped Eigenvalue Problem &mdash; State-Space Form\n",
    "We'll now solve the undamped version of this problem using the state-space form. "
   ]
  },
  {
   "cell_type": "code",
   "execution_count": 14,
   "metadata": {
    "collapsed": true
   },
   "outputs": [],
   "source": [
    "A = np.asarray([[0,           1,           0, 0],\n",
    "                [-(k1+k2)/m1, 0,       k2/m1, 0],\n",
    "                [0,           0,           0, 1],\n",
    "                [k2/m2,       0, -(k2+k3)/m2, 0]])\n",
    "\n",
    "\n",
    "eigenvals_ss, eigenvects_ss = linalg.eig(A)"
   ]
  },
  {
   "cell_type": "code",
   "execution_count": 15,
   "metadata": {},
   "outputs": [
    {
     "name": "stdout",
     "output_type": "stream",
     "text": [
      "\n",
      "\n",
      "The resulting eigenvalues are 10.88j, -10.88j, 6.283j, and -6.283j.\n",
      "\n",
      "\n",
      "So, the resulting natural frequencies are 6.283rad/s and 10.88rad/s.\n",
      "\n",
      "\n"
     ]
    }
   ],
   "source": [
    "print('\\n')\n",
    "print('The resulting eigenvalues are {:.4}, {:.4}, {:.4}, and {:.4}.'.format(eigenvals_ss[0], eigenvals_ss[1], eigenvals_ss[2], eigenvals_ss[3]))\n",
    "print('\\n')\n",
    "\n",
    "print('So, the resulting natural frequencies are {:.4}rad/s and {:.4}rad/s.'.format(np.abs(eigenvals_ss[2]), np.abs(eigenvals_ss[0])))\n",
    "print('\\n')"
   ]
  },
  {
   "cell_type": "markdown",
   "metadata": {},
   "source": [
    "Now, let's format the resutling eigenvectors to allow easier comparison to the \"normal\" undamped solution"
   ]
  },
  {
   "cell_type": "code",
   "execution_count": 16,
   "metadata": {
    "collapsed": true
   },
   "outputs": [],
   "source": [
    "# make 1st entry real\n",
    "eigvect1_ss = eigenvects_ss[:,0] * np.exp(-1.0j * np.angle(eigenvects_ss[0,0]))\n",
    "eigvect2_ss = eigenvects_ss[:,2] * np.exp(-1.0j * np.angle(eigenvects_ss[0,2]))\n",
    "\n",
    "# scale to match the undamped\n",
    "eigvect1_ss *= (eigenvects[0,0] / eigvect1_ss[0])\n",
    "eigvect2_ss *= (eigenvects[0,1] / eigvect2_ss[0])"
   ]
  },
  {
   "cell_type": "code",
   "execution_count": 17,
   "metadata": {},
   "outputs": [
    {
     "name": "stdout",
     "output_type": "stream",
     "text": [
      "\n",
      "\n",
      "The first eigevector is \n",
      "[-0.7071+0.j     -0.0000-7.6953j  0.7071-0.j      0.0000+7.6953j]\n",
      "\n",
      "\n",
      "The second eigevector is \n",
      "[-0.7071+0.j      0.0000-4.4429j -0.7071+0.j     -0.0000-4.4429j]\n",
      "\n",
      "\n"
     ]
    }
   ],
   "source": [
    "print('\\n')\n",
    "print('The first eigevector is ')\n",
    "print(np.array_str(eigvect1_ss, precision=4, suppress_small=True))\n",
    "print('\\n')\n",
    "print('The second eigevector is ')\n",
    "print(np.array_str(eigvect2_ss, precision=4, suppress_small=True))\n",
    "print('\\n')"
   ]
  },
  {
   "cell_type": "markdown",
   "metadata": {},
   "source": [
    "We want to look at the entries in these vectors that correspond to the generalized coordinates $x_1$ and $x_2$. Given how we've defined our state-space formulation, the first and third states represent these. So, if we look at the first and third entries of the two eigenvectors, they should match the ones we found through the \"normal\" solution procedure earlier. "
   ]
  },
  {
   "cell_type": "markdown",
   "metadata": {},
   "source": [
    "## The Undamped Problem &mdash; Symmetric Form\n",
    "Now, let's solve the undamped version of this problem using the symmetric form. This will show us how to approach the damped solution.\n",
    "\n",
    "Using the matrices from the euqations of motion, we can define two new matrices, $A$ and $B$, by:\n",
    "\n",
    "$ \\quad A = \\left[\\begin{array}{cc}\\hphantom{-}0 & -K \\\\-K & -C\\end{array}\\right] \\ \\ \\ \\ \\ \\ \\ B = \\left[\\begin{array}{cc}-K & 0 \\\\ \\hphantom{-}0 & M\\end{array}\\right]$\n",
    "\n",
    "For the undamped case, $C=0$."
   ]
  },
  {
   "cell_type": "code",
   "execution_count": 18,
   "metadata": {},
   "outputs": [],
   "source": [
    "# Form the matrices\n",
    "A = np.vstack((np.hstack((np.zeros((2,2)),-K)),np.hstack((-K, np.zeros((2,2))))))\n",
    "\n",
    "B = np.vstack((np.hstack((-K, np.zeros((2,2)))),np.hstack((np.zeros((2,2)),M))))\n",
    "\n",
    "\n",
    "# Solve the eigenvalue problem using them\n",
    "eigenvals_sym, eigenvects_sym = linalg.eig(A, B)"
   ]
  },
  {
   "cell_type": "code",
   "execution_count": 19,
   "metadata": {},
   "outputs": [
    {
     "name": "stdout",
     "output_type": "stream",
     "text": [
      "\n",
      "\n",
      "The resulting eigenvalues are 10.88j, -10.88j, 6.283j, and -6.283j.\n",
      "\n",
      "\n",
      "So, the resulting natural frequencies are 6.283rad/s and 10.88rad/s.\n",
      "\n",
      "\n"
     ]
    }
   ],
   "source": [
    "print('\\n')\n",
    "print('The resulting eigenvalues are {:.4}, {:.4}, {:.4}, and {:.4}.'.format(eigenvals_sym[0], eigenvals_sym[1], eigenvals_sym[2], eigenvals_sym[3]))\n",
    "print('\\n')\n",
    "\n",
    "print('So, the resulting natural frequencies are {:.4}rad/s and {:.4}rad/s.'.format(np.abs(eigenvals_sym[2]), np.abs(eigenvals_sym[0])))\n",
    "print('\\n')"
   ]
  },
  {
   "cell_type": "code",
   "execution_count": 20,
   "metadata": {
    "collapsed": true
   },
   "outputs": [],
   "source": [
    "# make 1st entry real\n",
    "eigvect1_sym = eigenvects_sym[:,0] * np.exp(-1.0j * np.angle(eigenvects_sym[0,0]))\n",
    "eigvect2_sym = eigenvects_sym[:,2] * np.exp(-1.0j * np.angle(eigenvects_sym[0,2]))\n",
    "\n",
    "# scale to match the undamped\n",
    "eigvect1_sym *= (eigenvects[0,0] / eigvect1_sym[0])\n",
    "eigvect2_sym *= (eigenvects[0,1] / eigvect2_sym[0])"
   ]
  },
  {
   "cell_type": "code",
   "execution_count": 21,
   "metadata": {},
   "outputs": [
    {
     "name": "stdout",
     "output_type": "stream",
     "text": [
      "\n",
      "\n",
      "The first eigevector is \n",
      "[-0.7071+0.j      0.7071+0.j      0.0000-7.6953j  0.0000+7.6953j]\n",
      "\n",
      "\n",
      "The second eigevector is \n",
      "[-0.7071+0.j     -0.7071+0.j      0.0000-4.4429j -0.0000-4.4429j]\n",
      "\n",
      "\n"
     ]
    }
   ],
   "source": [
    "print('\\n')\n",
    "print('The first eigevector is ')\n",
    "print(np.array_str(eigvect1_sym, precision=4, suppress_small=True))\n",
    "print('\\n')\n",
    "print('The second eigevector is ')\n",
    "print(np.array_str(eigvect2_sym, precision=4, suppress_small=True))\n",
    "print('\\n')"
   ]
  },
  {
   "cell_type": "markdown",
   "metadata": {},
   "source": [
    "We again want to look at the entries in these vectors that correspond to the generalized coordinates $x_1$ and $x_2$. In the symmetric formulation, the first and second states represent these. So, if we look at the first and second entries of the two eigenvectors, they match the ones we found through the \"normal\" solution procedure earlier. \n"
   ]
  },
  {
   "cell_type": "markdown",
   "metadata": {},
   "source": [
    "<hr style=\"border: 0px;\n",
    "        height: 1px;\n",
    "        text-align: center;\n",
    "        background: #333;\n",
    "        background-image: -webkit-linear-gradient(left, #ccc, #333, #ccc); \n",
    "        background-image:    -moz-linear-gradient(left, #ccc, #333, #ccc); \n",
    "        background-image:     -ms-linear-gradient(left, #ccc, #333, #ccc); \n",
    "        background-image:      -o-linear-gradient(left, #ccc, #333, #ccc);\">"
   ]
  },
  {
   "cell_type": "markdown",
   "metadata": {},
   "source": [
    "#### Licenses\n",
    "Code is licensed under a 3-clause BSD style license. See the licenses/LICENSE.md file.\n",
    "\n",
    "Other content is provided under a [Creative Commons Attribution-NonCommercial 4.0 International License](http://creativecommons.org/licenses/by-nc/4.0/), CC-BY-NC 4.0."
   ]
  },
  {
   "cell_type": "code",
   "execution_count": 22,
   "metadata": {},
   "outputs": [
    {
     "data": {
      "text/html": [
       "<script>\n",
       "    MathJax.Hub.Config({\n",
       "                        TeX: {\n",
       "                           extensions: [\"AMSmath.js\"]\n",
       "                           },\n",
       "                tex2jax: {\n",
       "                    inlineMath: [ ['$','$'], [\"\\\\(\",\"\\\\)\"] ],\n",
       "                    displayMath: [ ['$$','$$'], [\"\\\\[\",\"\\\\]\"] ]\n",
       "                },\n",
       "                displayAlign: 'center', // Change this to 'center' to center equations.\n",
       "                \"HTML-CSS\": {\n",
       "                    styles: {'.MathJax_Display': {\"margin\": 4}}\n",
       "                }\n",
       "        });\n",
       "</script>\n",
       "\n",
       "<style>\n",
       "    @font-face {\n",
       "        font-family: \"Computer Modern\";\n",
       "        src: url('http://mirrors.ctan.org/fonts/cm-unicode/fonts/otf/cmunss.otf');\n",
       "    }\n",
       "    @font-face {\n",
       "        font-family: \"Computer Modern\";\n",
       "        src: url('http://mirrors.ctan.org/fonts/cm-unicode/fonts/otf/cmunsx.otf');\n",
       "        font-weight: bold;\n",
       "    }\n",
       "    @font-face {\n",
       "        font-family: \"Computer Modern\";\n",
       "        src: url('http://mirrors.ctan.org/fonts/cm-unicode/fonts/otf/cmunsi.otf');\n",
       "        font-style: oblique;\n",
       "    }\n",
       "    @font-face {\n",
       "        font-family: \"Computer Modern\";\n",
       "        src: url('http://mirrors.ctan.org/fonts/cm-unicode/fonts/otf/cmunso.otf');\n",
       "        font-weight: bold;\n",
       "        font-style: oblique;\n",
       "    }\n",
       "\n",
       "    div.cell {\n",
       "        max-width: 1100px;\n",
       "    }\n",
       "    \n",
       "    h1 {\n",
       "        font-family: Computer Modern;\n",
       "    }\n",
       "    \n",
       "    h4 {\n",
       "        margin-top: 12px;\n",
       "        margin-bottom: 3px;\n",
       "    }\n",
       "\n",
       "    div.text_cell_render {\n",
       "        font-family: Computer Modern, \"Helvetica Neue\", Arial, Helvetica, Geneva, sans-serif;\n",
       "        line-height: 145%;\n",
       "        font-size: 130%;\n",
       "        width: 100%;\n",
       "        max-width: 1100px;\n",
       "    }\n",
       "    \n",
       "    .CodeMirror {\n",
       "        font-family: \"Source Code Pro\", source-code-pro, Consolas, monospace;\n",
       "    }\n",
       "    \n",
       "    .warning {\n",
       "        color: rgb( 240, 20, 20 )\n",
       "    }  \n",
       "  \n",
       "   \n",
       "    hr.style-end {\n",
       "        border: 0px !important;\n",
       "        height: 1px !important;\n",
       "        text-align: center !important;\n",
       "        background: #333 !important;\n",
       "        background-image: -webkit-linear-gradient(left, #ccc, #333, #ccc) !important; \n",
       "        background-image:    -moz-linear-gradient(left, #ccc, #333, #ccc) !important; \n",
       "        background-image:     -ms-linear-gradient(left, #ccc, #333, #ccc) !important; \n",
       "        background-image:      -o-linear-gradient(left, #ccc, #333, #ccc) !important; \n",
       "    }\n",
       "\n",
       "    hr.style-end:after {\n",
       "        content: &#x269C !important;\n",
       "        left: 50% !important;\n",
       "        position: absolute !important;\n",
       "        /* Controls the whitespace around the symbol */\n",
       "        padding: 0px !important;\n",
       "        background: #fff !important;\n",
       "    }\n",
       "    \n",
       "/*  Center figures, etc\n",
       "    .ui-wrapper {\n",
       "        margin-left: auto !important;\n",
       "        margin-right: auto !important;\n",
       "    }\n",
       "*/\n",
       "    \n",
       "</style>\n"
      ],
      "text/plain": [
       "<IPython.core.display.HTML object>"
      ]
     },
     "execution_count": 22,
     "metadata": {},
     "output_type": "execute_result"
    }
   ],
   "source": [
    "# This cell will just improve the styling of the notebook\n",
    "# You can ignore it, if you are okay with the default sytling\n",
    "from IPython.core.display import HTML\n",
    "import urllib.request\n",
    "response = urllib.request.urlopen(\"https://cl.ly/1B1y452Z1d35\")\n",
    "HTML(response.read().decode(\"utf-8\"))"
   ]
  }
 ],
 "metadata": {
  "anaconda-cloud": {},
  "kernelspec": {
   "display_name": "Python 3",
   "language": "python",
   "name": "python3"
  },
  "language_info": {
   "codemirror_mode": {
    "name": "ipython",
    "version": 3
   },
   "file_extension": ".py",
   "mimetype": "text/x-python",
   "name": "python",
   "nbconvert_exporter": "python",
   "pygments_lexer": "ipython3",
   "version": "3.6.2"
  }
 },
 "nbformat": 4,
 "nbformat_minor": 1
}
