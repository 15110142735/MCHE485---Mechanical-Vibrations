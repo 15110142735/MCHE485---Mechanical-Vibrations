{
 "cells": [
  {
   "cell_type": "markdown",
   "metadata": {},
   "source": [
    "<h1 style=\"text-align:center\">Eigenvalue/Eigenvector Analysis <br>for Undamped Systems</h1>\n",
    "<h3 style=\"text-align:center\">MCHE 485: Mechanical Vibrations</h3> \n",
    "<p style=\"text-align:center\">Dr. Joshua Vaughan <br>\n",
    "<a href=\"mailto:joshua.vaughan@louisiana.edu\">joshua.vaughan@louisiana.edu</a><br>\n",
    "http://www.ucs.louisiana.edu/~jev9637/   </p>"
   ]
  },
  {
   "cell_type": "markdown",
   "metadata": {},
   "source": [
    "<p style=\"text-align:center\">\n",
    "\t<img src=\"http://shared.crawlab.org/TwoMass_3spring.png\" alt=\"A Two-Mass-Spring System\" width=50%/></a><br>\n",
    "    <strong> Figure 1: A Two-Mass-Spring System</strong>\n",
    "</p>\n",
    "\n",
    "This notebook demonstrates the eigenvalue/eigenvector problem using a two-mass-spring-damper system shown in Figure 1. We'll just look at one example set of parameters. The same techniques apply for other parameters and for larger matrices. \n",
    "\n",
    "The equations of motion for the system are:\n",
    "\n",
    "$ \\quad m_1 \\ddot{x}_1 + (k_1+k_2)x_1 - k_2 x_2 = 0 $\n",
    "\n",
    "$ \\quad m_2 \\ddot{x}_2 -k_2 x_1 +(k_2 + k_3)x_2 = 0 $\n",
    "\n",
    "We could also write these equations in matrix form:\n",
    "\n",
    "$ \\quad \\begin{bmatrix}m_1 & 0 \\\\ 0 & m_2\\end{bmatrix}\\begin{bmatrix}\\ddot{x}_1 \\\\ \\ddot{x}_2\\end{bmatrix} + \\begin{bmatrix}k_1 + k_2 & -k_2 \\\\ -k_2 & k_2 + k_3\\end{bmatrix}\\begin{bmatrix}x_1 \\\\ x_2\\end{bmatrix} = \\begin{bmatrix}0 \\\\ 0\\end{bmatrix}$\n",
    "\n",
    "Define\n",
    "\n",
    "$ \\quad M = \\begin{bmatrix}m_1 & 0 \\\\ 0 & m_2\\end{bmatrix} $\n",
    "\n",
    "and \n",
    "\n",
    "$ \\quad K = \\begin{bmatrix}k_1 + k_2 & -k_2 \\\\ -k_2 & k_2 + k_3\\end{bmatrix} $\n",
    "\n",
    "Using $M$ and $K$, we want to solve:\n",
    "\n",
    "$ \\quad \\left[K - \\omega^2 M\\right]\\bar{X} = 0 $ \n",
    "\n",
    "for $\\bar{X}$. This is an eigenvalue problem.\n",
    "\n",
    "For information on how to obtain these equations, you can see the lectures at the [class website](http://www.ucs.louisiana.edu/~jev9637/MCHE485.html)."
   ]
  },
  {
   "cell_type": "code",
   "execution_count": 8,
   "metadata": {
    "collapsed": false
   },
   "outputs": [],
   "source": [
    "import numpy as np\n",
    "import sympy\n",
    "\n",
    "sympy.init_printing()"
   ]
  },
  {
   "cell_type": "code",
   "execution_count": 9,
   "metadata": {
    "collapsed": false
   },
   "outputs": [],
   "source": [
    "# We want our plots to be displayed inline, not in a separate window\n",
    "%matplotlib inline \n",
    "\n",
    "# Import the plotting functions \n",
    "import matplotlib.pyplot as plt"
   ]
  },
  {
   "cell_type": "code",
   "execution_count": 10,
   "metadata": {
    "collapsed": false
   },
   "outputs": [],
   "source": [
    "# Let's also improve the printing of NumPy arrays.\n",
    "np.set_printoptions(precision=3, suppress=True)"
   ]
  },
  {
   "cell_type": "markdown",
   "metadata": {},
   "source": [
    "Using [SymPy](http://sympy.org), we can solve for the eigenvalues and eigenvalues symbolically. We'll first set up and solve the problem just as we would by hand, just replacing the algebra of the solution with SymPy. Then, we'll use the State-space and Symmetric forms of the equations of motion to allow us to directly use the Sympy eigenvalue and eigenvector methods."
   ]
  },
  {
   "cell_type": "code",
   "execution_count": 72,
   "metadata": {
    "collapsed": false
   },
   "outputs": [],
   "source": [
    "# Define the symbols\n",
    "m1, m2, k1, k2, k3 = sympy.symbols('m_1 m_2 k_1 k_2 k_3')\n",
    "\n",
    "w, w1, w2 = sympy.symbols('omega omega_1 omega_2')\n",
    "\n",
    "x1, x2 = sympy.symbols('x_1 x_2')\n",
    "\n",
    "M = sympy.Matrix([[m1, 0],\n",
    "                 [0,  m2]])\n",
    "\n",
    "K = sympy.Matrix([[k1 + k2, -k2],\n",
    "                 [-k2,      k2 + k3]])"
   ]
  },
  {
   "cell_type": "code",
   "execution_count": 63,
   "metadata": {
    "collapsed": false
   },
   "outputs": [],
   "source": [
    "# create the matrix to solve\n",
    "KM = K - w**2 * M\n",
    "\n",
    "eigenvalues = sympy.solve(KM.det(), w**2)"
   ]
  },
  {
   "cell_type": "markdown",
   "metadata": {},
   "source": [
    "In SymPy, the easiest way to output the answer is to call it in its own cell."
   ]
  },
  {
   "cell_type": "code",
   "execution_count": 67,
   "metadata": {
    "collapsed": false
   },
   "outputs": [
    {
     "data": {
      "image/png": "[encoded data removed]",
      "text/latex": [
       "$$\\frac{1}{2 m_{1} m_{2}} \\left(k_{1} m_{2} + k_{2} m_{1} + k_{2} m_{2} + k_{3} m_{1} - \\sqrt{k_{1}^{2} m_{2}^{2} - 2 k_{1} k_{2} m_{1} m_{2} + 2 k_{1} k_{2} m_{2}^{2} - 2 k_{1} k_{3} m_{1} m_{2} + k_{2}^{2} m_{1}^{2} + 2 k_{2}^{2} m_{1} m_{2} + k_{2}^{2} m_{2}^{2} + 2 k_{2} k_{3} m_{1}^{2} - 2 k_{2} k_{3} m_{1} m_{2} + k_{3}^{2} m_{1}^{2}}\\right)$$"
      ],
      "text/plain": [
       "                                   ___________________________________________\n",
       "                                  ╱   2   2                             2     \n",
       "k₁⋅m₂ + k₂⋅m₁ + k₂⋅m₂ + k₃⋅m₁ - ╲╱  k₁ ⋅m₂  - 2⋅k₁⋅k₂⋅m₁⋅m₂ + 2⋅k₁⋅k₂⋅m₂  - 2⋅\n",
       "──────────────────────────────────────────────────────────────────────────────\n",
       "                                                                              \n",
       "\n",
       "______________________________________________________________________________\n",
       "                2   2       2           2   2             2                   \n",
       "k₁⋅k₃⋅m₁⋅m₂ + k₂ ⋅m₁  + 2⋅k₂ ⋅m₁⋅m₂ + k₂ ⋅m₂  + 2⋅k₂⋅k₃⋅m₁  - 2⋅k₂⋅k₃⋅m₁⋅m₂ + \n",
       "──────────────────────────────────────────────────────────────────────────────\n",
       "2⋅m₁⋅m₂                                                                       \n",
       "\n",
       "________\n",
       "  2   2 \n",
       "k₃ ⋅m₁  \n",
       "────────\n",
       "        "
      ]
     },
     "execution_count": 67,
     "metadata": {},
     "output_type": "execute_result"
    }
   ],
   "source": [
    "eigenvalues[0]"
   ]
  },
  {
   "cell_type": "code",
   "execution_count": 66,
   "metadata": {
    "collapsed": false
   },
   "outputs": [
    {
     "data": {
      "image/png": "[encoded data removed]",
      "text/latex": [
       "$$\\frac{1}{2 m_{1} m_{2}} \\left(k_{1} m_{2} + k_{2} m_{1} + k_{2} m_{2} + k_{3} m_{1} + \\sqrt{k_{1}^{2} m_{2}^{2} - 2 k_{1} k_{2} m_{1} m_{2} + 2 k_{1} k_{2} m_{2}^{2} - 2 k_{1} k_{3} m_{1} m_{2} + k_{2}^{2} m_{1}^{2} + 2 k_{2}^{2} m_{1} m_{2} + k_{2}^{2} m_{2}^{2} + 2 k_{2} k_{3} m_{1}^{2} - 2 k_{2} k_{3} m_{1} m_{2} + k_{3}^{2} m_{1}^{2}}\\right)$$"
      ],
      "text/plain": [
       "                                   ___________________________________________\n",
       "                                  ╱   2   2                             2     \n",
       "k₁⋅m₂ + k₂⋅m₁ + k₂⋅m₂ + k₃⋅m₁ + ╲╱  k₁ ⋅m₂  - 2⋅k₁⋅k₂⋅m₁⋅m₂ + 2⋅k₁⋅k₂⋅m₂  - 2⋅\n",
       "──────────────────────────────────────────────────────────────────────────────\n",
       "                                                                              \n",
       "\n",
       "______________________________________________________________________________\n",
       "                2   2       2           2   2             2                   \n",
       "k₁⋅k₃⋅m₁⋅m₂ + k₂ ⋅m₁  + 2⋅k₂ ⋅m₁⋅m₂ + k₂ ⋅m₂  + 2⋅k₂⋅k₃⋅m₁  - 2⋅k₂⋅k₃⋅m₁⋅m₂ + \n",
       "──────────────────────────────────────────────────────────────────────────────\n",
       "2⋅m₁⋅m₂                                                                       \n",
       "\n",
       "________\n",
       "  2   2 \n",
       "k₃ ⋅m₁  \n",
       "────────\n",
       "        "
      ]
     },
     "execution_count": 66,
     "metadata": {},
     "output_type": "execute_result"
    }
   ],
   "source": [
    "eigenvalues[1]"
   ]
  },
  {
   "cell_type": "markdown",
   "metadata": {},
   "source": [
    "We can substiute numerical values, to check is our symbolic solutions match the ones found numerically in the [notebook using the SciPy linalg library](http://nbviewer.jupyter.org/github/DocVaughan/MCHE485---Mechanical-Vibrations/blob/Spring2016/Jupyter%20Notebooks/Eigenvalue-Eigenvector%20Analysis.ipynb). In that notebook, we used\n",
    "\n",
    "$ \\quad m_1 = m_2 = 1.0 $ kg\n",
    "\n",
    "and \n",
    "\n",
    "$ \\quad k_1 = k_2 = k_3 = 4.0 $ $N/m^2$\n",
    "\n",
    "to find eigenalues of 4.00 and 12.00. The eigenvectors were found to be:\n",
    "\n",
    "$ \\quad X_1 = [1 \\ 1]^T $ \n",
    "\n",
    "and \n",
    "\n",
    "$ \\quad X_2 = [1 \\ -1]^T $ "
   ]
  },
  {
   "cell_type": "code",
   "execution_count": 69,
   "metadata": {
    "collapsed": false
   },
   "outputs": [
    {
     "data": {
      "image/png": "[encoded data removed]",
      "text/latex": [
       "$$4.0$$"
      ],
      "text/plain": [
       "4.00000000000000"
      ]
     },
     "execution_count": 69,
     "metadata": {},
     "output_type": "execute_result"
    }
   ],
   "source": [
    "eigenvalues[0].subs([(m1, 1.0), (m2, 1.0), (k1, 4.0), (k2, 4.0), (k3, 4.0)])"
   ]
  },
  {
   "cell_type": "code",
   "execution_count": 71,
   "metadata": {
    "collapsed": false
   },
   "outputs": [
    {
     "data": {
      "image/png": "[encoded data removed]",
      "text/latex": [
       "$$12.0$$"
      ],
      "text/plain": [
       "12.0000000000000"
      ]
     },
     "execution_count": 71,
     "metadata": {},
     "output_type": "execute_result"
    }
   ],
   "source": [
    "eigenvalues[1].subs([(m1, 1.0), (m2, 1.0), (k1, 4.0), (k2, 4.0), (k3, 4.0)])"
   ]
  },
  {
   "cell_type": "markdown",
   "metadata": {},
   "source": [
    "So, the symbolic eigenvalues we found match those found numerically. Now, let's look at the eigenvectors."
   ]
  },
  {
   "cell_type": "code",
   "execution_count": 90,
   "metadata": {
    "collapsed": true
   },
   "outputs": [],
   "source": [
    "KM1 = K - eigenvalues[0] * M\n",
    "KM2 = K - eigenvalues[1] * M\n",
    "\n",
    "X = sympy.Matrix([[x1], \n",
    "                   [x2]])"
   ]
  },
  {
   "cell_type": "code",
   "execution_count": 100,
   "metadata": {
    "collapsed": false
   },
   "outputs": [],
   "source": [
    "eigenvect1 = sympy.solve(KM1 * X, (x1, x2))\n",
    "eigenvect2 = sympy.solve(KM2 * X, (x1, x2))"
   ]
  },
  {
   "cell_type": "markdown",
   "metadata": {},
   "source": [
    "Because our system of equations is linearly dependent, SymPy will return one of the values in terms of the other, similar to how we solve these problems by hand. So, we can look at the relationship returned to generate the eigenvector."
   ]
  },
  {
   "cell_type": "code",
   "execution_count": 101,
   "metadata": {
    "collapsed": false
   },
   "outputs": [
    {
     "data": {
      "image/png": "[encoded data removed]",
      "text/latex": [
       "$$\\left \\{ x_{1} : \\frac{2 k_{2} m_{2} x_{2}}{k_{1} m_{2} - k_{2} m_{1} + k_{2} m_{2} - k_{3} m_{1} + \\sqrt{k_{1}^{2} m_{2}^{2} - 2 k_{1} k_{2} m_{1} m_{2} + 2 k_{1} k_{2} m_{2}^{2} - 2 k_{1} k_{3} m_{1} m_{2} + k_{2}^{2} m_{1}^{2} + 2 k_{2}^{2} m_{1} m_{2} + k_{2}^{2} m_{2}^{2} + 2 k_{2} k_{3} m_{1}^{2} - 2 k_{2} k_{3} m_{1} m_{2} + k_{3}^{2} m_{1}^{2}}}\\right \\}$$"
      ],
      "text/plain": [
       "⎧                                                                             \n",
       "⎪x₁: ─────────────────────────────────────────────────────────────────────────\n",
       "⎨                                       ______________________________________\n",
       "⎪                                      ╱   2   2                             2\n",
       "⎩    k₁⋅m₂ - k₂⋅m₁ + k₂⋅m₂ - k₃⋅m₁ + ╲╱  k₁ ⋅m₂  - 2⋅k₁⋅k₂⋅m₁⋅m₂ + 2⋅k₁⋅k₂⋅m₂ \n",
       "\n",
       "    2⋅k₂⋅m₂⋅x₂                                                                \n",
       "──────────────────────────────────────────────────────────────────────────────\n",
       "______________________________________________________________________________\n",
       "                     2   2       2           2   2             2              \n",
       " - 2⋅k₁⋅k₃⋅m₁⋅m₂ + k₂ ⋅m₁  + 2⋅k₂ ⋅m₁⋅m₂ + k₂ ⋅m₂  + 2⋅k₂⋅k₃⋅m₁  - 2⋅k₂⋅k₃⋅m₁⋅\n",
       "\n",
       "             ⎫\n",
       "─────────────⎪\n",
       "_____________⎬\n",
       "       2   2 ⎪\n",
       "m₂ + k₃ ⋅m₁  ⎭"
      ]
     },
     "execution_count": 101,
     "metadata": {},
     "output_type": "execute_result"
    }
   ],
   "source": [
    "eigenvect1"
   ]
  },
  {
   "cell_type": "code",
   "execution_count": 102,
   "metadata": {
    "collapsed": false
   },
   "outputs": [
    {
     "data": {
      "image/png": "[encoded data removed]",
      "text/latex": [
       "$$\\left \\{ x_{1} : \\frac{2 k_{2} m_{2} x_{2}}{k_{1} m_{2} - k_{2} m_{1} + k_{2} m_{2} - k_{3} m_{1} - \\sqrt{k_{1}^{2} m_{2}^{2} - 2 k_{1} k_{2} m_{1} m_{2} + 2 k_{1} k_{2} m_{2}^{2} - 2 k_{1} k_{3} m_{1} m_{2} + k_{2}^{2} m_{1}^{2} + 2 k_{2}^{2} m_{1} m_{2} + k_{2}^{2} m_{2}^{2} + 2 k_{2} k_{3} m_{1}^{2} - 2 k_{2} k_{3} m_{1} m_{2} + k_{3}^{2} m_{1}^{2}}}\\right \\}$$"
      ],
      "text/plain": [
       "⎧                                                                             \n",
       "⎪x₁: ─────────────────────────────────────────────────────────────────────────\n",
       "⎨                                       ______________________________________\n",
       "⎪                                      ╱   2   2                             2\n",
       "⎩    k₁⋅m₂ - k₂⋅m₁ + k₂⋅m₂ - k₃⋅m₁ - ╲╱  k₁ ⋅m₂  - 2⋅k₁⋅k₂⋅m₁⋅m₂ + 2⋅k₁⋅k₂⋅m₂ \n",
       "\n",
       "    2⋅k₂⋅m₂⋅x₂                                                                \n",
       "──────────────────────────────────────────────────────────────────────────────\n",
       "______________________________________________________________________________\n",
       "                     2   2       2           2   2             2              \n",
       " - 2⋅k₁⋅k₃⋅m₁⋅m₂ + k₂ ⋅m₁  + 2⋅k₂ ⋅m₁⋅m₂ + k₂ ⋅m₂  + 2⋅k₂⋅k₃⋅m₁  - 2⋅k₂⋅k₃⋅m₁⋅\n",
       "\n",
       "             ⎫\n",
       "─────────────⎪\n",
       "_____________⎬\n",
       "       2   2 ⎪\n",
       "m₂ + k₃ ⋅m₁  ⎭"
      ]
     },
     "execution_count": 102,
     "metadata": {},
     "output_type": "execute_result"
    }
   ],
   "source": [
    "eigenvect2"
   ]
  },
  {
   "cell_type": "markdown",
   "metadata": {},
   "source": [
    "We can again substitute the numerical values to check the solution we obtain."
   ]
  },
  {
   "cell_type": "code",
   "execution_count": 94,
   "metadata": {
    "collapsed": false
   },
   "outputs": [
    {
     "data": {
      "image/png": "[encoded data removed]",
      "text/latex": [
       "$$1.0 x_{2}$$"
      ],
      "text/plain": [
       "1.0⋅x₂"
      ]
     },
     "execution_count": 94,
     "metadata": {},
     "output_type": "execute_result"
    }
   ],
   "source": [
    "eigenvect1[x1].subs([(m1, 1.0), (m2, 1.0), (k1, 4.0), (k2, 4.0), (k3, 4.0)])"
   ]
  },
  {
   "cell_type": "markdown",
   "metadata": {},
   "source": [
    "We see that $x_1 = x_2$ for this eigenvector, matching our numerical solutions. "
   ]
  },
  {
   "cell_type": "code",
   "execution_count": 96,
   "metadata": {
    "collapsed": false
   },
   "outputs": [
    {
     "data": {
      "image/png": "[encoded data removed]",
      "text/latex": [
       "$$- 1.0 x_{2}$$"
      ],
      "text/plain": [
       "-1.0⋅x₂"
      ]
     },
     "execution_count": 96,
     "metadata": {},
     "output_type": "execute_result"
    }
   ],
   "source": [
    "eigenvect2[x1].subs([(m1, 1.0), (m2, 1.0), (k1, 4.0), (k2, 4.0), (k3, 4.0)])"
   ]
  },
  {
   "cell_type": "markdown",
   "metadata": {},
   "source": [
    "We see that $x_1 = -x_2$ for this eigenvector, matching our numerical solutions. "
   ]
  },
  {
   "cell_type": "markdown",
   "metadata": {},
   "source": [
    "# Using the State-Space Form of the Equations of Motion\n",
    "Now, let's define a new matrix $A$ that is generated using the state-space form of the equations of motion. We'll again substitute the parameters we used in the numerical solution to check for a match."
   ]
  },
  {
   "cell_type": "code",
   "execution_count": 115,
   "metadata": {
    "collapsed": false
   },
   "outputs": [
    {
     "data": {
      "image/png": "[encoded data removed]",
      "text/latex": [
       "$$\\left \\{ - 2 i : 1, \\quad 2 i : 1, \\quad - 2 \\sqrt{3} i : 1, \\quad 2 \\sqrt{3} i : 1\\right \\}$$"
      ],
      "text/plain": [
       "{-2⋅ⅈ: 1, 2⋅ⅈ: 1, -2⋅√3⋅ⅈ: 1, 2⋅√3⋅ⅈ: 1}"
      ]
     },
     "execution_count": 115,
     "metadata": {},
     "output_type": "execute_result"
    }
   ],
   "source": [
    "A = sympy.Matrix([[0, 1, 0, 0],\n",
    "            [-(k1 + k2) / m1, 0, k2 / m1, 0],\n",
    "            [0, 0, 0, 1],\n",
    "            [k2 / m2, 0, -(k2 + k3) / m2, 0]])\n",
    "\n",
    "A.subs([(m1, 1.0), (m2, 1.0), (k1, 4.0), (k2, 4.0), (k3, 4.0)]).eigenvals()"
   ]
  },
  {
   "cell_type": "markdown",
   "metadata": {},
   "source": [
    "Remember that in the state-space form, for lightly damped systems the eigenvalues approximately represent:\n",
    "\n",
    "$ \\quad \\lambda = -\\zeta \\omega_i \\pm i \\omega_{di} $ \n",
    "\n",
    "where\n",
    "\n",
    "$\\zeta_i$ is the damping ratio, $\\omega_{i}$ is the natural frequency, $\\omega_{di}$ is the damped natural frequency for the $i^{th}$ mode. Be careful not to confuse the $_i$ subscripts with $i$ as an imaginary number.\n",
    "\n",
    "Here, there is no damping, so $\\zeta = 0$ and $\\omega_{d} = \\omega_i$ for all modes. So, we again see that the calculated eigenvalues match those found numerically."
   ]
  },
  {
   "cell_type": "markdown",
   "metadata": {},
   "source": [
    "Now, let's use the SymPy eigenvector method on the state space matrix, after substituting our numerical values."
   ]
  },
  {
   "cell_type": "code",
   "execution_count": 117,
   "metadata": {
    "collapsed": false
   },
   "outputs": [
    {
     "data": {
      "image/png": "[encoded data removed]",
      "text/latex": [
       "$$\\left [ \\left ( - 2.0 i, \\quad 1, \\quad \\left [ \\left[\\begin{matrix}0.5 i\\\\1.0\\\\0.5 i\\\\1.0\\end{matrix}\\right]\\right ]\\right ), \\quad \\left ( 2.0 i, \\quad 1, \\quad \\left [ \\left[\\begin{matrix}- 0.5 i\\\\1.0\\\\- 0.5 i\\\\1.0\\end{matrix}\\right]\\right ]\\right ), \\quad \\left ( - 3.46410161513775 i, \\quad 1, \\quad \\left [ \\left[\\begin{matrix}- 0.288675134594813 i\\\\-1.0\\\\0.288675134594813 i\\\\1.0\\end{matrix}\\right]\\right ]\\right ), \\quad \\left ( 3.46410161513775 i, \\quad 1, \\quad \\left [ \\left[\\begin{matrix}0.288675134594813 i\\\\-1.0\\\\- 0.288675134594813 i\\\\1.0\\end{matrix}\\right]\\right ]\\right )\\right ]$$"
      ],
      "text/plain": [
       "⎡⎛-2.0⋅ⅈ, 1, ⎡⎡0.5⋅ⅈ⎤⎤⎞, ⎛2.0⋅ⅈ, 1, ⎡⎡-0.5⋅ⅈ⎤⎤⎞, ⎛-3.46410161513775⋅ⅈ, 1, ⎡⎡-0\n",
       "⎢⎜           ⎢⎢     ⎥⎥⎟  ⎜          ⎢⎢      ⎥⎥⎟  ⎜                        ⎢⎢  \n",
       "⎢⎜           ⎢⎢ 1.0 ⎥⎥⎟  ⎜          ⎢⎢ 1.0  ⎥⎥⎟  ⎜                        ⎢⎢  \n",
       "⎢⎜           ⎢⎢     ⎥⎥⎟  ⎜          ⎢⎢      ⎥⎥⎟  ⎜                        ⎢⎢  \n",
       "⎢⎜           ⎢⎢0.5⋅ⅈ⎥⎥⎟  ⎜          ⎢⎢-0.5⋅ⅈ⎥⎥⎟  ⎜                        ⎢⎢0.\n",
       "⎢⎜           ⎢⎢     ⎥⎥⎟  ⎜          ⎢⎢      ⎥⎥⎟  ⎜                        ⎢⎢  \n",
       "⎣⎝           ⎣⎣ 1.0 ⎦⎦⎠  ⎝          ⎣⎣ 1.0  ⎦⎦⎠  ⎝                        ⎣⎣  \n",
       "\n",
       ".288675134594813⋅ⅈ⎤⎤⎞, ⎛3.46410161513775⋅ⅈ, 1, ⎡⎡0.288675134594813⋅ⅈ ⎤⎤⎞⎤\n",
       "                  ⎥⎥⎟  ⎜                       ⎢⎢                    ⎥⎥⎟⎥\n",
       "      -1.0        ⎥⎥⎟  ⎜                       ⎢⎢        -1.0        ⎥⎥⎟⎥\n",
       "                  ⎥⎥⎟  ⎜                       ⎢⎢                    ⎥⎥⎟⎥\n",
       "288675134594813⋅ⅈ ⎥⎥⎟  ⎜                       ⎢⎢-0.288675134594813⋅ⅈ⎥⎥⎟⎥\n",
       "                  ⎥⎥⎟  ⎜                       ⎢⎢                    ⎥⎥⎟⎥\n",
       "      1.0         ⎦⎦⎠  ⎝                       ⎣⎣        1.0         ⎦⎦⎠⎦"
      ]
     },
     "execution_count": 117,
     "metadata": {},
     "output_type": "execute_result"
    }
   ],
   "source": [
    "A.subs([(m1, 1.0), (m2, 1.0), (k1, 4.0), (k2, 4.0), (k3, 4.0)]).eigenvects()"
   ]
  },
  {
   "cell_type": "markdown",
   "metadata": {},
   "source": [
    "The SymPy ```eigenvects()``` function returns the eigenvalue, its multiplicity, and the eigenvector. For our choice of states in the state vector, we want to look at the 1st and 3rd value of each eigenvectors, as they correspond to the motion of $x_1$ and $x_2$. We can also multiply each by $i$ to make them real."
   ]
  },
  {
   "cell_type": "code",
   "execution_count": 135,
   "metadata": {
    "collapsed": false
   },
   "outputs": [
    {
     "data": {
      "image/png": "[encoded data removed]",
      "text/latex": [
       "$$\\left[\\begin{matrix}0.5\\\\1.0 i\\\\0.5\\\\1.0 i\\end{matrix}\\right]$$"
      ],
      "text/plain": [
       "⎡ 0.5 ⎤\n",
       "⎢     ⎥\n",
       "⎢1.0⋅ⅈ⎥\n",
       "⎢     ⎥\n",
       "⎢ 0.5 ⎥\n",
       "⎢     ⎥\n",
       "⎣1.0⋅ⅈ⎦"
      ]
     },
     "execution_count": 135,
     "metadata": {},
     "output_type": "execute_result"
    }
   ],
   "source": [
    "A.subs([(m1, 1.0), (m2, 1.0), (k1, 4.0), (k2, 4.0), (k3, 4.0)]).eigenvects()[1][2][0] * sympy.I"
   ]
  },
  {
   "cell_type": "code",
   "execution_count": 137,
   "metadata": {
    "collapsed": false
   },
   "outputs": [
    {
     "data": {
      "image/png": "[encoded data removed]",
      "text/latex": [
       "$$\\left[\\begin{matrix}-0.288675134594813\\\\- 1.0 i\\\\0.288675134594813\\\\1.0 i\\end{matrix}\\right]$$"
      ],
      "text/plain": [
       "⎡-0.288675134594813⎤\n",
       "⎢                  ⎥\n",
       "⎢      -1.0⋅ⅈ      ⎥\n",
       "⎢                  ⎥\n",
       "⎢0.288675134594813 ⎥\n",
       "⎢                  ⎥\n",
       "⎣      1.0⋅ⅈ       ⎦"
      ]
     },
     "execution_count": 137,
     "metadata": {},
     "output_type": "execute_result"
    }
   ],
   "source": [
    "A.subs([(m1, 1.0), (m2, 1.0), (k1, 4.0), (k2, 4.0), (k3, 4.0)]).eigenvects()[3][2][0] * sympy.I"
   ]
  },
  {
   "cell_type": "markdown",
   "metadata": {},
   "source": [
    "We see that these vectors have the same proportions as those calculated by the purely numerical method."
   ]
  },
  {
   "cell_type": "markdown",
   "metadata": {},
   "source": [
    "# Using the Symmetric Form\n",
    "Using the matrices from the equations of motion, we can define two new matrices, $A$ and $B$, by:\n",
    "\n",
    "$ \\quad A = \\left[\\begin{array}{cc}\\hphantom{-}0 & -K \\\\-K & -C\\end{array}\\right] \\ \\ \\ \\ \\ \\ \\ B = \\left[\\begin{array}{cc}-K & 0 \\\\ \\hphantom{-}0 & M\\end{array}\\right]$\n",
    "\n",
    "In this case, $ C = 0 $, so the equations reduce to:\n",
    "\n",
    "$ \\quad A = \\left[\\begin{array}{cc}\\hphantom{-}0 & -K \\\\-K & 0\\end{array}\\right] \\ \\ \\ \\ \\ \\ \\ B = \\left[\\begin{array}{cc}-K & 0 \\\\ \\hphantom{-}0 & M\\end{array}\\right]$"
   ]
  },
  {
   "cell_type": "code",
   "execution_count": null,
   "metadata": {
    "collapsed": true
   },
   "outputs": [],
   "source": [
    "A = sympy.Matrix([[0, 0, -(k1 + k2), k2],\n",
    "                  [0, 0, k2, (-k2 + k3)],\n",
    "                  [-(k1 + k2), k2, 0, 0],\n",
    "                  [k2, (-k2 + k3), 0, 0]])\n",
    "\n",
    "B = sympy.Matrix([[-(k1 + k2), k2, 0, 0],\n",
    "                  [k2, (-k2 + k3), 0, 0],\n",
    "                  [0, 0, m1, 0],\n",
    "                  [0, 0, 0, m2]])\n",
    "\n",
    "A.subs([(m1, 1.0), (m2, 1.0), (k1, 4.0), (k2, 4.0), (k3, 4.0)]).eigenvals()"
   ]
  },
  {
   "cell_type": "markdown",
   "metadata": {},
   "source": [
    "<hr class = \"style-end\">"
   ]
  },
  {
   "cell_type": "markdown",
   "metadata": {},
   "source": [
    "#### Licenses\n",
    "Code is licensed under a 3-clause BSD style license. See the licenses/LICENSE.md file.\n",
    "\n",
    "Other content is provided under a [Creative Commons Attribution-NonCommercial 4.0 International License](http://creativecommons.org/licenses/by-nc/4.0/), CC-BY-NC 4.0.\n",
    "\n"
   ]
  },
  {
   "cell_type": "code",
   "execution_count": 14,
   "metadata": {
    "collapsed": false
   },
   "outputs": [
    {
     "data": {
      "text/html": [
       "<style>\n",
       "    @font-face {\n",
       "        font-family: \"Computer Modern\";\n",
       "        src: url('http://9dbb143991406a7c655e-aa5fcb0a5a4ec34cff238a2d56ca4144.r56.cf5.rackcdn.com/cmunss.otf');\n",
       "    }\n",
       "    @font-face {\n",
       "        font-family: \"Computer Modern\";\n",
       "        font-weight: bold;\n",
       "        src: url('http://9dbb143991406a7c655e-aa5fcb0a5a4ec34cff238a2d56ca4144.r56.cf5.rackcdn.com/cmunsx.otf');\n",
       "    }\n",
       "    @font-face {\n",
       "        font-family: \"Computer Modern\";\n",
       "        font-style: oblique;\n",
       "        src: url('http://9dbb143991406a7c655e-aa5fcb0a5a4ec34cff238a2d56ca4144.r56.cf5.rackcdn.com/cmunsi.otf');\n",
       "    }\n",
       "    @font-face {\n",
       "        font-family: \"Computer Modern\";\n",
       "        font-weight: bold;\n",
       "        font-style: oblique;\n",
       "        src: url('http://9dbb143991406a7c655e-aa5fcb0a5a4ec34cff238a2d56ca4144.r56.cf5.rackcdn.com/cmunso.otf');\n",
       "    }\n",
       "    \n",
       "    div.cell{\n",
       "        max-width:1100px;\n",
       "        margin-left:auto;\n",
       "        margin-right:auto;\n",
       "    }\n",
       "    \n",
       "    h1 {\n",
       "        font-family: Computer Modern;\n",
       "    }\n",
       "    \n",
       "    h4{\n",
       "        margin-top:12px;\n",
       "        margin-bottom: 3px;\n",
       "       }\n",
       "\n",
       "    div.text_cell_render{\n",
       "        font-family: Computer Modern, \"Helvetica Neue\", Arial, Helvetica, Geneva, sans-serif;\n",
       "        line-height: 145%;\n",
       "        font-size: 130%;\n",
       "        max-width:1100px;\n",
       "        margin-left:auto;\n",
       "        margin-right:auto;\n",
       "    }\n",
       "    \n",
       "    .CodeMirror{\n",
       "            font-family: \"Source Code Pro\", source-code-pro, Consolas, monospace;\n",
       "    }\n",
       "    \n",
       "    .warning{\n",
       "        color: rgb( 240, 20, 20 )\n",
       "        }  \n",
       "    \n",
       "    hr.style-end {\n",
       "    border: 0;\n",
       "    height: 1px;\n",
       "    text-align: center;\n",
       "    background: #333;\n",
       "    background-image: -webkit-linear-gradient(left, #ccc, #333, #ccc); \n",
       "    background-image:    -moz-linear-gradient(left, #ccc, #333, #ccc); \n",
       "    background-image:     -ms-linear-gradient(left, #ccc, #333, #ccc); \n",
       "    background-image:      -o-linear-gradient(left, #ccc, #333, #ccc); \n",
       "    }\n",
       "\n",
       "    hr.style-end:after {\n",
       "    content: \"⚜\";\n",
       "    display: inline-block;\n",
       "    position: relative; \n",
       "    top: -0.5em;  \n",
       "    font-size: 1.5em;\n",
       "    padding: 0 0.25em;\n",
       "    background: white;\n",
       "    }\n",
       "    \n",
       "/*  Center figures, etc\n",
       "    .ui-wrapper {\n",
       "        margin-left: auto !important;\n",
       "        margin-right: auto !important;\n",
       "    }\n",
       " */\n",
       "    \n",
       "</style>\n",
       "<script>\n",
       "    MathJax.Hub.Config({\n",
       "                        TeX: {\n",
       "                           extensions: [\"AMSmath.js\"]\n",
       "                           },\n",
       "                tex2jax: {\n",
       "                    inlineMath: [ ['$','$'], [\"\\\\(\",\"\\\\)\"] ],\n",
       "                    displayMath: [ ['$$','$$'], [\"\\\\[\",\"\\\\]\"] ]\n",
       "                },\n",
       "                displayAlign: 'center', // Change this to 'center' to center equations.\n",
       "                \"HTML-CSS\": {\n",
       "                    styles: {'.MathJax_Display': {\"margin\": 4}}\n",
       "                }\n",
       "        });\n",
       "</script>\n"
      ],
      "text/plain": [
       "<IPython.core.display.HTML object>"
      ]
     },
     "execution_count": 14,
     "metadata": {},
     "output_type": "execute_result"
    }
   ],
   "source": [
    "# Ignore this cell - We just update the CSS to make the notebook look a little bit better and easier to read\n",
    "\n",
    "# Improve the notebook styling -- Run this first\n",
    "from IPython.core.display import HTML\n",
    "css_file = 'styling/CRAWLAB_IPythonNotebook.css'\n",
    "HTML(open(css_file, \"r\").read())"
   ]
  }
 ],
 "metadata": {
  "kernelspec": {
   "display_name": "Python 3",
   "language": "python",
   "name": "python3"
  },
  "language_info": {
   "codemirror_mode": {
    "name": "ipython",
    "version": 3
   },
   "file_extension": ".py",
   "mimetype": "text/x-python",
   "name": "python",
   "nbconvert_exporter": "python",
   "pygments_lexer": "ipython3",
   "version": "3.5.1"
  }
 },
 "nbformat": 4,
 "nbformat_minor": 0
}
