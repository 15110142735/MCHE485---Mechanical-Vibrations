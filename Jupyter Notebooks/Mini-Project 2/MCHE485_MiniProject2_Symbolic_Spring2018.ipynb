{
 "cells": [
  {
   "cell_type": "markdown",
   "metadata": {},
   "source": [
    "<h1 style=\"text-align:center\"> MCHE 485: Mechanical Vibrations</h1>\n",
    "<h2 style=\"text-align:center\">Mini-Project 2 Symbolic Manipulation <br> Spring 2018</h2>\n",
    "<p style=\"text-align:center\">Dr. Joshua Vaughan<br>\n",
    "<a href=\"mailto:joshua.vaughan@louisiana.edu\">joshua.vaughan@louisiana.edu</a><br>\n",
    "http://www.ucs.louisiana.edu/~jev9637/</p>"
   ]
  },
  {
   "cell_type": "markdown",
   "metadata": {},
   "source": [
    "In some configurations, crane payloads can behave like double-pendulums. A planar model that captures this effect is sketched in Figure 1. In this model, the cables are assumed to be massless, inflexible, and inextensible. The main suspension cable (between the trolley and the hook) has a length of $l_1$, and the rigging (between the crane hook and payload) has a length of $l_2$. The hook has mass, $m_h$, and the payload has mass, $m_p$. The angles of the suspension cable and rigging cable are described by $\\theta$ and $\\phi$, respectively.\n",
    "\n",
    "<p style=\"text-align:center\">\n",
    "\t<img src=\"http://crawlab.org/shared/crane_doublePend.png\" alt=\"Crane with Double-pendulum Payload\" width=20%><br>\n",
    "    <strong>Figure 1: Crane with Double-pendulum Payload</strong>\n",
    "</p>\n",
    "\n",
    "Most the data you have been given was generated via trolley motion, *residual* vibration (*i.e.* the vibration after the move is finished) can be treated as free vibration with initial conditions corresponding to those at the conclusion of the trolley motion. In this case, the crane model simplifies to the simple double-pendulum one shown in Figure 2. It is this model that you will develop and use in this mini-project.\n",
    "\n",
    "<p style=\"text-align:center\">\n",
    "\t<img src=\"http://crawlab.org/shared/fixed_doublePend.png\" alt=\"Double-Pendulum\" width=20%><br>\n",
    "    <strong>Figure 2: Double-Pendulum</strong>\n",
    "</p>"
   ]
  },
  {
   "cell_type": "markdown",
   "metadata": {},
   "source": [
    "Using [SymPy](http://sympy.org), we can solve for the eigenvalues and eigenvalues symbolically. We'll first set up and solve the problem just as we would by hand, just replacing the algebra of the solution with SymPy."
   ]
  },
  {
   "cell_type": "code",
   "execution_count": 1,
   "metadata": {
    "collapsed": true
   },
   "outputs": [],
   "source": [
    "import numpy as np\n",
    "import sympy\n",
    "\n",
    "sympy.init_printing()"
   ]
  },
  {
   "cell_type": "code",
   "execution_count": 2,
   "metadata": {
    "collapsed": true
   },
   "outputs": [],
   "source": [
    "# We want our plots to be displayed inline, not in a separate window\n",
    "%matplotlib inline \n",
    "\n",
    "# Import the plotting functions \n",
    "import matplotlib.pyplot as plt"
   ]
  },
  {
   "cell_type": "code",
   "execution_count": 3,
   "metadata": {
    "collapsed": true
   },
   "outputs": [],
   "source": [
    "# Let's also improve the printing of NumPy arrays.\n",
    "np.set_printoptions(precision=3, suppress=True)"
   ]
  },
  {
   "cell_type": "code",
   "execution_count": 4,
   "metadata": {},
   "outputs": [],
   "source": [
    "# Define the symbols\n",
    "mh, mp, l1, l2, g = sympy.symbols('m_h m_p l_1 l_2 g')\n",
    "\n",
    "w, w1, w2 = sympy.symbols('omega omega_1 omega_2')\n",
    "\n",
    "theta, phi = sympy.symbols('theta phi')\n",
    "\n",
    "M = sympy.Matrix([[(mh + mp) * l1**2,     mp * l1 * l2],\n",
    "                  [mp * l1 * l2,          mp * l2**2]])\n",
    "\n",
    "K = sympy.Matrix([[(mh + mp) * g * l1,    0],\n",
    "                  [0,                     mp * g * l2]])"
   ]
  },
  {
   "cell_type": "code",
   "execution_count": 5,
   "metadata": {
    "collapsed": true
   },
   "outputs": [],
   "source": [
    "# create the matrix to solve\n",
    "KM = K - w**2 * M\n",
    "\n",
    "eigenvalues = sympy.solve(KM.det(), w**2)"
   ]
  },
  {
   "cell_type": "markdown",
   "metadata": {},
   "source": [
    "In SymPy, the easiest way to output the answer is to call it in its own cell."
   ]
  },
  {
   "cell_type": "code",
   "execution_count": 6,
   "metadata": {},
   "outputs": [
    {
     "data": {
      "image/png": "[encoded data removed]",
      "text/latex": [
       "$$\\frac{g}{2 l_{1} l_{2} m_{h}} \\left(- \\sqrt{\\left(m_{h} + m_{p}\\right) \\left(l_{1}^{2} m_{h} + l_{1}^{2} m_{p} - 2 l_{1} l_{2} m_{h} + 2 l_{1} l_{2} m_{p} + l_{2}^{2} m_{h} + l_{2}^{2} m_{p}\\right)} + \\left(l_{1} + l_{2}\\right) \\left(m_{h} + m_{p}\\right)\\right)$$"
      ],
      "text/plain": [
       "  ⎛     ______________________________________________________________________\n",
       "  ⎜    ╱           ⎛  2        2                                  2        2  \n",
       "g⋅⎝- ╲╱  (mₕ + mₚ)⋅⎝l₁ ⋅mₕ + l₁ ⋅mₚ - 2⋅l₁⋅l₂⋅mₕ + 2⋅l₁⋅l₂⋅mₚ + l₂ ⋅mₕ + l₂ ⋅m\n",
       "──────────────────────────────────────────────────────────────────────────────\n",
       "                                               2⋅l₁⋅l₂⋅mₕ                     \n",
       "\n",
       "___                      ⎞\n",
       " ⎞                       ⎟\n",
       "ₚ⎠  + (l₁ + l₂)⋅(mₕ + mₚ)⎠\n",
       "──────────────────────────\n",
       "                          "
      ]
     },
     "execution_count": 6,
     "metadata": {},
     "output_type": "execute_result"
    }
   ],
   "source": [
    "eigenvalues[0]"
   ]
  },
  {
   "cell_type": "code",
   "execution_count": 7,
   "metadata": {},
   "outputs": [
    {
     "data": {
      "image/png": "[encoded data removed]",
      "text/latex": [
       "$$\\frac{g}{2 l_{1} l_{2} m_{h}} \\left(\\sqrt{\\left(m_{h} + m_{p}\\right) \\left(l_{1}^{2} m_{h} + l_{1}^{2} m_{p} - 2 l_{1} l_{2} m_{h} + 2 l_{1} l_{2} m_{p} + l_{2}^{2} m_{h} + l_{2}^{2} m_{p}\\right)} + \\left(l_{1} + l_{2}\\right) \\left(m_{h} + m_{p}\\right)\\right)$$"
      ],
      "text/plain": [
       "  ⎛   ________________________________________________________________________\n",
       "  ⎜  ╱           ⎛  2        2                                  2        2   ⎞\n",
       "g⋅⎝╲╱  (mₕ + mₚ)⋅⎝l₁ ⋅mₕ + l₁ ⋅mₚ - 2⋅l₁⋅l₂⋅mₕ + 2⋅l₁⋅l₂⋅mₚ + l₂ ⋅mₕ + l₂ ⋅mₚ⎠\n",
       "──────────────────────────────────────────────────────────────────────────────\n",
       "                                              2⋅l₁⋅l₂⋅mₕ                      \n",
       "\n",
       "_                      ⎞\n",
       "                       ⎟\n",
       "  + (l₁ + l₂)⋅(mₕ + mₚ)⎠\n",
       "────────────────────────\n",
       "                        "
      ]
     },
     "execution_count": 7,
     "metadata": {},
     "output_type": "execute_result"
    }
   ],
   "source": [
    "eigenvalues[1]"
   ]
  },
  {
   "cell_type": "markdown",
   "metadata": {},
   "source": [
    "We can substiute numerical values for those that we know and are constant, leaving only the unknowns in the expressions for the eignevalues.\n",
    "\n",
    "$ \\quad m_h = 50.0 $ kg\n",
    "\n",
    "and \n",
    "\n",
    "$ \\quad l_1 = 3.5 $ m"
   ]
  },
  {
   "cell_type": "code",
   "execution_count": 8,
   "metadata": {},
   "outputs": [
    {
     "data": {
      "image/png": "[encoded data removed]",
      "text/latex": [
       "$$\\frac{0.00285714285714286 g}{l_{2}} \\left(- \\sqrt{\\left(m_{p} + 50.0\\right) \\left(l_{2}^{2} m_{p} + 50.0 l_{2}^{2} + 7.0 l_{2} m_{p} - 350.0 l_{2} + 12.25 m_{p} + 612.5\\right)} + \\left(l_{2} + 3.5\\right) \\left(m_{p} + 50.0\\right)\\right)$$"
      ],
      "text/plain": [
       "                      ⎛     __________________________________________________\n",
       "                      ⎜    ╱             ⎛  2             2                   \n",
       "0.00285714285714286⋅g⋅⎝- ╲╱  (mₚ + 50.0)⋅⎝l₂ ⋅mₚ + 50.0⋅l₂  + 7.0⋅l₂⋅mₚ - 350.\n",
       "──────────────────────────────────────────────────────────────────────────────\n",
       "                                                                l₂            \n",
       "\n",
       "_________________________                         ⎞\n",
       "                       ⎞                          ⎟\n",
       "0⋅l₂ + 12.25⋅mₚ + 612.5⎠  + (l₂ + 3.5)⋅(mₚ + 50.0)⎠\n",
       "───────────────────────────────────────────────────\n",
       "                                                   "
      ]
     },
     "execution_count": 8,
     "metadata": {},
     "output_type": "execute_result"
    }
   ],
   "source": [
    "eigenvalues[0].subs([(mh, 50.0), (l1, 3.5)])"
   ]
  },
  {
   "cell_type": "code",
   "execution_count": 9,
   "metadata": {},
   "outputs": [
    {
     "data": {
      "image/png": "[encoded data removed]",
      "text/latex": [
       "$$\\frac{0.00285714285714286 g}{l_{2}} \\left(\\sqrt{\\left(m_{p} + 50.0\\right) \\left(l_{2}^{2} m_{p} + 50.0 l_{2}^{2} + 7.0 l_{2} m_{p} - 350.0 l_{2} + 12.25 m_{p} + 612.5\\right)} + \\left(l_{2} + 3.5\\right) \\left(m_{p} + 50.0\\right)\\right)$$"
      ],
      "text/plain": [
       "                      ⎛   ____________________________________________________\n",
       "                      ⎜  ╱             ⎛  2             2                     \n",
       "0.00285714285714286⋅g⋅⎝╲╱  (mₚ + 50.0)⋅⎝l₂ ⋅mₚ + 50.0⋅l₂  + 7.0⋅l₂⋅mₚ - 350.0⋅\n",
       "──────────────────────────────────────────────────────────────────────────────\n",
       "                                                               l₂             \n",
       "\n",
       "_______________________                         ⎞\n",
       "                     ⎞                          ⎟\n",
       "l₂ + 12.25⋅mₚ + 612.5⎠  + (l₂ + 3.5)⋅(mₚ + 50.0)⎠\n",
       "─────────────────────────────────────────────────\n",
       "                                                 "
      ]
     },
     "execution_count": 9,
     "metadata": {},
     "output_type": "execute_result"
    }
   ],
   "source": [
    "eigenvalues[1].subs([(mh, 50.0), (l1, 3.5)])"
   ]
  },
  {
   "cell_type": "markdown",
   "metadata": {},
   "source": [
    "We can go further for the first part of the project, where we know the mass of the \"normal\" payload to be: \n",
    "\n",
    "$ \\quad m_p = 22.7 $ kg"
   ]
  },
  {
   "cell_type": "code",
   "execution_count": 10,
   "metadata": {},
   "outputs": [
    {
     "data": {
      "image/png": "[encoded data removed]",
      "text/latex": [
       "$$\\frac{0.00285714285714286 g}{l_{2}} \\left(72.7 l_{2} - \\sqrt{5285.29 l_{2}^{2} - 13892.97 l_{2} + 64744.8025} + 254.45\\right)$$"
      ],
      "text/plain": [
       "                      ⎛             ________________________________________  \n",
       "                      ⎜            ╱           2                              \n",
       "0.00285714285714286⋅g⋅⎝72.7⋅l₂ - ╲╱  5285.29⋅l₂  - 13892.97⋅l₂ + 64744.8025  +\n",
       "──────────────────────────────────────────────────────────────────────────────\n",
       "                                          l₂                                  \n",
       "\n",
       "       ⎞\n",
       "       ⎟\n",
       " 254.45⎠\n",
       "────────\n",
       "        "
      ]
     },
     "execution_count": 10,
     "metadata": {},
     "output_type": "execute_result"
    }
   ],
   "source": [
    "eigenvalues[0].subs([(mh, 50.0), (mp, 22.7), (l1, 3.5)])"
   ]
  },
  {
   "cell_type": "code",
   "execution_count": 11,
   "metadata": {},
   "outputs": [
    {
     "data": {
      "image/png": "[encoded data removed]",
      "text/latex": [
       "$$\\frac{0.00285714285714286 g}{l_{2}} \\left(72.7 l_{2} + \\sqrt{5285.29 l_{2}^{2} - 13892.97 l_{2} + 64744.8025} + 254.45\\right)$$"
      ],
      "text/plain": [
       "                      ⎛             ________________________________________  \n",
       "                      ⎜            ╱           2                              \n",
       "0.00285714285714286⋅g⋅⎝72.7⋅l₂ + ╲╱  5285.29⋅l₂  - 13892.97⋅l₂ + 64744.8025  +\n",
       "──────────────────────────────────────────────────────────────────────────────\n",
       "                                          l₂                                  \n",
       "\n",
       "       ⎞\n",
       "       ⎟\n",
       " 254.45⎠\n",
       "────────\n",
       "        "
      ]
     },
     "execution_count": 11,
     "metadata": {},
     "output_type": "execute_result"
    }
   ],
   "source": [
    "eigenvalues[1].subs([(mh, 50.0), (mp, 22.7), (l1, 3.5)])"
   ]
  },
  {
   "cell_type": "markdown",
   "metadata": {},
   "source": [
    "We now have two equations to use to solve for $l_2$ in matching the natural frequencies that we found in the experimental data. For one trial from the data, the dominant frequencies in the FFT were 0.2490Hz and 0.4742Hz.\n",
    "\n",
    "Let's set up a system of equations to solve for $l_2$ to match those frequencies. We'll start by taking the square root of the eigenvalues to get the natural frequencies."
   ]
  },
  {
   "cell_type": "code",
   "execution_count": 12,
   "metadata": {
    "collapsed": true
   },
   "outputs": [],
   "source": [
    "nat_freq_1 = sympy.sqrt(eigenvalues[0].subs([(mh, 50.0), (mp, 22.7), (l1, 3.5), (g, 9.81)]))\n",
    "\n",
    "nat_freq_2 = sympy.sqrt(eigenvalues[1].subs([(mh, 50.0), (mp, 22.7), (l1, 3.5), (g, 9.81)]))"
   ]
  },
  {
   "cell_type": "markdown",
   "metadata": {},
   "source": [
    "Then, we'll use those expressions to solve for $l_2$. The `SymPy.Solve()` method wants equations in the form $f(x) = 0$. We'll first solve the equation for the two frequencies separately. The answers should (mostly) agree."
   ]
  },
  {
   "cell_type": "code",
   "execution_count": 13,
   "metadata": {},
   "outputs": [],
   "source": [
    "f1_experimental = 0.2490 # Frequency of lowest flexible mode found in experimental data (Hz)\n",
    "f2_experimental = 0.4742 # Frequency of lowest flexible mode found in experimental data (Hz)\n",
    "\n",
    "# Convert to rad/s\n",
    "w1_experimental = f1_experimental * 2 * np.pi \n",
    "w2_experimental = f2_experimental * 2 * np.pi \n",
    "\n",
    "\n",
    "l_2_from_w1 = sympy.solve(nat_freq_1 - w1_experimental, l2)\n",
    "l_2_from_w2 = sympy.solve(nat_freq_2 - w2_experimental, l2)"
   ]
  },
  {
   "cell_type": "code",
   "execution_count": 14,
   "metadata": {},
   "outputs": [
    {
     "name": "stdout",
     "output_type": "stream",
     "text": [
      "The rigging cable length determined using the low mode is: 1.2715m\n"
     ]
    }
   ],
   "source": [
    "print('The rigging cable length determined using the low mode is: {:.4f}m'.format(l_2_from_w1[0]))"
   ]
  },
  {
   "cell_type": "code",
   "execution_count": 15,
   "metadata": {},
   "outputs": [
    {
     "name": "stdout",
     "output_type": "stream",
     "text": [
      "The rigging cable length determined using the high mode is: 2.0325m\n"
     ]
    }
   ],
   "source": [
    "print('The rigging cable length determined using the high mode is: {:.4f}m'.format(l_2_from_w2[0]))"
   ]
  },
  {
   "cell_type": "markdown",
   "metadata": {},
   "source": [
    "The two soluations disagree. We'll need to look at the remaining experimental data to try to determine the source of the disagreement and settle on the most-likely estimate for $l_2$."
   ]
  },
  {
   "cell_type": "markdown",
   "metadata": {},
   "source": [
    "#### Now, let's look at the eigenvectors."
   ]
  },
  {
   "cell_type": "code",
   "execution_count": 16,
   "metadata": {},
   "outputs": [],
   "source": [
    "KM1 = K - eigenvalues[0] * M\n",
    "KM2 = K - eigenvalues[1] * M\n",
    "\n",
    "X = sympy.Matrix([[theta], \n",
    "                   [phi]])"
   ]
  },
  {
   "cell_type": "code",
   "execution_count": 17,
   "metadata": {
    "collapsed": true
   },
   "outputs": [],
   "source": [
    "eigenvect1 = sympy.solve(KM1 * X, (theta, phi))\n",
    "eigenvect2 = sympy.solve(KM2 * X, (theta, phi))"
   ]
  },
  {
   "cell_type": "markdown",
   "metadata": {},
   "source": [
    "Because our system of equations is linearly dependent, SymPy will return one of the values in terms of the other, similar to how we solve these problems by hand. So, we can look at the relationship returned to generate the eigenvector."
   ]
  },
  {
   "cell_type": "code",
   "execution_count": 18,
   "metadata": {},
   "outputs": [
    {
     "data": {
      "image/png": "[encoded data removed]",
      "text/latex": [
       "$$\\left \\{ \\theta : - \\frac{l_{2} m_{p} \\phi \\left(l_{1} m_{h} + l_{1} m_{p} + l_{2} m_{h} + l_{2} m_{p} - \\sqrt{l_{1}^{2} m_{h}^{2} + 2 l_{1}^{2} m_{h} m_{p} + l_{1}^{2} m_{p}^{2} - 2 l_{1} l_{2} m_{h}^{2} + 2 l_{1} l_{2} m_{p}^{2} + l_{2}^{2} m_{h}^{2} + 2 l_{2}^{2} m_{h} m_{p} + l_{2}^{2} m_{p}^{2}}\\right)}{l_{1} \\left(l_{1} m_{h}^{2} + 2 l_{1} m_{h} m_{p} + l_{1} m_{p}^{2} - l_{2} m_{h}^{2} + l_{2} m_{p}^{2} - m_{h} \\sqrt{l_{1}^{2} m_{h}^{2} + 2 l_{1}^{2} m_{h} m_{p} + l_{1}^{2} m_{p}^{2} - 2 l_{1} l_{2} m_{h}^{2} + 2 l_{1} l_{2} m_{p}^{2} + l_{2}^{2} m_{h}^{2} + 2 l_{2}^{2} m_{h} m_{p} + l_{2}^{2} m_{p}^{2}} - m_{p} \\sqrt{l_{1}^{2} m_{h}^{2} + 2 l_{1}^{2} m_{h} m_{p} + l_{1}^{2} m_{p}^{2} - 2 l_{1} l_{2} m_{h}^{2} + 2 l_{1} l_{2} m_{p}^{2} + l_{2}^{2} m_{h}^{2} + 2 l_{2}^{2} m_{h} m_{p} + l_{2}^{2} m_{p}^{2}}\\right)}\\right \\}$$"
      ],
      "text/plain": [
       "⎧                                                                       ⎛     \n",
       "⎪                                                                       ⎜     \n",
       "⎪                                                              -l₂⋅mₚ⋅φ⋅⎝l₁⋅mₕ\n",
       "⎨θ: ──────────────────────────────────────────────────────────────────────────\n",
       "⎪      ⎛                                                       _______________\n",
       "⎪      ⎜     2                     2        2        2        ╱   2   2       \n",
       "⎩   l₁⋅⎝l₁⋅mₕ  + 2⋅l₁⋅mₕ⋅mₚ + l₁⋅mₚ  - l₂⋅mₕ  + l₂⋅mₚ  - mₕ⋅╲╱  l₁ ⋅mₕ  + 2⋅l₁\n",
       "\n",
       "                              ________________________________________________\n",
       "                             ╱   2   2       2           2   2             2  \n",
       " + l₁⋅mₚ + l₂⋅mₕ + l₂⋅mₚ - ╲╱  l₁ ⋅mₕ  + 2⋅l₁ ⋅mₕ⋅mₚ + l₁ ⋅mₚ  - 2⋅l₁⋅l₂⋅mₕ  +\n",
       "──────────────────────────────────────────────────────────────────────────────\n",
       "______________________________________________________________________________\n",
       "2           2   2             2             2     2   2       2           2   \n",
       " ⋅mₕ⋅mₚ + l₁ ⋅mₚ  - 2⋅l₁⋅l₂⋅mₕ  + 2⋅l₁⋅l₂⋅mₚ  + l₂ ⋅mₕ  + 2⋅l₂ ⋅mₕ⋅mₚ + l₂ ⋅mₚ\n",
       "\n",
       "_______________________________________________⎞                              \n",
       "           2     2   2       2           2   2 ⎟                              \n",
       " 2⋅l₁⋅l₂⋅mₚ  + l₂ ⋅mₕ  + 2⋅l₂ ⋅mₕ⋅mₚ + l₂ ⋅mₚ  ⎠                              \n",
       "──────────────────────────────────────────────────────────────────────────────\n",
       "__         ___________________________________________________________________\n",
       "2         ╱   2   2       2           2   2             2             2     2 \n",
       "   - mₚ⋅╲╱  l₁ ⋅mₕ  + 2⋅l₁ ⋅mₕ⋅mₚ + l₁ ⋅mₚ  - 2⋅l₁⋅l₂⋅mₕ  + 2⋅l₁⋅l₂⋅mₚ  + l₂ ⋅\n",
       "\n",
       "                             ⎫\n",
       "                             ⎪\n",
       "                             ⎪\n",
       "─────────────────────────────⎬\n",
       "____________________________⎞⎪\n",
       "  2       2           2   2 ⎟⎪\n",
       "mₕ  + 2⋅l₂ ⋅mₕ⋅mₚ + l₂ ⋅mₚ  ⎠⎭"
      ]
     },
     "execution_count": 18,
     "metadata": {},
     "output_type": "execute_result"
    }
   ],
   "source": [
    "eigenvect1"
   ]
  },
  {
   "cell_type": "code",
   "execution_count": 19,
   "metadata": {},
   "outputs": [
    {
     "data": {
      "image/png": "[encoded data removed]",
      "text/latex": [
       "$$\\left \\{ \\theta : - \\frac{l_{2} m_{p} \\phi \\left(l_{1} m_{h} + l_{1} m_{p} + l_{2} m_{h} + l_{2} m_{p} + \\sqrt{l_{1}^{2} m_{h}^{2} + 2 l_{1}^{2} m_{h} m_{p} + l_{1}^{2} m_{p}^{2} - 2 l_{1} l_{2} m_{h}^{2} + 2 l_{1} l_{2} m_{p}^{2} + l_{2}^{2} m_{h}^{2} + 2 l_{2}^{2} m_{h} m_{p} + l_{2}^{2} m_{p}^{2}}\\right)}{l_{1} \\left(l_{1} m_{h}^{2} + 2 l_{1} m_{h} m_{p} + l_{1} m_{p}^{2} - l_{2} m_{h}^{2} + l_{2} m_{p}^{2} + m_{h} \\sqrt{l_{1}^{2} m_{h}^{2} + 2 l_{1}^{2} m_{h} m_{p} + l_{1}^{2} m_{p}^{2} - 2 l_{1} l_{2} m_{h}^{2} + 2 l_{1} l_{2} m_{p}^{2} + l_{2}^{2} m_{h}^{2} + 2 l_{2}^{2} m_{h} m_{p} + l_{2}^{2} m_{p}^{2}} + m_{p} \\sqrt{l_{1}^{2} m_{h}^{2} + 2 l_{1}^{2} m_{h} m_{p} + l_{1}^{2} m_{p}^{2} - 2 l_{1} l_{2} m_{h}^{2} + 2 l_{1} l_{2} m_{p}^{2} + l_{2}^{2} m_{h}^{2} + 2 l_{2}^{2} m_{h} m_{p} + l_{2}^{2} m_{p}^{2}}\\right)}\\right \\}$$"
      ],
      "text/plain": [
       "⎧                                                                       ⎛     \n",
       "⎪                                                                       ⎜     \n",
       "⎪                                                              -l₂⋅mₚ⋅φ⋅⎝l₁⋅mₕ\n",
       "⎨θ: ──────────────────────────────────────────────────────────────────────────\n",
       "⎪      ⎛                                                       _______________\n",
       "⎪      ⎜     2                     2        2        2        ╱   2   2       \n",
       "⎩   l₁⋅⎝l₁⋅mₕ  + 2⋅l₁⋅mₕ⋅mₚ + l₁⋅mₚ  - l₂⋅mₕ  + l₂⋅mₚ  + mₕ⋅╲╱  l₁ ⋅mₕ  + 2⋅l₁\n",
       "\n",
       "                              ________________________________________________\n",
       "                             ╱   2   2       2           2   2             2  \n",
       " + l₁⋅mₚ + l₂⋅mₕ + l₂⋅mₚ + ╲╱  l₁ ⋅mₕ  + 2⋅l₁ ⋅mₕ⋅mₚ + l₁ ⋅mₚ  - 2⋅l₁⋅l₂⋅mₕ  +\n",
       "──────────────────────────────────────────────────────────────────────────────\n",
       "______________________________________________________________________________\n",
       "2           2   2             2             2     2   2       2           2   \n",
       " ⋅mₕ⋅mₚ + l₁ ⋅mₚ  - 2⋅l₁⋅l₂⋅mₕ  + 2⋅l₁⋅l₂⋅mₚ  + l₂ ⋅mₕ  + 2⋅l₂ ⋅mₕ⋅mₚ + l₂ ⋅mₚ\n",
       "\n",
       "_______________________________________________⎞                              \n",
       "           2     2   2       2           2   2 ⎟                              \n",
       " 2⋅l₁⋅l₂⋅mₚ  + l₂ ⋅mₕ  + 2⋅l₂ ⋅mₕ⋅mₚ + l₂ ⋅mₚ  ⎠                              \n",
       "──────────────────────────────────────────────────────────────────────────────\n",
       "__         ___________________________________________________________________\n",
       "2         ╱   2   2       2           2   2             2             2     2 \n",
       "   + mₚ⋅╲╱  l₁ ⋅mₕ  + 2⋅l₁ ⋅mₕ⋅mₚ + l₁ ⋅mₚ  - 2⋅l₁⋅l₂⋅mₕ  + 2⋅l₁⋅l₂⋅mₚ  + l₂ ⋅\n",
       "\n",
       "                             ⎫\n",
       "                             ⎪\n",
       "                             ⎪\n",
       "─────────────────────────────⎬\n",
       "____________________________⎞⎪\n",
       "  2       2           2   2 ⎟⎪\n",
       "mₕ  + 2⋅l₂ ⋅mₕ⋅mₚ + l₂ ⋅mₚ  ⎠⎭"
      ]
     },
     "execution_count": 19,
     "metadata": {},
     "output_type": "execute_result"
    }
   ],
   "source": [
    "eigenvect2"
   ]
  },
  {
   "cell_type": "markdown",
   "metadata": {},
   "source": [
    "We could again substitute the numerical values. Let's use the case we looked at above and the length of $l_2$ we found from using the low mode equation."
   ]
  },
  {
   "cell_type": "code",
   "execution_count": 20,
   "metadata": {},
   "outputs": [
    {
     "data": {
      "image/png": "[encoded data removed]",
      "text/latex": [
       "$$0.781798828536473 \\phi$$"
      ],
      "text/plain": [
       "0.781798828536473⋅φ"
      ]
     },
     "execution_count": 20,
     "metadata": {},
     "output_type": "execute_result"
    }
   ],
   "source": [
    "eigenvect1[theta].subs([(mh, 50.0), (mp, 22.7), (l1, 3.5), (l2, l_2_from_w1[0]), (g, 9.81)])"
   ]
  },
  {
   "cell_type": "markdown",
   "metadata": {},
   "source": [
    "So, for this set of parameters, in the low mode of oscillation the two masses are moving in phase, with the amplitude of displacement in $\\theta \\approx 0.782 \\phi$."
   ]
  },
  {
   "cell_type": "code",
   "execution_count": 21,
   "metadata": {},
   "outputs": [
    {
     "data": {
      "image/png": "[encoded data removed]",
      "text/latex": [
       "$$- 0.145097672999893 \\phi$$"
      ],
      "text/plain": [
       "-0.145097672999893⋅φ"
      ]
     },
     "execution_count": 21,
     "metadata": {},
     "output_type": "execute_result"
    }
   ],
   "source": [
    "eigenvect2[theta].subs([(mh, 50.0), (mp, 22.7), (l1, 3.5), (l2, l_2_from_w1[0]), (g, 9.81)])"
   ]
  },
  {
   "cell_type": "markdown",
   "metadata": {},
   "source": [
    "So, for this set of parameters, in the second, high mode of oscillation the two masses are moving in out of phase, with the amplitude of displacement in $\\theta \\approx -0.145 \\phi$."
   ]
  },
  {
   "cell_type": "markdown",
   "metadata": {},
   "source": [
    "<hr style=\"border: 0px;\n",
    "        height: 1px;\n",
    "        text-align: center;\n",
    "        background: #333;\n",
    "        background-image: -webkit-linear-gradient(left, #ccc, #333, #ccc); \n",
    "        background-image:    -moz-linear-gradient(left, #ccc, #333, #ccc); \n",
    "        background-image:     -ms-linear-gradient(left, #ccc, #333, #ccc); \n",
    "        background-image:      -o-linear-gradient(left, #ccc, #333, #ccc);\">"
   ]
  },
  {
   "cell_type": "markdown",
   "metadata": {},
   "source": [
    "#### Licenses\n",
    "Code is licensed under a 3-clause BSD style license. See the licenses/LICENSE.md file.\n",
    "\n",
    "Other content is provided under a [Creative Commons Attribution-NonCommercial 4.0 International License](http://creativecommons.org/licenses/by-nc/4.0/), CC-BY-NC 4.0.\n",
    "\n"
   ]
  },
  {
   "cell_type": "code",
   "execution_count": 22,
   "metadata": {},
   "outputs": [
    {
     "data": {
      "text/html": [
       "<script>\n",
       "    MathJax.Hub.Config({\n",
       "                        TeX: {\n",
       "                           extensions: [\"AMSmath.js\"]\n",
       "                           },\n",
       "                tex2jax: {\n",
       "                    inlineMath: [ ['$','$'], [\"\\\\(\",\"\\\\)\"] ],\n",
       "                    displayMath: [ ['$$','$$'], [\"\\\\[\",\"\\\\]\"] ]\n",
       "                },\n",
       "                displayAlign: 'center', // Change this to 'center' to center equations.\n",
       "                \"HTML-CSS\": {\n",
       "                    styles: {'.MathJax_Display': {\"margin\": 4}}\n",
       "                }\n",
       "        });\n",
       "</script>\n",
       "\n",
       "<style>\n",
       "    @font-face {\n",
       "        font-family: \"Computer Modern\";\n",
       "        src: url('http://mirrors.ctan.org/fonts/cm-unicode/fonts/otf/cmunss.otf');\n",
       "    }\n",
       "    @font-face {\n",
       "        font-family: \"Computer Modern\";\n",
       "        src: url('http://mirrors.ctan.org/fonts/cm-unicode/fonts/otf/cmunsx.otf');\n",
       "        font-weight: bold;\n",
       "    }\n",
       "    @font-face {\n",
       "        font-family: \"Computer Modern\";\n",
       "        src: url('http://mirrors.ctan.org/fonts/cm-unicode/fonts/otf/cmunsi.otf');\n",
       "        font-style: oblique;\n",
       "    }\n",
       "    @font-face {\n",
       "        font-family: \"Computer Modern\";\n",
       "        src: url('http://mirrors.ctan.org/fonts/cm-unicode/fonts/otf/cmunso.otf');\n",
       "        font-weight: bold;\n",
       "        font-style: oblique;\n",
       "    }\n",
       "\n",
       "    div.cell {\n",
       "        max-width: 1100px;\n",
       "    }\n",
       "    \n",
       "    h1 {\n",
       "        font-family: Computer Modern;\n",
       "    }\n",
       "    \n",
       "    h4 {\n",
       "        margin-top: 12px;\n",
       "        margin-bottom: 3px;\n",
       "    }\n",
       "\n",
       "    div.text_cell_render {\n",
       "        font-family: Computer Modern, \"Helvetica Neue\", Arial, Helvetica, Geneva, sans-serif;\n",
       "        line-height: 145%;\n",
       "        font-size: 130%;\n",
       "        width: 100%;\n",
       "        max-width: 1100px;\n",
       "    }\n",
       "    \n",
       "    .CodeMirror {\n",
       "        font-family: \"Source Code Pro\", source-code-pro, Consolas, monospace;\n",
       "    }\n",
       "    \n",
       "    .warning {\n",
       "        color: rgb( 240, 20, 20 )\n",
       "    }  \n",
       "  \n",
       "   \n",
       "    hr.style-end {\n",
       "        border: 0px !important;\n",
       "        height: 1px !important;\n",
       "        text-align: center !important;\n",
       "        background: #333 !important;\n",
       "        background-image: -webkit-linear-gradient(left, #ccc, #333, #ccc) !important; \n",
       "        background-image:    -moz-linear-gradient(left, #ccc, #333, #ccc) !important; \n",
       "        background-image:     -ms-linear-gradient(left, #ccc, #333, #ccc) !important; \n",
       "        background-image:      -o-linear-gradient(left, #ccc, #333, #ccc) !important; \n",
       "    }\n",
       "\n",
       "    hr.style-end:after {\n",
       "        content: &#x269C !important;\n",
       "        left: 50% !important;\n",
       "        position: absolute !important;\n",
       "        /* Controls the whitespace around the symbol */\n",
       "        padding: 0px !important;\n",
       "        background: #fff !important;\n",
       "    }\n",
       "    \n",
       "/*  Center figures, etc\n",
       "    .ui-wrapper {\n",
       "        margin-left: auto !important;\n",
       "        margin-right: auto !important;\n",
       "    }\n",
       "*/\n",
       "    \n",
       "</style>\n"
      ],
      "text/plain": [
       "<IPython.core.display.HTML object>"
      ]
     },
     "execution_count": 22,
     "metadata": {},
     "output_type": "execute_result"
    }
   ],
   "source": [
    "# This cell will just improve the styling of the notebook\n",
    "from IPython.core.display import HTML\n",
    "import urllib.request\n",
    "response = urllib.request.urlopen(\"https://cl.ly/1B1y452Z1d35\")\n",
    "HTML(response.read().decode(\"utf-8\"))"
   ]
  }
 ],
 "metadata": {
  "anaconda-cloud": {},
  "kernelspec": {
   "display_name": "Python 3",
   "language": "python",
   "name": "python3"
  },
  "language_info": {
   "codemirror_mode": {
    "name": "ipython",
    "version": 3
   },
   "file_extension": ".py",
   "mimetype": "text/x-python",
   "name": "python",
   "nbconvert_exporter": "python",
   "pygments_lexer": "ipython3",
   "version": "3.6.2"
  }
 },
 "nbformat": 4,
 "nbformat_minor": 1
}
