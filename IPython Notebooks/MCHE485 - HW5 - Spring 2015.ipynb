{
 "metadata": {
  "name": "",
  "signature": "sha256:c083fcd2e51689833a1587d6bec691c645a3418b8d47e075b6f260fa7322d54e"
 },
 "nbformat": 3,
 "nbformat_minor": 0,
 "worksheets": [
  {
   "cells": [
    {
     "cell_type": "markdown",
     "metadata": {},
     "source": [
      "<h1 style=\"text-align:center\">Homework 5 Helper</h1>\n",
      "<h3 style=\"text-align:center\"> MCHE 485: Mechanical Vibrations &mdash; Spring 2015</h3> \n",
      "<p style=\"text-align:center\">Dr. Joshua Vaughan <br>\n",
      "<a href=\"mailto:joshua.vaughan@louisiana.edu\">joshua.vaughan@louisiana.edu</a><br>\n",
      "http://www.ucs.louisiana.edu/~jev9637/   </p>"
     ]
    },
    {
     "cell_type": "code",
     "collapsed": false,
     "input": [
      "import numpy as np              # Grab all of the NumPy functions with nickname np"
     ],
     "language": "python",
     "metadata": {},
     "outputs": [],
     "prompt_number": 88
    },
    {
     "cell_type": "code",
     "collapsed": false,
     "input": [
      "# We'll use the scipy version of the linear algebra\n",
      "from scipy import linalg"
     ],
     "language": "python",
     "metadata": {},
     "outputs": [],
     "prompt_number": 89
    },
    {
     "cell_type": "code",
     "collapsed": false,
     "input": [
      "# Let's also improve the printing of NumPy arrays.\n",
      "np.set_printoptions(precision=3, suppress=True)"
     ],
     "language": "python",
     "metadata": {},
     "outputs": [],
     "prompt_number": 90
    },
    {
     "cell_type": "markdown",
     "metadata": {},
     "source": [
      "## Problem 4.1"
     ]
    },
    {
     "cell_type": "code",
     "collapsed": false,
     "input": [
      "m1 = 0.001    # kg\n",
      "m2 = 0.01     # kg\n",
      "k1 = 3000.0   # N/m\n",
      "k2 = 3000.0   # N/m\n",
      "\n",
      "M = np.array([[m1, 0],\n",
      "                [ 0, m2]])\n",
      "\n",
      "K = np.array([[ 2*k1, -2*k1],\n",
      "              [-2*k1, 2*k1 + k2]])"
     ],
     "language": "python",
     "metadata": {},
     "outputs": [],
     "prompt_number": 91
    },
    {
     "cell_type": "code",
     "collapsed": false,
     "input": [
      "# Now solve for the eigenvalues and eigenvectors\n",
      "eigenvals, eigenvects = linalg.eigh(K,M)"
     ],
     "language": "python",
     "metadata": {},
     "outputs": [],
     "prompt_number": 92
    },
    {
     "cell_type": "code",
     "collapsed": false,
     "input": [
      "print '\\n'\n",
      "print 'The resulting eigenalues are {:.2f} and {:.2f}.'.format(eigenvals[0], eigenvals[1])\n",
      "print '\\n'\n",
      "print 'So the two natrual frequencies are {:.2f}rad/s and {:.2f}rad/s.'.format(np.sqrt(eigenvals[0]), np.sqrt(eigenvals[1]))\n",
      "print '\\n'\n",
      "print 'The first eigenvector is ' + str(eigenvects[:,0]) + '.'\n",
      "print '\\n'\n",
      "print 'The second eigenvector is ' + str(eigenvects[:,1]) + '.'\n",
      "print '\\n'"
     ],
     "language": "python",
     "metadata": {},
     "outputs": [
      {
       "output_type": "stream",
       "stream": "stdout",
       "text": [
        "\n",
        "\n",
        "The resulting eigenalues are 271556.98 and 6628443.02.\n",
        "\n",
        "\n",
        "So the two natrual frequencies are 521.11rad/s and 2574.58rad/s.\n",
        "\n",
        "\n",
        "The first eigenvector is [-9.943 -9.493].\n",
        "\n",
        "\n",
        "The second eigenvector is [-30.019   3.144].\n",
        "\n",
        "\n"
       ]
      }
     ],
     "prompt_number": 93
    },
    {
     "cell_type": "markdown",
     "metadata": {},
     "source": [
      "The eigenvectors that most software packages return (including this one) are already normalized. We'll discuss normalization in Section 4.7. For now, we can scale the eigenvectors to match what we would probably get from a \"hand\" solution. You could repeat this for the other problems. I will not."
     ]
    },
    {
     "cell_type": "code",
     "collapsed": false,
     "input": [
      "# Scale each so that the first entry is 1.\n",
      "\n",
      "first_eigenVector = eigenvects[:,0] / eigenvects[0,0]\n",
      "\n",
      "print '\\n'\n",
      "print 'The non-normalized version of the first eignevector is {}.'.format(first_eigenVector)\n",
      "\n",
      "\n",
      "# Now do the same for the second eigenvector\n",
      "second_eigenVector = eigenvects[:,1] / eigenvects[0,1]\n",
      "\n",
      "print '\\n'\n",
      "print 'The non-normalized version of the second eignevector is {}.'.format(second_eigenVector)\n",
      "print '\\n'"
     ],
     "language": "python",
     "metadata": {},
     "outputs": [
      {
       "output_type": "stream",
       "stream": "stdout",
       "text": [
        "\n",
        "\n",
        "The non-normalized version of the first eignevector is [ 1.     0.955].\n",
        "\n",
        "\n",
        "The non-normalized version of the second eignevector is [ 1.    -0.105].\n",
        "\n",
        "\n"
       ]
      }
     ],
     "prompt_number": 94
    },
    {
     "cell_type": "markdown",
     "metadata": {},
     "source": [
      "## Problem 4.2"
     ]
    },
    {
     "cell_type": "code",
     "collapsed": false,
     "input": [
      "m1 = 0.5      # kg\n",
      "m2 = 0.5      # kg\n",
      "m3 = 0.02     # kg\n",
      "\n",
      "k1 = 1000.0   # N/m\n",
      "k2 = 1500.0   # N/m\n",
      "k3 = 200.0    # N/m\n",
      "\n",
      "M = np.array([[m1,  0,  0],\n",
      "              [ 0, m2,  0],\n",
      "              [ 0, m3, m3]])\n",
      "\n",
      "K = np.array([[k1 + k2, -k2,  0.0],\n",
      "              [-k2,      k2,   k3],\n",
      "              [0.0,     0.0,   k3]])\n",
      "\n",
      "# Now solve for the eigenvalues and eigenvectors\n",
      "eigenvals, eigenvects = linalg.eigh(K, M)"
     ],
     "language": "python",
     "metadata": {},
     "outputs": [],
     "prompt_number": 95
    },
    {
     "cell_type": "code",
     "collapsed": false,
     "input": [
      "print '\\n'\n",
      "print 'The resulting eigenalues are {:.2f}, {:.2f}, and {:.2f}.'.format(eigenvals[0], eigenvals[1], eigenvals[2])\n",
      "print '\\n'\n",
      "print 'So the three natrual frequencies are {:.2f}rad/s, {:.2f}rad/s, and {:.2f}rad/s.'.format(np.sqrt(eigenvals[0]), \n",
      "                                                                                             np.sqrt(eigenvals[1]),\n",
      "                                                                                             np.sqrt(eigenvals[2]))\n",
      "print '\\n'\n",
      "print 'The first eigenvector is ' + str(eigenvects[:,0]) + '.'\n",
      "print '\\n'\n",
      "print 'The second eigenvector is ' + str(eigenvects[:,1]) + '.'\n",
      "print '\\n'\n",
      "print 'The third eigenvector is ' + str(eigenvects[:,2]) + '.'\n",
      "print '\\n'"
     ],
     "language": "python",
     "metadata": {},
     "outputs": [
      {
       "output_type": "stream",
       "stream": "stdout",
       "text": [
        "\n",
        "\n",
        "The resulting eigenalues are 835.72, 6958.51, and 10747.44.\n",
        "\n",
        "\n",
        "So the three natrual frequencies are 28.91rad/s, 83.42rad/s, and 103.67rad/s.\n",
        "\n",
        "\n",
        "The first eigenvector is [-0.825 -1.145 -0.104].\n",
        "\n",
        "\n",
        "The second eigenvector is [ 1.12  -0.731 -1.673].\n",
        "\n",
        "\n",
        "The third eigenvector is [-0.255  0.488 -7.019].\n",
        "\n",
        "\n"
       ]
      }
     ],
     "prompt_number": 96
    },
    {
     "cell_type": "code",
     "collapsed": false,
     "input": [
      "# Scale each so that the first entry is 1.\n",
      "\n",
      "first_eigenVector = eigenvects[:,0] / eigenvects[0,0]\n",
      "\n",
      "print '\\n'\n",
      "print 'The non-normalized version of the first eignevector is {}.'.format(first_eigenVector)\n",
      "\n",
      "\n",
      "# Now do the same for the second eigenvector\n",
      "second_eigenVector = eigenvects[:,1] / eigenvects[0,1]\n",
      "\n",
      "print '\\n'\n",
      "print 'The non-normalized version of the second eignevector is {}.'.format(second_eigenVector)\n",
      "\n",
      "# Now do the same for the third eigenvector\n",
      "third_eigenVector = eigenvects[:,2] / eigenvects[0,2]\n",
      "\n",
      "print '\\n'\n",
      "print 'The non-normalized version of the third eignevector is {}.'.format(third_eigenVector)\n",
      "print '\\n'"
     ],
     "language": "python",
     "metadata": {},
     "outputs": [
      {
       "output_type": "stream",
       "stream": "stdout",
       "text": [
        "\n",
        "\n",
        "The non-normalized version of the first eignevector is [ 1.     1.388  0.127].\n",
        "\n",
        "\n",
        "The non-normalized version of the second eignevector is [ 1.    -0.653 -1.494].\n",
        "\n",
        "\n",
        "The non-normalized version of the third eignevector is [  1.     -1.916  27.548].\n",
        "\n",
        "\n"
       ]
      }
     ],
     "prompt_number": 97
    },
    {
     "cell_type": "markdown",
     "metadata": {},
     "source": [
      "## Problem 4.6"
     ]
    },
    {
     "cell_type": "code",
     "collapsed": false,
     "input": [
      "m1 = 15.0     # kg\n",
      "m2 = 25.0     # kg\n",
      "k1 = 120.0    # N/m\n",
      "k2 = 200.0    # N/m\n",
      "k3 = 50.0     # N/m\n",
      "\n",
      "M = np.array([[m1, 0],\n",
      "              [ 0, m2]])\n",
      "\n",
      "K = np.array([[k1 + k2,     -k2],\n",
      "              [-k2,     k2 + k3]])"
     ],
     "language": "python",
     "metadata": {},
     "outputs": [],
     "prompt_number": 98
    },
    {
     "cell_type": "code",
     "collapsed": false,
     "input": [
      "# Now solve for the eigenvalues and eigenvectors\n",
      "eigenvals, eigenvects = linalg.eigh(K,M)"
     ],
     "language": "python",
     "metadata": {},
     "outputs": [],
     "prompt_number": 99
    },
    {
     "cell_type": "code",
     "collapsed": false,
     "input": [
      "print '\\n'\n",
      "print 'The resulting eigenalues are {:.2f} and {:.2f}.'.format(eigenvals[0], eigenvals[1])\n",
      "print '\\n'\n",
      "print 'So the two natrual frequencies are {:.2f}rad/s and {:.2f}rad/s.'.format(np.sqrt(eigenvals[0]), np.sqrt(eigenvals[1]))\n",
      "print '\\n'\n",
      "print 'The first eigenvector is ' + str(eigenvects[:,0]) + '.'\n",
      "print '\\n'\n",
      "print 'The second eigenvector is ' + str(eigenvects[:,1]) + '.'\n",
      "print '\\n'"
     ],
     "language": "python",
     "metadata": {},
     "outputs": [
      {
       "output_type": "stream",
       "stream": "stdout",
       "text": [
        "\n",
        "\n",
        "The resulting eigenalues are 3.89 and 27.45.\n",
        "\n",
        "\n",
        "So the two natrual frequencies are 1.97rad/s and 5.24rad/s.\n",
        "\n",
        "\n",
        "The first eigenvector is [-0.132 -0.172].\n",
        "\n",
        "\n",
        "The second eigenvector is [-0.222  0.102].\n",
        "\n",
        "\n"
       ]
      }
     ],
     "prompt_number": 100
    },
    {
     "cell_type": "code",
     "collapsed": false,
     "input": [
      "# Scale each so that the first entry is 1.\n",
      "\n",
      "first_eigenVector = eigenvects[:,0] / eigenvects[0,0]\n",
      "\n",
      "print '\\n'\n",
      "print 'The non-normalized version of the first eignevector is {}.'.format(first_eigenVector)\n",
      "\n",
      "\n",
      "# Now do the same for the second eigenvector\n",
      "second_eigenVector = eigenvects[:,1] / eigenvects[0,1]\n",
      "\n",
      "print '\\n'\n",
      "print 'The non-normalized version of the second eignevector is {}.'.format(second_eigenVector)\n",
      "print '\\n'"
     ],
     "language": "python",
     "metadata": {},
     "outputs": [
      {
       "output_type": "stream",
       "stream": "stdout",
       "text": [
        "\n",
        "\n",
        "The non-normalized version of the first eignevector is [ 1.     1.309].\n",
        "\n",
        "\n",
        "The non-normalized version of the second eignevector is [ 1.    -0.459].\n",
        "\n",
        "\n"
       ]
      }
     ],
     "prompt_number": 101
    },
    {
     "cell_type": "markdown",
     "metadata": {},
     "source": [
      "## Problem 4.8"
     ]
    },
    {
     "cell_type": "code",
     "collapsed": false,
     "input": [
      "m1 = 2.0     # kg\n",
      "m2 = 0.02    # kg\n",
      "m3 = 2.0     # kg\n",
      "\n",
      "k1 = 1000.0  # N/m\n",
      "k2 = 20.0    # N/m\n",
      "k3 = 2000.0  # N/m\n",
      "k4 = 20.0    # N/m\n",
      "k5 = 1000.0  # N/m\n",
      "\n",
      "M = np.array([[m1,  0,  0],\n",
      "              [ 0, m2,  0],\n",
      "              [ 0,  0, m3]])\n",
      "\n",
      "K = np.array([[k1 + k2 + k3,    -k2,          -k3],\n",
      "              [-k2,           k2+k4,          -k4],\n",
      "              [-k3,             -k4, k3 + k4 + k5]])"
     ],
     "language": "python",
     "metadata": {},
     "outputs": [],
     "prompt_number": 102
    },
    {
     "cell_type": "code",
     "collapsed": false,
     "input": [
      "# Now solve for the eigenvalues and eigenvectors\n",
      "eigenvals, eigenvects = linalg.eigh(K,M)"
     ],
     "language": "python",
     "metadata": {},
     "outputs": [],
     "prompt_number": 103
    },
    {
     "cell_type": "code",
     "collapsed": false,
     "input": [
      "print '\\n'\n",
      "print 'The resulting eigenalues are {:.2f}, {:.2f}, and {:.2f}.'.format(eigenvals[0], eigenvals[1], eigenvals[2])\n",
      "print '\\n'\n",
      "print 'So the three natrual frequencies are {:.2f}rad/s, {:.2f}rad/s, and {:.2f}rad/s.'.format(np.sqrt(eigenvals[0]), \n",
      "                                                                                             np.sqrt(eigenvals[1]),\n",
      "                                                                                             np.sqrt(eigenvals[2]))\n",
      "print '\\n'\n",
      "print 'The first eigenvector is ' + str(eigenvects[:,0]) + '.'\n",
      "print '\\n'\n",
      "print 'The second eigenvector is ' + str(eigenvects[:,1]) + '.'\n",
      "print '\\n'\n",
      "print 'The third eigenvector is ' + str(eigenvects[:,2]) + '.'\n",
      "print '\\n'"
     ],
     "language": "python",
     "metadata": {},
     "outputs": [
      {
       "output_type": "stream",
       "stream": "stdout",
       "text": [
        "\n",
        "\n",
        "The resulting eigenalues are 496.70, 2013.30, and 2510.00.\n",
        "\n",
        "\n",
        "So the three natrual frequencies are 22.29rad/s, 44.87rad/s, and 50.10rad/s.\n",
        "\n",
        "\n",
        "The first eigenvector is [ 0.498  0.662  0.498].\n",
        "\n",
        "\n",
        "The second eigenvector is [-0.047  7.04  -0.047].\n",
        "\n",
        "\n",
        "The third eigenvector is [-0.5  0.   0.5].\n",
        "\n",
        "\n"
       ]
      }
     ],
     "prompt_number": 104
    },
    {
     "cell_type": "markdown",
     "metadata": {},
     "source": [
      "## Problem 4.12"
     ]
    },
    {
     "cell_type": "code",
     "collapsed": false,
     "input": [
      "m1 = 2.0     # kg\n",
      "m2 = 20.0    # kg\n",
      "m3 = 1.0     # kg\n",
      "k = 1000.0   # N/m\n",
      "l = 1.0      # m\n",
      "g = 9.81     # m/s^2\n",
      "\n",
      "M = np.array([[m1 + m2 + m3,   m2 * l/2 + m3 * l],\n",
      "              [m2 * l/2 + m3 * l, m2 * (l/2)**2 + m3 * l**2]])\n",
      "\n",
      "K = np.array([[k,          0.0],\n",
      "              [0.0, m2 * g * l/2 + m3 * g * l]])"
     ],
     "language": "python",
     "metadata": {},
     "outputs": [],
     "prompt_number": 105
    },
    {
     "cell_type": "code",
     "collapsed": false,
     "input": [
      "# Now solve for the eigenvalues and eigenvectors\n",
      "eigenvals, eigenvects = linalg.eigh(K,M)\n",
      "\n",
      "print '\\n'\n",
      "print 'The resulting eigenalues are {:.2f} and {:.2f}.'.format(eigenvals[0], eigenvals[1])\n",
      "print '\\n'\n",
      "print 'So the two natrual frequencies are {:.2f}rad/s and {:.2f}rad/s.'.format(np.sqrt(eigenvals[0]), np.sqrt(eigenvals[1]))\n",
      "print '\\n'\n",
      "print 'The first eigenvector is ' + str(eigenvects[:,0]) + '.'\n",
      "print '\\n'\n",
      "print 'The second eigenvector is ' + str(eigenvects[:,1]) + '.'\n",
      "print '\\n'"
     ],
     "language": "python",
     "metadata": {},
     "outputs": [
      {
       "output_type": "stream",
       "stream": "stdout",
       "text": [
        "\n",
        "\n",
        "The resulting eigenalues are 13.06 and 485.87.\n",
        "\n",
        "\n",
        "So the two natrual frequencies are 3.61rad/s and 22.04rad/s.\n",
        "\n",
        "\n",
        "The first eigenvector is [-0.061 -0.295].\n",
        "\n",
        "\n",
        "The second eigenvector is [-0.591  1.125].\n",
        "\n",
        "\n"
       ]
      }
     ],
     "prompt_number": 106
    },
    {
     "cell_type": "markdown",
     "metadata": {},
     "source": [
      "## Problem 4.35"
     ]
    },
    {
     "cell_type": "code",
     "collapsed": false,
     "input": [
      "m1 = 1.0     # kg\n",
      "m2 = 1.0     # kg\n",
      "k = 1.0      # N/m\n",
      "a = 0.5      # m\n",
      "b = 0.5      # m\n",
      "g = 5.0      # m/s^2 (obviously not on Earth)\n",
      "\n",
      "M = np.array([[m1 * (a + b)**2,   0.0],\n",
      "              [0.0,               m2 * (a + b)**2]])\n",
      "\n",
      "K = np.array([[2 * k * a**2 + m1 * g * (a + b),  -k * a**2],\n",
      "              [-k * a**2,                        2 * k * a**2 + m2 * g * (a + b)]])"
     ],
     "language": "python",
     "metadata": {},
     "outputs": [],
     "prompt_number": 107
    },
    {
     "cell_type": "code",
     "collapsed": false,
     "input": [
      "# Now solve for the eigenvalues and eigenvectors\n",
      "eigenvals, eigenvects = linalg.eigh(K,M)\n",
      "\n",
      "print '\\n'\n",
      "print 'The resulting eigenalues are {:.2f} and {:.2f}.'.format(eigenvals[0], eigenvals[1])\n",
      "print '\\n'\n",
      "print 'So the two natrual frequencies are {:.2f}rad/s and {:.2f}rad/s.'.format(np.sqrt(eigenvals[0]), np.sqrt(eigenvals[1]))\n",
      "print '\\n'\n",
      "print 'The first eigenvector is ' + str(eigenvects[:,0]) + '.'\n",
      "print '\\n'\n",
      "print 'The second eigenvector is ' + str(eigenvects[:,1]) + '.'\n",
      "print '\\n'"
     ],
     "language": "python",
     "metadata": {},
     "outputs": [
      {
       "output_type": "stream",
       "stream": "stdout",
       "text": [
        "\n",
        "\n",
        "The resulting eigenalues are 5.25 and 5.75.\n",
        "\n",
        "\n",
        "So the two natrual frequencies are 2.29rad/s and 2.40rad/s.\n",
        "\n",
        "\n",
        "The first eigenvector is [-0.707 -0.707].\n",
        "\n",
        "\n",
        "The second eigenvector is [-0.707  0.707].\n",
        "\n",
        "\n"
       ]
      }
     ],
     "prompt_number": 108
    },
    {
     "cell_type": "markdown",
     "metadata": {},
     "source": [
      "## Problem 4.39"
     ]
    },
    {
     "cell_type": "code",
     "collapsed": false,
     "input": [
      "m1 = 4.0     # kg\n",
      "m2 = 20.0    # kg\n",
      "m3 = 2.0     # kg\n",
      "\n",
      "k1 = 14.0   # N/m\n",
      "k2 = 2.0    # N/m\n",
      "k3 = 6.0    # N/m\n",
      "k4 = 2.0    # N/m\n",
      "\n",
      "M = np.array([[m1,  0,  0],\n",
      "              [ 0, m2,  0],\n",
      "              [ 0,  0, m3]])\n",
      "\n",
      "K = np.array([[k1 + k2,    -k2,        0.0],\n",
      "              [-k2,    k2 + k3,        -k3],\n",
      "              [0.0,        -k3,    k3 + k4]])"
     ],
     "language": "python",
     "metadata": {},
     "outputs": [],
     "prompt_number": 109
    },
    {
     "cell_type": "code",
     "collapsed": false,
     "input": [
      "# Now solve for the eigenvalues and eigenvectors\n",
      "eigenvals, eigenvects = linalg.eigh(K,M)"
     ],
     "language": "python",
     "metadata": {},
     "outputs": [],
     "prompt_number": 110
    },
    {
     "cell_type": "code",
     "collapsed": false,
     "input": [
      "print '\\n'\n",
      "print 'The resulting eigenalues are {:.2f}, {:.2f}, and {:.2f}.'.format(eigenvals[0], eigenvals[1], eigenvals[2])\n",
      "print '\\n'\n",
      "print 'So the three natrual frequencies are {:.2f}rad/s, {:.2f}rad/s, and {:.2f}rad/s.'.format(np.sqrt(eigenvals[0]), \n",
      "                                                                                             np.sqrt(eigenvals[1]),\n",
      "                                                                                             np.sqrt(eigenvals[2]))\n",
      "print '\\n'\n",
      "print 'The first eigenvector is ' + str(eigenvects[:,0]) + '.'\n",
      "print '\\n'\n",
      "print 'The second eigenvector is ' + str(eigenvects[:,1]) + '.'\n",
      "print '\\n'\n",
      "print 'The third eigenvector is ' + str(eigenvects[:,2]) + '.'\n",
      "print '\\n'"
     ],
     "language": "python",
     "metadata": {},
     "outputs": [
      {
       "output_type": "stream",
       "stream": "stdout",
       "text": [
        "\n",
        "\n",
        "The resulting eigenalues are 0.15, 4.00, and 4.25.\n",
        "\n",
        "\n",
        "So the three natrual frequencies are 0.39rad/s, 2.00rad/s, and 2.06rad/s.\n",
        "\n",
        "\n",
        "The first eigenvector is [-0.028 -0.217 -0.169].\n",
        "\n",
        "\n",
        "The second eigenvector is [-0.487 -0.     0.162].\n",
        "\n",
        "\n",
        "The third eigenvector is [ 0.111 -0.055  0.667].\n",
        "\n",
        "\n"
       ]
      }
     ],
     "prompt_number": 111
    },
    {
     "cell_type": "markdown",
     "metadata": {},
     "source": [
      "<hr class = \"style-end\">"
     ]
    },
    {
     "cell_type": "markdown",
     "metadata": {},
     "source": [
      "#### Licenses\n",
      "Code is licensed under a 3-clause BSD style license. See the licenses/LICENSE.md file.\n",
      "\n",
      "Other content is provided under a [Creative Commons Attribution-NonCommercial 4.0 International License](http://creativecommons.org/licenses/by-nc/4.0/), CC-BY-NC 4.0."
     ]
    },
    {
     "cell_type": "code",
     "collapsed": false,
     "input": [
      "# Ignore this cell - We just update the CSS to make the notebook look a little bit better and easier to read\n",
      "\n",
      "# Improve the notebook styling -- Run this first\n",
      "from IPython.core.display import HTML\n",
      "css_file = 'styling/CRAWLAB_IPythonNotebook.css'\n",
      "HTML(open(css_file, \"r\").read())"
     ],
     "language": "python",
     "metadata": {},
     "outputs": [
      {
       "html": [
        "<style>\n",
        "    @font-face {\n",
        "        font-family: \"Computer Modern\";\n",
        "        src: url('http://9dbb143991406a7c655e-aa5fcb0a5a4ec34cff238a2d56ca4144.r56.cf5.rackcdn.com/cmunss.otf');\n",
        "    }\n",
        "    @font-face {\n",
        "        font-family: \"Computer Modern\";\n",
        "        font-weight: bold;\n",
        "        src: url('http://9dbb143991406a7c655e-aa5fcb0a5a4ec34cff238a2d56ca4144.r56.cf5.rackcdn.com/cmunsx.otf');\n",
        "    }\n",
        "    @font-face {\n",
        "        font-family: \"Computer Modern\";\n",
        "        font-style: oblique;\n",
        "        src: url('http://9dbb143991406a7c655e-aa5fcb0a5a4ec34cff238a2d56ca4144.r56.cf5.rackcdn.com/cmunsi.otf');\n",
        "    }\n",
        "    @font-face {\n",
        "        font-family: \"Computer Modern\";\n",
        "        font-weight: bold;\n",
        "        font-style: oblique;\n",
        "        src: url('http://9dbb143991406a7c655e-aa5fcb0a5a4ec34cff238a2d56ca4144.r56.cf5.rackcdn.com/cmunso.otf');\n",
        "    }\n",
        "    \n",
        "    div.cell{\n",
        "        max-width:1100px;\n",
        "        margin-left:auto;\n",
        "        margin-right:auto;\n",
        "    }\n",
        "    \n",
        "    h1 {\n",
        "        font-family: Computer Modern;\n",
        "    }\n",
        "    \n",
        "    h4{\n",
        "        margin-top:12px;\n",
        "        margin-bottom: 3px;\n",
        "       }\n",
        "\n",
        "    div.text_cell_render{\n",
        "        font-family: Computer Modern, \"Helvetica Neue\", Arial, Helvetica, Geneva, sans-serif;\n",
        "        line-height: 145%;\n",
        "        font-size: 130%;\n",
        "        max-width:1100px;\n",
        "        margin-left:auto;\n",
        "        margin-right:auto;\n",
        "    }\n",
        "    \n",
        "    .CodeMirror{\n",
        "            font-family: \"Source Code Pro\", source-code-pro, Consolas, monospace;\n",
        "    }\n",
        "    \n",
        "    .warning{\n",
        "        color: rgb( 240, 20, 20 )\n",
        "        }  \n",
        "    \n",
        "    hr.style-end {\n",
        "    border: 0;\n",
        "    height: 1px;\n",
        "    text-align: center;\n",
        "    background: #333;\n",
        "    background-image: -webkit-linear-gradient(left, #ccc, #333, #ccc); \n",
        "    background-image:    -moz-linear-gradient(left, #ccc, #333, #ccc); \n",
        "    background-image:     -ms-linear-gradient(left, #ccc, #333, #ccc); \n",
        "    background-image:      -o-linear-gradient(left, #ccc, #333, #ccc); \n",
        "    }\n",
        "\n",
        "    hr.style-end:after {\n",
        "    content: \"\u269c\";\n",
        "    display: inline-block;\n",
        "    position: relative; \n",
        "    top: -0.5em;  \n",
        "    font-size: 1.5em;\n",
        "    padding: 0 0.25em;\n",
        "    background: white;\n",
        "    }\n",
        "    \n",
        "/*  Center figures, etc\n",
        "    .ui-wrapper {\n",
        "        margin-left: auto !important;\n",
        "        margin-right: auto !important;\n",
        "    }\n",
        " */\n",
        "    \n",
        "</style>\n",
        "<script>\n",
        "    MathJax.Hub.Config({\n",
        "                        TeX: {\n",
        "                           extensions: [\"AMSmath.js\"]\n",
        "                           },\n",
        "                tex2jax: {\n",
        "                    inlineMath: [ ['$','$'], [\"\\\\(\",\"\\\\)\"] ],\n",
        "                    displayMath: [ ['$$','$$'], [\"\\\\[\",\"\\\\]\"] ]\n",
        "                },\n",
        "                displayAlign: 'center', // Change this to 'center' to center equations.\n",
        "                \"HTML-CSS\": {\n",
        "                    styles: {'.MathJax_Display': {\"margin\": 4}}\n",
        "                }\n",
        "        });\n",
        "</script>\n"
       ],
       "metadata": {},
       "output_type": "pyout",
       "prompt_number": 112,
       "text": [
        "<IPython.core.display.HTML at 0x111c7d4d0>"
       ]
      }
     ],
     "prompt_number": 112
    }
   ],
   "metadata": {}
  }
 ]
}