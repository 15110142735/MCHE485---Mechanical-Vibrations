{
 "metadata": {
  "name": "",
  "signature": "sha256:b6ab44f400255133cb606e87d84089b7ff88c570788f81bf7b80f5d4a62df50a"
 },
 "nbformat": 3,
 "nbformat_minor": 0,
 "worksheets": [
  {
   "cells": [
    {
     "cell_type": "markdown",
     "metadata": {},
     "source": [
      "<h1 style=\"text-align:center\">Free Vibration of a Mass-Spring-Damper System</h1>\n",
      "<h3 style=\"text-align:center\"> MCHE 485: Mechanical Vibrations</h3> \n",
      "<p style=\"text-align:center\">Dr. Joshua Vaughan <br>\n",
      "<a href=\"mailto:joshua.vaughan@louisiana.edu\">joshua.vaughan@louisiana.edu</a><br>\n",
      "http://www.ucs.louisiana.edu/~jev9637/   </p>"
     ]
    },
    {
     "cell_type": "markdown",
     "metadata": {},
     "source": [
      "<p style=\"text-align:center\">\n",
      "\t<img src=\"http://shared.crawlab.org/MassSpringDamper_FreeVibration.png\" alt=\"A Mass-Spring-Damper System\" width=50%/></a><br>\n",
      "    <strong> Figure 1: A Mass-Spring-Damper System </strong>\n",
      "</p>\n",
      "\n",
      "This notebook simluates the free vibration of a simple mass-spring-damper system like the one shown in Figure 1. More specifically, we'll look at how system response to non-zero initial conditions. \n",
      "\n",
      "The equation of motion for the system is:\n",
      "\n",
      "$ \\quad m \\ddot{x} + c \\dot{x} + kx = 0 $\n",
      "\n",
      "We could also write this equation in terms of the damping ratio, $\\zeta$, and natural frequency $\\omega_n$.\n",
      "\n",
      "$ \\quad \\ddot{x} + 2\\zeta\\omega_n\\dot{x} + \\omega_n^2x = 0$\n",
      "\n",
      "For information on how to obtain this equation, you can see the lectures at the [class website](http://www.ucs.louisiana.edu/~jev9637/MCHE485.html)."
     ]
    },
    {
     "cell_type": "markdown",
     "metadata": {},
     "source": [
      "We'll use the solution to the differential equation that we developed in class to plot the response. The solution for the underdamped case is:\n",
      "\n",
      "$ \\quad x(t) = e^{-\\zeta\\omega_nt}\\left(a_1 e^{i \\omega_d t} + a_2 e ^{-i \\omega_d t}\\right) $ \n",
      "\n",
      "*or*\n",
      "\n",
      "$ \\quad x(t) = e^{-\\zeta\\omega_nt}\\left(b_1 \\cos{\\omega_d t} + b_2 \\sin{\\omega_d t}\\right) $\n",
      "\n",
      "To use this equation, we need to solve for $a_1$ and $a_2$ or $b_1$ and $b_2$ using the initial conditions. Here, let's use the sin/cosine form. Solving the equation for generic intial velocity, $\\dot{x} = v_0$, and a generic initial displacement, $x = x_0$, we find:\n",
      "\n",
      "$ \\quad x(t) = e^{-\\zeta\\omega_nt}\\left(x_0 \\cos{\\omega_d t} + \\frac{\\zeta \\omega_n x_0 + v_0}{\\omega_d} \\sin{\\omega_d t}\\right) $"
     ]
    },
    {
     "cell_type": "code",
     "collapsed": false,
     "input": [
      "import numpy as np              # Grab all of the NumPy functions with nickname np"
     ],
     "language": "python",
     "metadata": {},
     "outputs": [],
     "prompt_number": 1
    },
    {
     "cell_type": "code",
     "collapsed": false,
     "input": [
      "%matplotlib inline\n",
      "\n",
      "# Import the plotting functions \n",
      "import matplotlib.pyplot as plt"
     ],
     "language": "python",
     "metadata": {},
     "outputs": [],
     "prompt_number": 2
    },
    {
     "cell_type": "code",
     "collapsed": false,
     "input": [
      "# Define the System Parameters\n",
      "m = 1.0                   # kg\n",
      "k = (2.0 * np.pi)**2.     # N/m (Selected to give an undamped natrual frequency of 1Hz)\n",
      "wn = np.sqrt(k/m)         # Natural Frequency (rad/s)\n",
      "\n",
      "z = 0.1                   # Define a desired damping ratio\n",
      "c = 2*z*wn*m              # calculate the damping coeff. to create it (N/(m/s))\n",
      "\n",
      "wd = wn*np.sqrt(1 - z**2) # Damped natural frequency (rad/s)"
     ],
     "language": "python",
     "metadata": {},
     "outputs": [],
     "prompt_number": 3
    },
    {
     "cell_type": "code",
     "collapsed": false,
     "input": [
      "# Set up simulation parameters\n",
      "t = np.linspace(0, 5, 501)          # Time for simulation, 0-5s with 501 points in-between\n",
      "\n",
      "# Define the initial conditions x_dot(0) = 0, x(0) = 1\n",
      "# Note: The initial conditions are in the opposite order of how they would be defined in MATLAB\n",
      "x0 = np.array([1.0, 0.0])"
     ],
     "language": "python",
     "metadata": {},
     "outputs": [],
     "prompt_number": 19
    },
    {
     "cell_type": "code",
     "collapsed": false,
     "input": [
      "# Define x(t)\n",
      "x = np.exp(-z*wn*t)*(x0[0]*np.cos(wd*t) + (z*wn*x0[0] + x0[1])/wd * np.sin(wd*t))"
     ],
     "language": "python",
     "metadata": {},
     "outputs": [],
     "prompt_number": 22
    },
    {
     "cell_type": "code",
     "collapsed": false,
     "input": [
      "# Make the figure pretty, then plot the results\n",
      "#   \"pretty\" parameters selected based on pdf output, not screen output\n",
      "#   Many of these setting could also be made default by the .matplotlibrc file\n",
      "fig = plt.figure(figsize=(6,4))\n",
      "ax = plt.gca()\n",
      "plt.subplots_adjust(bottom=0.17,left=0.17,top=0.96,right=0.96)\n",
      "plt.setp(ax.get_ymajorticklabels(),family='serif',fontsize=18)\n",
      "plt.setp(ax.get_xmajorticklabels(),family='serif',fontsize=18)\n",
      "\n",
      "ax.spines['right'].set_color('none')\n",
      "ax.spines['top'].set_color('none')\n",
      "ax.xaxis.set_ticks_position('bottom')\n",
      "ax.yaxis.set_ticks_position('left')\n",
      "ax.grid(True,linestyle=':',color='0.75')\n",
      "ax.set_axisbelow(True)\n",
      "\n",
      "plt.xlabel('Time (s)', family='serif', fontsize=22, weight='bold', labelpad=5)\n",
      "plt.ylabel('Position (m)', family='serif', fontsize=22, weight='bold', labelpad=10)\n",
      "plt.ylim(-1.0, 1.0)\n",
      "\n",
      "plt.plot(t, x, linewidth=2)\n",
      "\n",
      "fig.set_size_inches(9,6) # Resize the figure for better display in the notebook"
     ],
     "language": "python",
     "metadata": {},
     "outputs": [
      {
       "metadata": {},
       "output_type": "display_data",
       "png": "[encoded data removed]",
       "text": [
        "<matplotlib.figure.Figure at 0x10dc2d310>"
       ]
      }
     ],
     "prompt_number": 23
    },
    {
     "cell_type": "markdown",
     "metadata": {},
     "source": [
      "<hr class = \"style-end\">"
     ]
    },
    {
     "cell_type": "markdown",
     "metadata": {},
     "source": [
      "#### Licenses\n",
      "Code is licensed under a [3-clause BSD style license]() - see the licenses/LICENSE.md file.\n",
      "\n",
      "Other content is provided under a [Creative Commons Attribution-NonCommercial 4.0 International License](http://creativecommons.org/licenses/by-nc/4.0/), CC-BY-NC 4.0."
     ]
    },
    {
     "cell_type": "code",
     "collapsed": false,
     "input": [
      "# Ignore this cell - We just update the CSS to make the notebook look a little bit better and easier to read\n",
      "\n",
      "# Improve the notebook styling -- Run this first\n",
      "from IPython.core.display import HTML\n",
      "css_file = 'styling/CRAWLAB_IPythonNotebook.css'\n",
      "HTML(open(css_file, \"r\").read())"
     ],
     "language": "python",
     "metadata": {},
     "outputs": [
      {
       "html": [
        "<style>\n",
        "    @font-face {\n",
        "        font-family: \"Computer Modern\";\n",
        "        src: url('http://9dbb143991406a7c655e-aa5fcb0a5a4ec34cff238a2d56ca4144.r56.cf5.rackcdn.com/cmunss.otf');\n",
        "    }\n",
        "    @font-face {\n",
        "        font-family: \"Computer Modern\";\n",
        "        font-weight: bold;\n",
        "        src: url('http://9dbb143991406a7c655e-aa5fcb0a5a4ec34cff238a2d56ca4144.r56.cf5.rackcdn.com/cmunsx.otf');\n",
        "    }\n",
        "    @font-face {\n",
        "        font-family: \"Computer Modern\";\n",
        "        font-style: oblique;\n",
        "        src: url('http://9dbb143991406a7c655e-aa5fcb0a5a4ec34cff238a2d56ca4144.r56.cf5.rackcdn.com/cmunsi.otf');\n",
        "    }\n",
        "    @font-face {\n",
        "        font-family: \"Computer Modern\";\n",
        "        font-weight: bold;\n",
        "        font-style: oblique;\n",
        "        src: url('http://9dbb143991406a7c655e-aa5fcb0a5a4ec34cff238a2d56ca4144.r56.cf5.rackcdn.com/cmunso.otf');\n",
        "    }\n",
        "    \n",
        "    div.cell{\n",
        "        max-width:1100px;\n",
        "        margin-left:auto;\n",
        "        margin-right:auto;\n",
        "    }\n",
        "    \n",
        "    h1 {\n",
        "        font-family: Computer Modern;\n",
        "    }\n",
        "    \n",
        "    h4{\n",
        "        margin-top:12px;\n",
        "        margin-bottom: 3px;\n",
        "       }\n",
        "\n",
        "    div.text_cell_render{\n",
        "        font-family: Computer Modern, \"Helvetica Neue\", Arial, Helvetica, Geneva, sans-serif;\n",
        "        line-height: 145%;\n",
        "        font-size: 130%;\n",
        "        max-width:1100px;\n",
        "        margin-left:auto;\n",
        "        margin-right:auto;\n",
        "    }\n",
        "    \n",
        "    .CodeMirror{\n",
        "            font-family: \"Source Code Pro\", source-code-pro, Consolas, monospace;\n",
        "    }\n",
        "    \n",
        "    .warning{\n",
        "        color: rgb( 240, 20, 20 )\n",
        "        }  \n",
        "    \n",
        "    hr.style-end {\n",
        "    border: 0;\n",
        "    height: 1px;\n",
        "    text-align: center;\n",
        "    background: #333;\n",
        "    background-image: -webkit-linear-gradient(left, #ccc, #333, #ccc); \n",
        "    background-image:    -moz-linear-gradient(left, #ccc, #333, #ccc); \n",
        "    background-image:     -ms-linear-gradient(left, #ccc, #333, #ccc); \n",
        "    background-image:      -o-linear-gradient(left, #ccc, #333, #ccc); \n",
        "    }\n",
        "\n",
        "    hr.style-end:after {\n",
        "    content: \"\u269c\";\n",
        "    display: inline-block;\n",
        "    position: relative; \n",
        "    top: -0.5em;  \n",
        "    font-size: 1.5em;\n",
        "    padding: 0 0.25em;\n",
        "    background: white;\n",
        "    }\n",
        "    \n",
        "/*  Center figures, etc\n",
        "    .ui-wrapper {\n",
        "        margin-left: auto !important;\n",
        "        margin-right: auto !important;\n",
        "    }\n",
        " */\n",
        "    \n",
        "</style>\n",
        "<script>\n",
        "    MathJax.Hub.Config({\n",
        "                        TeX: {\n",
        "                           extensions: [\"AMSmath.js\"]\n",
        "                           },\n",
        "                tex2jax: {\n",
        "                    inlineMath: [ ['$','$'], [\"\\\\(\",\"\\\\)\"] ],\n",
        "                    displayMath: [ ['$$','$$'], [\"\\\\[\",\"\\\\]\"] ]\n",
        "                },\n",
        "                displayAlign: 'center', // Change this to 'center' to center equations.\n",
        "                \"HTML-CSS\": {\n",
        "                    styles: {'.MathJax_Display': {\"margin\": 4}}\n",
        "                }\n",
        "        });\n",
        "</script>\n"
       ],
       "metadata": {},
       "output_type": "pyout",
       "prompt_number": 28,
       "text": [
        "<IPython.core.display.HTML at 0x10d899fd0>"
       ]
      }
     ],
     "prompt_number": 28
    }
   ],
   "metadata": {}
  }
 ]
}