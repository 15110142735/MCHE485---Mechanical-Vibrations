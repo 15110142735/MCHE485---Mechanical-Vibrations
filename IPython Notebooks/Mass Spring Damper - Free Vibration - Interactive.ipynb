{
 "metadata": {
  "name": "",
  "signature": "sha256:70c009355522b1a79a826931f574e249c0edac6cece1d9e2a0708e27c6511d00"
 },
 "nbformat": 3,
 "nbformat_minor": 0,
 "worksheets": [
  {
   "cells": [
    {
     "cell_type": "markdown",
     "metadata": {},
     "source": [
      "<h1 style=\"text-align:center\"><em>Interactive</em> Plotting of the Free Vibration of a<br> Mass-Spring-Damper System</h1>\n",
      "<h3 style=\"text-align:center\"> MCHE 485: Mechanical Vibrations</h3>\n",
      "<p style=\"text-align:center\">Dr. Joshua Vaughan <br>\n",
      "<a href=\"mailto:joshua.vaughan@louisiana.edu\">joshua.vaughan@louisiana.edu</a><br>\n",
      "http://www.ucs.louisiana.edu/~jev9637/   </p>"
     ]
    },
    {
     "cell_type": "markdown",
     "metadata": {},
     "source": [
      "<p style=\"text-align:center\">\n",
      "\t<img src=\"http://shared.crawlab.org/MassSpringDamper_FreeVibration.png\" alt=\"A Mass-Spring-Damper System\" width=50%/></a><br>\n",
      "    <strong> Figure 1: A Mass-Spring-Damper System </strong>\n",
      "</p>\n",
      "\n",
      "This notebook simluates the free vibration of a simple mass-spring-damper system like the one shown in Figure 1. More specifically, we'll look at how the system response to non-zero initial conditions. The interactive widget allows us to explore how the response changes as the natural frequency and damping ratio changes.\n",
      "\n",
      "The equation of motion for the system is:\n",
      "\n",
      "$ \\quad m \\ddot{x} + c \\dot{x} + kx = 0 $\n",
      "\n",
      "We could also write this equation in terms of the damping ratio, $\\zeta$, and natural frequency $\\omega_n$.\n",
      "\n",
      "$ \\quad \\ddot{x} + 2\\zeta\\omega_n\\dot{x} + \\omega_n^2x = 0$\n",
      "\n",
      "For information on how to obtain this equation, you can see the lectures at the [class website](http://www.ucs.louisiana.edu/~jev9637/MCHE485.html)."
     ]
    },
    {
     "cell_type": "markdown",
     "metadata": {},
     "source": [
      "We'll use the solution to the differential equation that we developed in class to plot the response. The solution for the underdamped case is:\n",
      "\n",
      "$ \\quad x(t) = e^{-\\zeta\\omega_nt}\\left(a_1 e^{i \\omega_d t} + a_2 e ^{-i \\omega_d t}\\right) $ \n",
      "\n",
      "*or*\n",
      "\n",
      "$ \\quad x(t) = e^{-\\zeta\\omega_nt}\\left(b_1 \\cos{\\omega_d t} + b_2 \\sin{\\omega_d t}\\right) $\n",
      "\n",
      "To use this equation, we need to solve for $a_1$ and $a_2$ or $b_1$ and $b_2$ using the initial conditions. Here, let's use the sin/cosine form. Solving the equation for generic intial velocity, $\\dot{x} = v_0$, and a generic initial displacement, $x = x_0$, we find:\n",
      "\n",
      "$ \\quad x(t) = e^{-\\zeta\\omega_nt}\\left(x_0 \\cos{\\omega_d t} + \\frac{\\zeta \\omega_n x_0 + v_0}{\\omega_d} \\sin{\\omega_d t}\\right) $"
     ]
    },
    {
     "cell_type": "code",
     "collapsed": false,
     "input": [
      "import numpy as np              # Grab all of the NumPy functions with \"nickname\" np"
     ],
     "language": "python",
     "metadata": {},
     "outputs": [],
     "prompt_number": 1
    },
    {
     "cell_type": "code",
     "collapsed": false,
     "input": [
      "# We want our plots to be displayed inline, not in a separate window\n",
      "%matplotlib inline \n",
      "\n",
      "# Import the plotting functions\n",
      "import matplotlib.pyplot as plt"
     ],
     "language": "python",
     "metadata": {},
     "outputs": [],
     "prompt_number": 2
    },
    {
     "cell_type": "code",
     "collapsed": false,
     "input": [
      "# Set up simulation parameters\n",
      "t = np.linspace(0,5,501)            # Time for simulation, 0-5s with 500 points in-between\n",
      "\n",
      "# Define the initial conditions x(0) = 1 and x_dot(0) = 0 \n",
      "x0 = [1.0, 0.0]"
     ],
     "language": "python",
     "metadata": {},
     "outputs": [],
     "prompt_number": 3
    },
    {
     "cell_type": "markdown",
     "metadata": {},
     "source": [
      "# Interactive Simluation\n",
      "Let's use the IPython Notebook's new interactive widgets. We'll set up sliders for natural frequecny (in Hz) and damping ratio. The response will update as you move the sliders. There may be some flickering during the first time you change the sliders. \n",
      "\n",
      "The interactive portion will not run in the online notebook viewer, so you'll have to run it locally to play with the interactive part. The .gif in Figure 2 shows what the resulting interactive plot should look like after you run the next cell locally.\n",
      "<p style=\"text-align:center\">\n",
      "\t<img src=\"http://shared.crawlab.org/IPython_Interactive_MassSpringDamper.gif\" alt=\"An Interactive Mass-Spring-Damper System\" width=75%/></a>\n",
      "    <strong> Figure 2: The Interactive Mass-Spring-Damper Response </strong>\n",
      "</p>\n",
      "<br>"
     ]
    },
    {
     "cell_type": "code",
     "collapsed": false,
     "input": [
      "# import the IPython widgets\n",
      "from IPython.html.widgets import interact\n",
      "from IPython.html import widgets    # Widget definitions\n",
      "from IPython.display import display # Used to display widgets in the notebook\n",
      "\n",
      "# Set up the function that plots the repsonse based on slider changes\n",
      "def plot_response(f = 1.0, z = 0.05):\n",
      "    # Make the figure pretty, then plot the results\n",
      "    #   \"pretty\" parameters selected based on pdf output, not screen output\n",
      "    #   Many of these setting could also be made default by the .matplotlibrc file\n",
      "    fig = plt.figure(figsize=(9, 6))\n",
      "    ax = plt.gca()\n",
      "    plt.subplots_adjust(bottom=0.17,left=0.17,top=0.96,right=0.96)\n",
      "    plt.setp(ax.get_ymajorticklabels(),family='serif',fontsize=18)\n",
      "    plt.setp(ax.get_xmajorticklabels(),family='serif',fontsize=18)\n",
      "    ax.spines['right'].set_color('none')\n",
      "    ax.spines['top'].set_color('none')\n",
      "    ax.xaxis.set_ticks_position('bottom')\n",
      "    ax.yaxis.set_ticks_position('left')\n",
      "    ax.grid(True,linestyle=':',color='0.75')\n",
      "    ax.set_axisbelow(True)\n",
      "    \n",
      "    wn = 2*np.pi*f\n",
      "    wd = wn*np.sqrt(1-z**2)\n",
      "    \n",
      "    # Define x(t)\n",
      "    x = np.exp(-z*wn*t)*(x0[0]*np.cos(wd*t) + (z*wn*x0[0] + x0[1])/wd * np.sin(wd*t))\n",
      "    \n",
      "    plt.plot(t,x,color=\"blue\",linewidth=2)\n",
      "    plt.xlabel('Time (s)',family='serif',fontsize=22,weight='bold',labelpad=5)\n",
      "    plt.ylabel('Position (m)',family='serif',fontsize=22,weight='bold',labelpad=10)\n",
      "    plt.ylim(-1.1,1.1)\n",
      "    plt.xlim(0,5)\n",
      "   \n",
      "\n",
      "# Call the slider interaction\n",
      "#  f is changes in frequency, allowing between 0.2 and 1.8Hz at 0.1Hz increments\n",
      "#  z is damping ratio, allowing between 0 and 0.9 and 0.05 increments\n",
      "interact(plot_response, f=(0.2, 1.8, 0.01), z = (0, 0.9, 0.01))"
     ],
     "language": "python",
     "metadata": {},
     "outputs": [
      {
       "metadata": {},
       "output_type": "display_data",
       "png": "[encoded data removed]",
       "text": [
        "<matplotlib.figure.Figure at 0x1109dbe50>"
       ]
      }
     ],
     "prompt_number": 4
    },
    {
     "cell_type": "markdown",
     "metadata": {},
     "source": [
      "<hr class = \"style-end\">\n",
      "#### Licenses\n",
      "Code is licensed under a 3-clause BSD-style license. See the licenses/LICENSE.md file.\n",
      "\n",
      "Other content is provided under a [Creative Commons Attribution-NonCommercial 4.0 International License](http://creativecommons.org/licenses/by-nc/4.0/), CC-BY-NC 4.0."
     ]
    },
    {
     "cell_type": "code",
     "collapsed": false,
     "input": [
      "# Ignore this cell - We just update the CSS to make the notebook look a little bit better\n",
      "\n",
      "# Improve the notebook styling -- Run this first\n",
      "from IPython.core.display import HTML\n",
      "css_file = 'styling/CRAWLAB_IPythonNotebook.css'\n",
      "HTML(open(css_file, \"r\").read())"
     ],
     "language": "python",
     "metadata": {},
     "outputs": [
      {
       "html": [
        "<style>\n",
        "    @font-face {\n",
        "        font-family: \"Computer Modern\";\n",
        "        src: url('http://9dbb143991406a7c655e-aa5fcb0a5a4ec34cff238a2d56ca4144.r56.cf5.rackcdn.com/cmunss.otf');\n",
        "    }\n",
        "    @font-face {\n",
        "        font-family: \"Computer Modern\";\n",
        "        font-weight: bold;\n",
        "        src: url('http://9dbb143991406a7c655e-aa5fcb0a5a4ec34cff238a2d56ca4144.r56.cf5.rackcdn.com/cmunsx.otf');\n",
        "    }\n",
        "    @font-face {\n",
        "        font-family: \"Computer Modern\";\n",
        "        font-style: oblique;\n",
        "        src: url('http://9dbb143991406a7c655e-aa5fcb0a5a4ec34cff238a2d56ca4144.r56.cf5.rackcdn.com/cmunsi.otf');\n",
        "    }\n",
        "    @font-face {\n",
        "        font-family: \"Computer Modern\";\n",
        "        font-weight: bold;\n",
        "        font-style: oblique;\n",
        "        src: url('http://9dbb143991406a7c655e-aa5fcb0a5a4ec34cff238a2d56ca4144.r56.cf5.rackcdn.com/cmunso.otf');\n",
        "    }\n",
        "    \n",
        "    div.cell{\n",
        "        max-width:1100px;\n",
        "        margin-left:auto;\n",
        "        margin-right:auto;\n",
        "    }\n",
        "    \n",
        "    h1 {\n",
        "        font-family: Computer Modern;\n",
        "    }\n",
        "    \n",
        "    h4{\n",
        "        margin-top:12px;\n",
        "        margin-bottom: 3px;\n",
        "       }\n",
        "\n",
        "    div.text_cell_render{\n",
        "        font-family: Computer Modern, \"Helvetica Neue\", Arial, Helvetica, Geneva, sans-serif;\n",
        "        line-height: 145%;\n",
        "        font-size: 130%;\n",
        "        max-width:1100px;\n",
        "        margin-left:auto;\n",
        "        margin-right:auto;\n",
        "    }\n",
        "    \n",
        "    .CodeMirror{\n",
        "            font-family: \"Source Code Pro\", source-code-pro, Consolas, monospace;\n",
        "    }\n",
        "    \n",
        "    .warning{\n",
        "        color: rgb( 240, 20, 20 )\n",
        "        }  \n",
        "    \n",
        "    hr.style-end {\n",
        "    border: 0;\n",
        "    height: 1px;\n",
        "    text-align: center;\n",
        "    background: #333;\n",
        "    background-image: -webkit-linear-gradient(left, #ccc, #333, #ccc); \n",
        "    background-image:    -moz-linear-gradient(left, #ccc, #333, #ccc); \n",
        "    background-image:     -ms-linear-gradient(left, #ccc, #333, #ccc); \n",
        "    background-image:      -o-linear-gradient(left, #ccc, #333, #ccc); \n",
        "    }\n",
        "\n",
        "    hr.style-end:after {\n",
        "    content: \"\u269c\";\n",
        "    display: inline-block;\n",
        "    position: relative; \n",
        "    top: -0.5em;  \n",
        "    font-size: 1.5em;\n",
        "    padding: 0 0.25em;\n",
        "    background: white;\n",
        "    }\n",
        "    \n",
        "/*  Center figures, etc\n",
        "    .ui-wrapper {\n",
        "        margin-left: auto !important;\n",
        "        margin-right: auto !important;\n",
        "    }\n",
        " */\n",
        "    \n",
        "</style>\n",
        "<script>\n",
        "    MathJax.Hub.Config({\n",
        "                        TeX: {\n",
        "                           extensions: [\"AMSmath.js\"]\n",
        "                           },\n",
        "                tex2jax: {\n",
        "                    inlineMath: [ ['$','$'], [\"\\\\(\",\"\\\\)\"] ],\n",
        "                    displayMath: [ ['$$','$$'], [\"\\\\[\",\"\\\\]\"] ]\n",
        "                },\n",
        "                displayAlign: 'center', // Change this to 'center' to center equations.\n",
        "                \"HTML-CSS\": {\n",
        "                    styles: {'.MathJax_Display': {\"margin\": 4}}\n",
        "                }\n",
        "        });\n",
        "</script>\n"
       ],
       "metadata": {},
       "output_type": "pyout",
       "prompt_number": 14,
       "text": [
        "<IPython.core.display.HTML at 0x106384490>"
       ]
      }
     ],
     "prompt_number": 14
    }
   ],
   "metadata": {}
  }
 ]
}