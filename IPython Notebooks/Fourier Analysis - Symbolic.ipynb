{
 "metadata": {
  "name": "",
  "signature": "sha256:bfd08b35e6fb7b6ef115087c6144406e269b6300cec6a74b7dddecc7ff9dfda0"
 },
 "nbformat": 3,
 "nbformat_minor": 0,
 "worksheets": [
  {
   "cells": [
    {
     "cell_type": "markdown",
     "metadata": {},
     "source": [
      "<h1 style=\"text-align:center\">Fourier Analysis using SymPy</h1>\n",
      "<h3 style=\"text-align:center\"> MCHE 485: Mechanical Vibrations</h3> \n",
      "<p style=\"text-align:center\">Dr. Joshua Vaughan <br>\n",
      "<a href=\"mailto:joshua.vaughan@louisiana.edu\">joshua.vaughan@louisiana.edu</a><br>\n",
      "http://www.ucs.louisiana.edu/~jev9637/   </p>"
     ]
    },
    {
     "cell_type": "markdown",
     "metadata": {},
     "source": [
      "This notebook will look at the Fourier Analysis of periodic functions. In this notebook, we'll use [SymPy](http://sympy.org/en/index.html), \"a Python library for symbolic mathematics.\"\n",
      "\n",
      "We can write any periodic function as an infinite sum of sines and cosines:\n",
      "\n",
      "$ \\quad f(t) = \\sum_{n=0}^{\\infty}a_n\\cos(n\\omega_0t) + \\sum_{n=1}^{\\infty}b_n\\sin(n\\omega_0t) $\n",
      "\n",
      "where\n",
      "\n",
      "$ \\quad a_n = \\frac{\\omega_0}{\\pi}\\int_0^{\\frac{2\\pi}{\\omega_0}}f(t)\\cos(n\\omega_0t)dt $, \n",
      "\n",
      "$ \\quad b_n = \\frac{\\omega_0}{\\pi}\\int_0^{\\frac{2\\pi}{\\omega_0}}f(t)\\sin(n\\omega_0t)dt $, \n",
      "\n",
      "and\n",
      "\n",
      "$ \\quad a_0 = \\frac{\\omega_0}{2\\pi}\\int_0^{\\frac{2\\pi}{\\omega_0}}f(t)dt $\n",
      "\n",
      "For more information on this process, you can see the lectures at the [class website](http://www.ucs.louisiana.edu/~jev9637/MCHE485.html).\n",
      "\n",
      "By changing the number of terms we use to approximate the original function we can approach its shape, as shown in Figure 1.\n",
      "<p style=\"text-align:center\">\n",
      "\t<img src=\"http://shared.crawlab.org/SquareWave_Fourier_Approx.gif\" alt=\"Fourier Analysis\" width=50%/></a><br>\n",
      "    <strong> Figure 1: Increasing the Number of Terms in the Approximation </strong>\n",
      "</p>\n",
      "\n",
      "The remainder of this notebook will focus on determining the $a_n$ and $b_n$ terms in the Fourier Expansion.\n",
      "<br>\n",
      "<br>"
     ]
    },
    {
     "cell_type": "code",
     "collapsed": false,
     "input": [
      "# import Sympy and start \"pretty printing\"\n",
      "import sympy\n",
      "sympy.init_printing()"
     ],
     "language": "python",
     "metadata": {},
     "outputs": [],
     "prompt_number": 1
    },
    {
     "cell_type": "code",
     "collapsed": false,
     "input": [
      "# Define the sympy symbolic variables we'll need\n",
      "t, w0, tau_0 = sympy.symbols(['t', 'omega_0', 'tau_0'], real=True, positive=True)"
     ],
     "language": "python",
     "metadata": {},
     "outputs": [],
     "prompt_number": 2
    },
    {
     "cell_type": "code",
     "collapsed": false,
     "input": [
      "#--------- Input your function to examine here --------\n",
      "\n",
      "# Use the sympy Piecewise function to define the square wave - This matches the one in the Figure 1 above.\n",
      "y = sympy.Piecewise((1, t < sympy.pi/w0), (-1, t > sympy.pi/w0))\n",
      "\n",
      "\n",
      "# Use the sympy Piecewise function to define the triangle wave\n",
      "# First define F0\n",
      "# F0 = sympy.symbols('F0')\n",
      "# y = sympy.Piecewise((F0/2*t, t < sympy.pi/w0), (-(F0/2)*t + 2*F0, t >= sympy.pi/w0))\n",
      "\n",
      "\n",
      "# Use the sympy Piecewise function to define a trapezoid function\n",
      "# y = sympy.Piecewise((3*F0*w0/(2*sympy.pi)*t, t < (2*sympy.pi/(3*w0))), (F0, t < (4*sympy.pi/(3*w0))),\n",
      "#                     (-3*F0*w0/(2*sympy.pi)*t + 3*F0, t > (4*sympy.pi/(3*w0))))"
     ],
     "language": "python",
     "metadata": {},
     "outputs": [],
     "prompt_number": 3
    },
    {
     "cell_type": "code",
     "collapsed": false,
     "input": [
      "# define the number of terms to use in the approximation\n",
      "num_terms = 7"
     ],
     "language": "python",
     "metadata": {},
     "outputs": [],
     "prompt_number": 4
    },
    {
     "cell_type": "code",
     "collapsed": false,
     "input": [
      "# get the a0 term\n",
      "a0 = w0 / (2*sympy.pi) * sympy.integrate(y, (t, 0, 2*sympy.pi/w0))"
     ],
     "language": "python",
     "metadata": {},
     "outputs": [],
     "prompt_number": 5
    },
    {
     "cell_type": "code",
     "collapsed": false,
     "input": [
      "# Define matrices of 0s to fill the the an and bn terms\n",
      "a = sympy.zeros(1, num_terms)\n",
      "b = sympy.zeros(1, num_terms)\n",
      "\n",
      "# cycle through the 1 to num_terms Fourier coefficients (a_n and b_n)\n",
      "for n in range(num_terms):\n",
      "    integral_cos = y * sympy.cos((n+1)*w0*t)         # define the integral \"interior\"\n",
      "    a[n] = w0 / sympy.pi * sympy.integrate(integral_cos, (t, 0, 2*sympy.pi/w0))    # solve for a_n\n",
      "\n",
      "    integral_sin = y * sympy.sin((n+1)*w0*t)         # define the integral \"interior\"\n",
      "    b[n] = w0 / sympy.pi * sympy.integrate(integral_sin, (t, 0, 2*sympy.pi/w0))    # solve for b_n"
     ],
     "language": "python",
     "metadata": {},
     "outputs": [],
     "prompt_number": 6
    },
    {
     "cell_type": "code",
     "collapsed": false,
     "input": [
      "# Simplify and display a0\n",
      "sympy.simplify(a0)"
     ],
     "language": "python",
     "metadata": {},
     "outputs": [
      {
       "latex": [
        "$$0$$"
       ],
       "metadata": {},
       "output_type": "pyout",
       "png": "[encoded data removed]",
       "prompt_number": 7,
       "text": [
        "0"
       ]
      }
     ],
     "prompt_number": 7
    },
    {
     "cell_type": "code",
     "collapsed": false,
     "input": [
      "# Simplify and display the an terms\n",
      "sympy.simplify(a)"
     ],
     "language": "python",
     "metadata": {},
     "outputs": [
      {
       "latex": [
        "$$\\left[\\begin{matrix}0 & 0 & 0 & 0 & 0 & 0 & 0\\end{matrix}\\right]$$"
       ],
       "metadata": {},
       "output_type": "pyout",
       "png": "[encoded data removed]",
       "prompt_number": 8,
       "text": [
        "[0  0  0  0  0  0  0]"
       ]
      }
     ],
     "prompt_number": 8
    },
    {
     "cell_type": "code",
     "collapsed": false,
     "input": [
      "# Simplify and diplay the bn terms\n",
      "sympy.simplify(b)"
     ],
     "language": "python",
     "metadata": {},
     "outputs": [
      {
       "latex": [
        "$$\\left[\\begin{matrix}\\frac{4}{\\pi} & 0 & \\frac{4}{3 \\pi} & 0 & \\frac{4}{5 \\pi} & 0 & \\frac{4}{7 \\pi}\\end{matrix}\\right]$$"
       ],
       "metadata": {},
       "output_type": "pyout",
       "png": "[encoded data removed]",
       "prompt_number": 9,
       "text": [
        "\u23a14      4       4       4 \u23a4\n",
        "\u23a2\u2500  0  \u2500\u2500\u2500  0  \u2500\u2500\u2500  0  \u2500\u2500\u2500\u23a5\n",
        "\u23a3\u03c0     3\u22c5\u03c0     5\u22c5\u03c0     7\u22c5\u03c0\u23a6"
       ]
      }
     ],
     "prompt_number": 9
    },
    {
     "cell_type": "markdown",
     "metadata": {},
     "source": [
      "<hr class = \"style-end\">"
     ]
    },
    {
     "cell_type": "markdown",
     "metadata": {},
     "source": [
      "#### Licenses\n",
      "Code is licensed under a 3-clause BSD style license. See the licenses/LICENSE.md file.\n",
      "\n",
      "Other content is provided under a [Creative Commons Attribution-NonCommercial 4.0 International License](http://creativecommons.org/licenses/by-nc/4.0/), CC-BY-NC 4.0."
     ]
    },
    {
     "cell_type": "code",
     "collapsed": false,
     "input": [
      "# Ignore this cell - We just update the CSS to make the notebook look a little bit better and easier to read\n",
      "\n",
      "# Improve the notebook styling -- Run this first\n",
      "from IPython.core.display import HTML\n",
      "css_file = 'styling/CRAWLAB_IPythonNotebook.css'\n",
      "HTML(open(css_file, \"r\").read())"
     ],
     "language": "python",
     "metadata": {},
     "outputs": [
      {
       "html": [
        "<style>\n",
        "    @font-face {\n",
        "        font-family: \"Computer Modern\";\n",
        "        src: url('http://9dbb143991406a7c655e-aa5fcb0a5a4ec34cff238a2d56ca4144.r56.cf5.rackcdn.com/cmunss.otf');\n",
        "    }\n",
        "    @font-face {\n",
        "        font-family: \"Computer Modern\";\n",
        "        font-weight: bold;\n",
        "        src: url('http://9dbb143991406a7c655e-aa5fcb0a5a4ec34cff238a2d56ca4144.r56.cf5.rackcdn.com/cmunsx.otf');\n",
        "    }\n",
        "    @font-face {\n",
        "        font-family: \"Computer Modern\";\n",
        "        font-style: oblique;\n",
        "        src: url('http://9dbb143991406a7c655e-aa5fcb0a5a4ec34cff238a2d56ca4144.r56.cf5.rackcdn.com/cmunsi.otf');\n",
        "    }\n",
        "    @font-face {\n",
        "        font-family: \"Computer Modern\";\n",
        "        font-weight: bold;\n",
        "        font-style: oblique;\n",
        "        src: url('http://9dbb143991406a7c655e-aa5fcb0a5a4ec34cff238a2d56ca4144.r56.cf5.rackcdn.com/cmunso.otf');\n",
        "    }\n",
        "    \n",
        "    div.cell{\n",
        "        max-width:1100px;\n",
        "        margin-left:auto;\n",
        "        margin-right:auto;\n",
        "    }\n",
        "    \n",
        "    h1 {\n",
        "        font-family: Computer Modern;\n",
        "    }\n",
        "    \n",
        "    h4{\n",
        "        margin-top:12px;\n",
        "        margin-bottom: 3px;\n",
        "       }\n",
        "\n",
        "    div.text_cell_render{\n",
        "        font-family: Computer Modern, \"Helvetica Neue\", Arial, Helvetica, Geneva, sans-serif;\n",
        "        line-height: 145%;\n",
        "        font-size: 130%;\n",
        "        max-width:1100px;\n",
        "        margin-left:auto;\n",
        "        margin-right:auto;\n",
        "    }\n",
        "    \n",
        "    .CodeMirror{\n",
        "            font-family: \"Source Code Pro\", source-code-pro, Consolas, monospace;\n",
        "    }\n",
        "    \n",
        "    .warning{\n",
        "        color: rgb( 240, 20, 20 )\n",
        "        }  \n",
        "    \n",
        "    hr.style-end {\n",
        "    border: 0;\n",
        "    height: 1px;\n",
        "    text-align: center;\n",
        "    background: #333;\n",
        "    background-image: -webkit-linear-gradient(left, #ccc, #333, #ccc); \n",
        "    background-image:    -moz-linear-gradient(left, #ccc, #333, #ccc); \n",
        "    background-image:     -ms-linear-gradient(left, #ccc, #333, #ccc); \n",
        "    background-image:      -o-linear-gradient(left, #ccc, #333, #ccc); \n",
        "    }\n",
        "\n",
        "    hr.style-end:after {\n",
        "    content: \"\u269c\";\n",
        "    display: inline-block;\n",
        "    position: relative; \n",
        "    top: -0.5em;  \n",
        "    font-size: 1.5em;\n",
        "    padding: 0 0.25em;\n",
        "    background: white;\n",
        "    }\n",
        "    \n",
        "/*  Center figures, etc\n",
        "    .ui-wrapper {\n",
        "        margin-left: auto !important;\n",
        "        margin-right: auto !important;\n",
        "    }\n",
        " */\n",
        "    \n",
        "</style>\n",
        "<script>\n",
        "    MathJax.Hub.Config({\n",
        "                        TeX: {\n",
        "                           extensions: [\"AMSmath.js\"]\n",
        "                           },\n",
        "                tex2jax: {\n",
        "                    inlineMath: [ ['$','$'], [\"\\\\(\",\"\\\\)\"] ],\n",
        "                    displayMath: [ ['$$','$$'], [\"\\\\[\",\"\\\\]\"] ]\n",
        "                },\n",
        "                displayAlign: 'center', // Change this to 'center' to center equations.\n",
        "                \"HTML-CSS\": {\n",
        "                    styles: {'.MathJax_Display': {\"margin\": 4}}\n",
        "                }\n",
        "        });\n",
        "</script>\n"
       ],
       "metadata": {},
       "output_type": "pyout",
       "prompt_number": 10,
       "text": [
        "<IPython.core.display.HTML at 0x107fda550>"
       ]
      }
     ],
     "prompt_number": 10
    }
   ],
   "metadata": {}
  }
 ]
}