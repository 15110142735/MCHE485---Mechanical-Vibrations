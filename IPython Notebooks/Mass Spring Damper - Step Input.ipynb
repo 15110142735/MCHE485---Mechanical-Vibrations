{
 "metadata": {
  "name": "",
  "signature": "sha256:29136612c0001ed4f6b9b6bf7063d6f1967d74efb251abfd7673a145140c2d46"
 },
 "nbformat": 3,
 "nbformat_minor": 0,
 "worksheets": [
  {
   "cells": [
    {
     "cell_type": "markdown",
     "metadata": {},
     "source": [
      "<h1 style=\"text-align:center\">Step Response of a Mass-Spring-Damper System</h1>\n",
      "<h3 style=\"text-align:center\"> MCHE 485: Mechanical Vibrations</h3>\n",
      "<p style=\"text-align:center\">Dr. Joshua Vaughan <br>\n",
      "<a href=\"mailto:joshua.vaughan@louisiana.edu\">joshua.vaughan@louisiana.edu</a><br>\n",
      "http://www.ucs.louisiana.edu/~jev9637/   </p>"
     ]
    },
    {
     "cell_type": "markdown",
     "metadata": {},
     "source": [
      "<p style=\"text-align:center\">\n",
      "\t<img src=\"http://shared.crawlab.org/MassSpringDamper_Seismic_Horiz.png\" alt=\"A Mass-Spring-Damper System\" width=50%/></a><br>\n",
      "    <strong> Figure 1: A Mass-Spring-Damper System </strong>\n",
      "</p>\n",
      "\n",
      "This notebook simluates a step response of a simple mass-spring-damper system like the one shown in Figure 1. We will also be using some functions from the [Python Control Systems Toolbox](https://www.cds.caltech.edu/~murray/wiki/Control_Systems_Library_for_Python).\n",
      "\n",
      "The equation of motion for the system is:\n",
      "\n",
      "$ \\quad m \\ddot{x} + c \\dot{x} + kx = c \\dot{y} + ky $\n",
      "\n",
      "We could also write this equation in terms of the damping ratio, $\\zeta$, and natural frequency, $\\omega_n$.\n",
      "\n",
      "$ \\quad \\ddot{x} + 2\\zeta\\omega_n\\dot{x} + \\omega_n^2x = 2\\zeta\\omega_n \\dot{y} + \\omega_n^2 y$\n",
      "\n",
      "For information on how to obtain this equation, you can see the lectures at the [class website](http://www.ucs.louisiana.edu/~jev9637/MCHE485.html)."
     ]
    },
    {
     "cell_type": "markdown",
     "metadata": {},
     "source": [
      "We'll start by using the solution to the differential equation that we developed in class to plot the response. The solution for the underdamped case is:\n",
      "\n",
      "$ \\quad x(t) = c + e^{-\\zeta\\omega_nt}\\left(-c \\cos{\\omega_d t} - \\frac{\\zeta c}{\\sqrt{1-\\zeta^2}} \\sin{\\omega_d t}\\right) $\n",
      "\n",
      "where $c$ is the desired step size, and $\\omega_d = \\omega_n \\sqrt{1 - \\zeta^2}$ is the damped natural frequency."
     ]
    },
    {
     "cell_type": "code",
     "collapsed": false,
     "input": [
      "import numpy as np              # Grab all of the NumPy functions with nickname np"
     ],
     "language": "python",
     "metadata": {},
     "outputs": [],
     "prompt_number": 1
    },
    {
     "cell_type": "code",
     "collapsed": false,
     "input": [
      "# We want our plots to be displayed inline, not in a separate window\n",
      "%matplotlib inline\n",
      "\n",
      "import matplotlib.pyplot as plt"
     ],
     "language": "python",
     "metadata": {},
     "outputs": [],
     "prompt_number": 2
    },
    {
     "cell_type": "code",
     "collapsed": false,
     "input": [
      "# Define the System Parameters\n",
      "m = 1.0                 # kg\n",
      "k = (2.0*np.pi)**2      # N/m (Selected to give an undamped natrual frequency of 1Hz)\n",
      "wn = np.sqrt(k/m)       # Natural Frequency (rad/s)\n",
      "\n",
      "z = 0.25                # Define a desired damping ratio\n",
      "c = 2*z*wn*m            # calculate the damping coeff. to create it (N/(m/s))\n",
      "\n",
      "wd = wn*np.sqrt(1-z**2) # Damped natural frequency (rad/s)"
     ],
     "language": "python",
     "metadata": {},
     "outputs": [],
     "prompt_number": 3
    },
    {
     "cell_type": "code",
     "collapsed": false,
     "input": [
      "# Define the time array\n",
      "t = np.linspace(0, 3, 301) # 0-3s with 301 points in between\n",
      "\n",
      "# Define the step input (We're using y_step, because we've already defined c as our damping coeff.)\n",
      "y_step = 1.0\n",
      "\n",
      "# Define x(t)\n",
      "# In this case, we're specifying that the step input occurs at t = 0\n",
      "x = y_step + np.exp(-z*wn*t)*(-y_step*np.cos(wd*t) + (z*y_step)/(np.sqrt(1-z**2)) * np.sin(wd*t))"
     ],
     "language": "python",
     "metadata": {},
     "outputs": [],
     "prompt_number": 8
    },
    {
     "cell_type": "code",
     "collapsed": false,
     "input": [
      "# Set the plot size - 3x2 aspect ratio is best\n",
      "fig = plt.figure(figsize=(6, 4))\n",
      "ax = plt.gca()\n",
      "plt.subplots_adjust(bottom=0.17, left=0.17, top=0.96, right=0.96)\n",
      "\n",
      "# Change the axis units to serif\n",
      "plt.setp(ax.get_ymajorticklabels(), family='serif', fontsize=18)\n",
      "plt.setp(ax.get_xmajorticklabels(), family='serif', fontsize=18)\n",
      "\n",
      "ax.spines['right'].set_color('none')\n",
      "ax.spines['top'].set_color('none')\n",
      "\n",
      "ax.xaxis.set_ticks_position('bottom')\n",
      "ax.yaxis.set_ticks_position('left')\n",
      "\n",
      "# Turn on the plot grid and set appropriate linestyle and color\n",
      "ax.grid(True,linestyle=':', color='0.75')\n",
      "ax.set_axisbelow(True)\n",
      "\n",
      "# Define the X and Y axis labels\n",
      "plt.xlabel('Time (s)', family='serif', fontsize=22, weight='bold', labelpad=5)\n",
      "plt.ylabel('Position (m)', family='serif', fontsize=22, weight='bold', labelpad=10)\n",
      "\n",
      "plt.plot([t[0], t[-1]], [y_step, y_step], linewidth=2, linestyle='--', label=r'Step Input')\n",
      "plt.plot(t, x, linewidth=2, linestyle='-', label=r'Response')\n",
      "\n",
      "# uncomment below and set limits if needed\n",
      "# plt.xlim(0, 5)\n",
      "# plt.ylim(0, 10)\n",
      "\n",
      "# Create the legend, then fix the fontsize\n",
      "leg = plt.legend(loc='upper right', ncol = 2, fancybox=True)\n",
      "ltext  = leg.get_texts()\n",
      "plt.setp(ltext, family='serif', fontsize=20)\n",
      "\n",
      "# Adjust the page layout filling the page using the new tight_layout command\n",
      "plt.tight_layout(pad=0.5)\n",
      "\n",
      "# Uncommetn to save the figure as a high-res pdf in the current folder\n",
      "# It's saved at the original 6x4 size\n",
      "# plt.savefig('plot_filename.pdf')\n",
      "\n",
      "fig.set_size_inches(9, 6) # Resize the figure for better display in the notebook"
     ],
     "language": "python",
     "metadata": {},
     "outputs": [
      {
       "metadata": {},
       "output_type": "display_data",
       "png": "[encoded data removed]",
       "text": [
        "<matplotlib.figure.Figure at 0x108b171d0>"
       ]
      }
     ],
     "prompt_number": 11
    },
    {
     "cell_type": "markdown",
     "metadata": {},
     "source": [
      "### Using the Control System Toolbox\n",
      "We can also simluate responses using the [Python Control Systems Library](http://www.cds.caltech.edu/~murray/wiki/Control_Systems_Library_for_Python). To do so, we'll use the transfer function form of the equations of motion. If you've had controls, you probably spent a lot of time working with transfer functions. If not, we'll learn more about them later. For now, just think of a transfer function as an experssion of how the input is \"transferred\" to the output."
     ]
    },
    {
     "cell_type": "code",
     "collapsed": false,
     "input": [
      "# import the control system toolbox\n",
      "import control"
     ],
     "language": "python",
     "metadata": {},
     "outputs": [],
     "prompt_number": 16
    },
    {
     "cell_type": "code",
     "collapsed": false,
     "input": [
      "# Define the system to use in simulation - in transfer function form here\n",
      "num = [2.0*z*wn, wn**2]\n",
      "den = [1.0, 2.0*z*wn, wn**2]\n",
      "\n",
      "sys = control.tf(num,den)"
     ],
     "language": "python",
     "metadata": {},
     "outputs": [],
     "prompt_number": 17
    },
    {
     "cell_type": "code",
     "collapsed": false,
     "input": [
      "# Form the step input in desired position, yd, starting the step at t=0.0s\n",
      "yd = np.ones_like(t)              # This is an array of all ones, with the same size as t"
     ],
     "language": "python",
     "metadata": {},
     "outputs": [],
     "prompt_number": 18
    },
    {
     "cell_type": "code",
     "collapsed": false,
     "input": [
      "# Define the initial conditions x_dot(0) = 0, x(0) = 0\n",
      "x0 = [0.,0.]\n",
      "\n",
      "# run the simulation - utilize the built-in initial condition response function\n",
      "[T, yout, x_out] = control.forced_response(sys, t, yd, x0)"
     ],
     "language": "python",
     "metadata": {},
     "outputs": [],
     "prompt_number": 19
    },
    {
     "cell_type": "markdown",
     "metadata": {},
     "source": [
      "Now, let's plot this version of the solution. It should look the same as the function-based version."
     ]
    },
    {
     "cell_type": "code",
     "collapsed": false,
     "input": [
      "# Set the plot size - 3x2 aspect ratio is best\n",
      "fig = plt.figure(figsize=(6, 4))\n",
      "ax = plt.gca()\n",
      "plt.subplots_adjust(bottom=0.17, left=0.17, top=0.96, right=0.96)\n",
      "\n",
      "# Change the axis units to serif\n",
      "plt.setp(ax.get_ymajorticklabels(), family='serif', fontsize=18)\n",
      "plt.setp(ax.get_xmajorticklabels(), family='serif', fontsize=18)\n",
      "\n",
      "ax.spines['right'].set_color('none')\n",
      "ax.spines['top'].set_color('none')\n",
      "\n",
      "ax.xaxis.set_ticks_position('bottom')\n",
      "ax.yaxis.set_ticks_position('left')\n",
      "\n",
      "# Turn on the plot grid and set appropriate linestyle and color\n",
      "ax.grid(True,linestyle=':', color='0.75')\n",
      "ax.set_axisbelow(True)\n",
      "\n",
      "# Define the X and Y axis labels\n",
      "plt.xlabel('Time (s)', family='serif', fontsize=22, weight='bold', labelpad=5)\n",
      "plt.ylabel('Position (m)', family='serif', fontsize=22, weight='bold', labelpad=10)\n",
      "\n",
      "plt.plot(t, yd, linewidth=2, linestyle='--', label=r'Step Input')\n",
      "plt.plot(t, yout, linewidth=2, linestyle='-', label=r'Response')\n",
      "\n",
      "# uncomment below and set limits if needed\n",
      "# plt.xlim(0, 5)\n",
      "# plt.ylim(0, 10)\n",
      "\n",
      "# Create the legend, then fix the fontsize\n",
      "leg = plt.legend(loc='upper right', ncol = 1, fancybox=True)\n",
      "ltext  = leg.get_texts()\n",
      "plt.setp(ltext, family='serif', fontsize=20)\n",
      "\n",
      "# Adjust the page layout filling the page using the new tight_layout command\n",
      "plt.tight_layout(pad=0.5)\n",
      "\n",
      "# Uncommetn to save the figure as a high-res pdf in the current folder\n",
      "# It's saved at the original 6x4 size\n",
      "# plt.savefig('plot_filename.pdf')\n",
      "\n",
      "fig.set_size_inches(9, 6) # Resize the figure for better display in the notebook"
     ],
     "language": "python",
     "metadata": {},
     "outputs": [
      {
       "metadata": {},
       "output_type": "display_data",
       "png": "[encoded data removed]",
       "text": [
        "<matplotlib.figure.Figure at 0x10d54f9d0>"
       ]
      }
     ],
     "prompt_number": 20
    },
    {
     "cell_type": "markdown",
     "metadata": {},
     "source": [
      "<hr class = \"style-end\">\n",
      "#### Licenses\n",
      "Code is licensed under a 3-clause BSD style license. See the licenses/LICENSE.md file.\n",
      "\n",
      "Other content is provided under a [Creative Commons Attribution-NonCommercial 4.0 International License](http://creativecommons.org/licenses/by-nc/4.0/), CC-BY-NC 4.0."
     ]
    },
    {
     "cell_type": "code",
     "collapsed": false,
     "input": [
      "# Ignore this cell - We just update the CSS to make the notebook look a little bit better and easier to read\n",
      "\n",
      "# Improve the notebook styling -- Run this first\n",
      "from IPython.core.display import HTML\n",
      "css_file = 'styling/CRAWLAB_IPythonNotebook.css'\n",
      "HTML(open(css_file, \"r\").read())"
     ],
     "language": "python",
     "metadata": {},
     "outputs": [
      {
       "html": [
        "<style>\n",
        "    @font-face {\n",
        "        font-family: \"Computer Modern\";\n",
        "        src: url('http://9dbb143991406a7c655e-aa5fcb0a5a4ec34cff238a2d56ca4144.r56.cf5.rackcdn.com/cmunss.otf');\n",
        "    }\n",
        "    @font-face {\n",
        "        font-family: \"Computer Modern\";\n",
        "        font-weight: bold;\n",
        "        src: url('http://9dbb143991406a7c655e-aa5fcb0a5a4ec34cff238a2d56ca4144.r56.cf5.rackcdn.com/cmunsx.otf');\n",
        "    }\n",
        "    @font-face {\n",
        "        font-family: \"Computer Modern\";\n",
        "        font-style: oblique;\n",
        "        src: url('http://9dbb143991406a7c655e-aa5fcb0a5a4ec34cff238a2d56ca4144.r56.cf5.rackcdn.com/cmunsi.otf');\n",
        "    }\n",
        "    @font-face {\n",
        "        font-family: \"Computer Modern\";\n",
        "        font-weight: bold;\n",
        "        font-style: oblique;\n",
        "        src: url('http://9dbb143991406a7c655e-aa5fcb0a5a4ec34cff238a2d56ca4144.r56.cf5.rackcdn.com/cmunso.otf');\n",
        "    }\n",
        "    \n",
        "    div.cell{\n",
        "        max-width:1100px;\n",
        "        margin-left:auto;\n",
        "        margin-right:auto;\n",
        "    }\n",
        "    \n",
        "    h1 {\n",
        "        font-family: Computer Modern;\n",
        "    }\n",
        "    \n",
        "    h4{\n",
        "        margin-top:12px;\n",
        "        margin-bottom: 3px;\n",
        "       }\n",
        "\n",
        "    div.text_cell_render{\n",
        "        font-family: Computer Modern, \"Helvetica Neue\", Arial, Helvetica, Geneva, sans-serif;\n",
        "        line-height: 145%;\n",
        "        font-size: 130%;\n",
        "        max-width:1100px;\n",
        "        margin-left:auto;\n",
        "        margin-right:auto;\n",
        "    }\n",
        "    \n",
        "    .CodeMirror{\n",
        "            font-family: \"Source Code Pro\", source-code-pro, Consolas, monospace;\n",
        "    }\n",
        "    \n",
        "    .warning{\n",
        "        color: rgb( 240, 20, 20 )\n",
        "        }  \n",
        "    \n",
        "    hr.style-end {\n",
        "    border: 0;\n",
        "    height: 1px;\n",
        "    text-align: center;\n",
        "    background: #333;\n",
        "    background-image: -webkit-linear-gradient(left, #ccc, #333, #ccc); \n",
        "    background-image:    -moz-linear-gradient(left, #ccc, #333, #ccc); \n",
        "    background-image:     -ms-linear-gradient(left, #ccc, #333, #ccc); \n",
        "    background-image:      -o-linear-gradient(left, #ccc, #333, #ccc); \n",
        "    }\n",
        "\n",
        "    hr.style-end:after {\n",
        "    content: \"\u269c\";\n",
        "    display: inline-block;\n",
        "    position: relative; \n",
        "    top: -0.5em;  \n",
        "    font-size: 1.5em;\n",
        "    padding: 0 0.25em;\n",
        "    background: white;\n",
        "    }\n",
        "    \n",
        "/*  Center figures, etc\n",
        "    .ui-wrapper {\n",
        "        margin-left: auto !important;\n",
        "        margin-right: auto !important;\n",
        "    }\n",
        " */\n",
        "    \n",
        "</style>\n",
        "<script>\n",
        "    MathJax.Hub.Config({\n",
        "                        TeX: {\n",
        "                           extensions: [\"AMSmath.js\"]\n",
        "                           },\n",
        "                tex2jax: {\n",
        "                    inlineMath: [ ['$','$'], [\"\\\\(\",\"\\\\)\"] ],\n",
        "                    displayMath: [ ['$$','$$'], [\"\\\\[\",\"\\\\]\"] ]\n",
        "                },\n",
        "                displayAlign: 'center', // Change this to 'center' to center equations.\n",
        "                \"HTML-CSS\": {\n",
        "                    styles: {'.MathJax_Display': {\"margin\": 4}}\n",
        "                }\n",
        "        });\n",
        "</script>\n"
       ],
       "metadata": {},
       "output_type": "pyout",
       "prompt_number": 14,
       "text": [
        "<IPython.core.display.HTML at 0x1084d93d0>"
       ]
      }
     ],
     "prompt_number": 14
    }
   ],
   "metadata": {}
  }
 ]
}