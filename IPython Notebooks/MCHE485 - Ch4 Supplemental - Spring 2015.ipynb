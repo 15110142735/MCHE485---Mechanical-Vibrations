{
 "metadata": {
  "name": "",
  "signature": "sha256:69c17e0919751c94ee427620d965629d16ffe2c3fe6b5b006bfc89989276e065"
 },
 "nbformat": 3,
 "nbformat_minor": 0,
 "worksheets": [
  {
   "cells": [
    {
     "cell_type": "markdown",
     "metadata": {},
     "source": [
      "<h1 style=\"text-align:center\">Chapter 4 Supplmental Problems Helper</h1>\n",
      "<h3 style=\"text-align:center\"> MCHE 485: Mechanical Vibrations &mdash; Spring 2015</h3> \n",
      "<p style=\"text-align:center\">Dr. Joshua Vaughan <br>\n",
      "<a href=\"mailto:joshua.vaughan@louisiana.edu\">joshua.vaughan@louisiana.edu</a><br>\n",
      "http://www.ucs.louisiana.edu/~jev9637/   </p>"
     ]
    },
    {
     "cell_type": "code",
     "collapsed": false,
     "input": [
      "import numpy as np              # Grab all of the NumPy functions with nickname np"
     ],
     "language": "python",
     "metadata": {},
     "outputs": [],
     "prompt_number": 1
    },
    {
     "cell_type": "code",
     "collapsed": false,
     "input": [
      "# We'll use the scipy version of the linear algebra\n",
      "from scipy import linalg"
     ],
     "language": "python",
     "metadata": {},
     "outputs": [],
     "prompt_number": 2
    },
    {
     "cell_type": "code",
     "collapsed": false,
     "input": [
      "%matplotlib inline\n",
      "import matplotlib.pyplot as plt"
     ],
     "language": "python",
     "metadata": {},
     "outputs": [],
     "prompt_number": 3
    },
    {
     "cell_type": "code",
     "collapsed": false,
     "input": [
      "# Let's also improve the printing of NumPy arrays.\n",
      "np.set_printoptions(precision=3, suppress=True)"
     ],
     "language": "python",
     "metadata": {},
     "outputs": [],
     "prompt_number": 4
    },
    {
     "cell_type": "markdown",
     "metadata": {},
     "source": [
      "# Problem 4.14"
     ]
    },
    {
     "cell_type": "code",
     "collapsed": false,
     "input": [
      "# Define the parameters\n",
      "m1 = 100        # kg\n",
      "m2 = 1500       # kg\n",
      "k1 = 10000      # N/m\n",
      "k2 = 12000      # N/m\n",
      "k3 = 70000      # N/m\n",
      "l = 4           # m\n",
      "\n",
      "# Define the momemt of interia about the COM\n",
      "Ic = 1.0/12 * m2 * l**2\n",
      "\n",
      "# define the matrices. I've chosen cooridnates to be (x, theta, x3)\n",
      "M = np.array([[m2, 0, 0],\n",
      "              [0, Ic, 0],\n",
      "              [0,  0, m1]])\n",
      "\n",
      "K = np.array([[k1 + k2 + k3, (k2 - k1) * l/2, -k3],\n",
      "              [(k2 - k1) * l/2, (k2 - k1) * (l/2)**2, 0],\n",
      "              [-k3, 0, k3]])"
     ],
     "language": "python",
     "metadata": {},
     "outputs": [],
     "prompt_number": 5
    },
    {
     "cell_type": "code",
     "collapsed": false,
     "input": [
      "# Now solve for the eigenvalues and eigenvectors\n",
      "eigenvals, eigenvects = linalg.eigh(K,M)"
     ],
     "language": "python",
     "metadata": {},
     "outputs": [],
     "prompt_number": 6
    },
    {
     "cell_type": "code",
     "collapsed": false,
     "input": [
      "print '\\n'\n",
      "print 'The resulting eigenalues are {:.2f}, {:.2f}, and {:.2f}.'.format(eigenvals[0], eigenvals[1], eigenvals[2])\n",
      "print '\\n'\n",
      "print 'So the three natrual frequencies are {:.2f}rad/s, {:.2f}rad/s, and {:.2f}rad/s.'.format(np.sqrt(eigenvals[0]), \n",
      "                                                                                             np.sqrt(eigenvals[1]),\n",
      "                                                                                             np.sqrt(eigenvals[2]))\n",
      "print '\\n'\n",
      "print 'The first eigenvector is ' + str(eigenvects[:,0]) + '.'\n",
      "print '\\n'\n",
      "print 'The second eigenvector is ' + str(eigenvects[:,1]) + '.'\n",
      "print '\\n'\n",
      "print 'The third eigenvector is ' + str(eigenvects[:,2]) + '.'"
     ],
     "language": "python",
     "metadata": {},
     "outputs": [
      {
       "output_type": "stream",
       "stream": "stdout",
       "text": [
        "\n",
        "\n",
        "The resulting eigenalues are 3.51, 14.22, and 747.60.\n",
        "\n",
        "\n",
        "So the three natrual frequencies are 1.87rad/s, 3.77rad/s, and 27.34rad/s.\n",
        "\n",
        "\n",
        "The first eigenvector is [-0.005  0.022 -0.005].\n",
        "\n",
        "\n",
        "The second eigenvector is [-0.024 -0.005 -0.025].\n",
        "\n",
        "\n",
        "The third eigenvector is [-0.007 -0.     0.097].\n"
       ]
      }
     ],
     "prompt_number": 7
    },
    {
     "cell_type": "markdown",
     "metadata": {},
     "source": [
      "In the first eigenvector, the vertical motion of m1 and the center-of-mass of m2 are equal in amplitude and direction, while there is diplacement in $\\theta$.\n",
      "\n",
      "\n",
      "## Problem 4.14 - Alternate Parameters\n",
      "Let's look at an alternate set of parameters with $k_1 = k_2$. In this case, the motion described by the three modes is clearer."
     ]
    },
    {
     "cell_type": "code",
     "collapsed": false,
     "input": [
      "# Define the parameters\n",
      "m1 = 100        # kg\n",
      "m2 = 1500       # kg\n",
      "k1 = 10000      # N/m\n",
      "k2 = 10000      # N/m   <---- make k2 = k1\n",
      "k3 = 70000      # N/m\n",
      "l = 4           # m\n",
      "\n",
      "# Define the momemt of interia about the COM\n",
      "Ic = 1.0/12 * m2 * l**2\n",
      "\n",
      "# define the matrices. I've chosen cooridnates to be (x, theta, x3)\n",
      "M = np.array([[m2, 0, 0],\n",
      "              [0, Ic, 0],\n",
      "              [0,  0, m1]])\n",
      "\n",
      "K = np.array([[k1 + k2 + k3, (k2 - k1) * l/2, -k3],\n",
      "              [(k2 - k1) * l/2, (k2 - k1) * (l/2)**2, 0],\n",
      "              [-k3, 0, k3]])\n",
      "\n",
      "# Now solve for the eigenvalues and eigenvectors\n",
      "eigenvals, eigenvects = linalg.eigh(K,M)\n",
      "\n",
      "print '\\n'\n",
      "print 'The resulting eigenalues are {:.2f}, {:.2f}, and {:.2f}.'.format(eigenvals[0], eigenvals[1], eigenvals[2])\n",
      "print '\\n'\n",
      "print 'So the three natrual frequencies are {:.2f}rad/s, {:.2f}rad/s, and {:.2f}rad/s.'.format(np.sqrt(eigenvals[0]), \n",
      "                                                                                             np.sqrt(eigenvals[1]),\n",
      "                                                                                             np.sqrt(eigenvals[2]))\n",
      "print '\\n'\n",
      "print 'The first eigenvector is ' + str(eigenvects[:,0]) + '.'\n",
      "print '\\n'\n",
      "print 'The second eigenvector is ' + str(eigenvects[:,1]) + '.'\n",
      "print '\\n'\n",
      "print 'The third eigenvector is ' + str(eigenvects[:,2]) + '.'"
     ],
     "language": "python",
     "metadata": {},
     "outputs": [
      {
       "output_type": "stream",
       "stream": "stdout",
       "text": [
        "\n",
        "\n",
        "The resulting eigenalues are 0.00, 12.49, and 747.51.\n",
        "\n",
        "\n",
        "So the three natrual frequencies are 0.00rad/s, 3.53rad/s, and 27.34rad/s.\n",
        "\n",
        "\n",
        "The first eigenvector is [ 0.     0.022  0.   ].\n",
        "\n",
        "\n",
        "The second eigenvector is [-0.025  0.    -0.025].\n",
        "\n",
        "\n",
        "The third eigenvector is [-0.007  0.     0.097].\n"
       ]
      }
     ],
     "prompt_number": 8
    },
    {
     "cell_type": "markdown",
     "metadata": {},
     "source": [
      "Here, the modes are clearer. The first is only osciallation in $\\theta$. The second is identical motion of $m_1$ and the COM of $m_2$, and the third is $m_1$ and $m_2$ moving in opposite directions, with amplitude determined by their relative masses. In the second and thirds modes, there is no displacement in $\\theta$."
     ]
    },
    {
     "cell_type": "markdown",
     "metadata": {},
     "source": [
      "# Problem 4.21"
     ]
    },
    {
     "cell_type": "code",
     "collapsed": false,
     "input": [
      "M = np.array([[1, 0],\n",
      "              [0, 1]])\n",
      "\n",
      "K = np.array([[2, -1],\n",
      "              [-1, 3]])\n",
      "\n",
      "# Solve for the eigenvalues and eigenvectors\n",
      "eigenvals, eigenvects = linalg.eigh(K,M)\n",
      "\n",
      "print '\\n'\n",
      "print 'The resulting eigenalues are {:.2f} and {:.2f}.'.format(eigenvals[0], eigenvals[1])\n",
      "print '\\n'\n",
      "print 'So the two natrual frequencies are {:.2f}rad/s and {:.2f}rad/s.'.format(np.sqrt(eigenvals[0]), np.sqrt(eigenvals[1]))\n",
      "print '\\n'\n",
      "print 'The first eigenvector is ' + str(eigenvects[:,0]) + '.'\n",
      "print '\\n'\n",
      "print 'The second eigenvector is ' + str(eigenvects[:,1]) + '.'\n",
      "print '\\n'"
     ],
     "language": "python",
     "metadata": {},
     "outputs": [
      {
       "output_type": "stream",
       "stream": "stdout",
       "text": [
        "\n",
        "\n",
        "The resulting eigenalues are 1.38 and 3.62.\n",
        "\n",
        "\n",
        "So the two natrual frequencies are 1.18rad/s and 1.90rad/s.\n",
        "\n",
        "\n",
        "The first eigenvector is [-0.851 -0.526].\n",
        "\n",
        "\n",
        "The second eigenvector is [-0.526  0.851].\n",
        "\n",
        "\n"
       ]
      }
     ],
     "prompt_number": 9
    },
    {
     "cell_type": "markdown",
     "metadata": {},
     "source": [
      "# Problem 4.60"
     ]
    },
    {
     "cell_type": "code",
     "collapsed": false,
     "input": [
      "m1 = 0.4     # kg\n",
      "m2 = 0.8     # kg\n",
      "k = 3000     # N/m\n",
      "\n",
      "M = np.array([[m1, 0],\n",
      "              [0, m2]])\n",
      "\n",
      "K = np.array([[k, -k],\n",
      "              [-k, k]])\n",
      "\n",
      "# Solve for the eigenvalues and eigenvectors\n",
      "eigenvals, eigenvects = linalg.eigh(K,M)\n",
      "\n",
      "print '\\n'\n",
      "print 'The resulting eigenalues are {:.2f} and {:.2f}.'.format(eigenvals[0], eigenvals[1])\n",
      "print '\\n'\n",
      "print 'So the two natrual frequencies are {:.2f}rad/s and {:.2f}rad/s.'.format(np.sqrt(eigenvals[0]), np.sqrt(eigenvals[1]))\n",
      "print '\\n'\n",
      "print 'The first eigenvector is ' + str(eigenvects[:,0]) + '.'\n",
      "print '\\n'\n",
      "print 'The second eigenvector is ' + str(eigenvects[:,1]) + '.'"
     ],
     "language": "python",
     "metadata": {},
     "outputs": [
      {
       "output_type": "stream",
       "stream": "stdout",
       "text": [
        "\n",
        "\n",
        "The resulting eigenalues are -0.00 and 11250.00.\n",
        "\n",
        "\n",
        "So the two natrual frequencies are nanrad/s and 106.07rad/s.\n",
        "\n",
        "\n",
        "The first eigenvector is [-0.913 -0.913].\n",
        "\n",
        "\n",
        "The second eigenvector is [-1.291  0.645].\n"
       ]
      },
      {
       "output_type": "stream",
       "stream": "stderr",
       "text": [
        "-c:17: RuntimeWarning: invalid value encountered in sqrt\n"
       ]
      }
     ],
     "prompt_number": 10
    },
    {
     "cell_type": "markdown",
     "metadata": {},
     "source": [
      "Notice that there is a rigid-body mode, as we would expect with this system."
     ]
    },
    {
     "cell_type": "code",
     "collapsed": false,
     "input": [
      "# Define F\n",
      "F = np.array([0.0, 1.0])\n",
      "\n",
      "w = np.linspace(0.01,200,1200)\n",
      "X = np.zeros((len(w),2))\n",
      "\n",
      "# This is (K-w^2 M)^-1 * (w^2*F)\n",
      "for ii, freq in enumerate(w):\n",
      "    X[ii,:] = np.dot(linalg.inv(K - freq**2 * M), F)\n",
      "\n",
      "# Let's mask the discontinuity, so it isn't plotted\n",
      "pos = np.where(np.abs(X[:,0]) >= 0.25)\n",
      "X[pos,:] = np.nan\n",
      "w[pos] = np.nan"
     ],
     "language": "python",
     "metadata": {},
     "outputs": [],
     "prompt_number": 11
    },
    {
     "cell_type": "code",
     "collapsed": false,
     "input": [
      "# Plot the magnitude of the response\n",
      "\n",
      "# Set the plot size - 3x2 aspect ratio is best\n",
      "fig = plt.figure(figsize=(6,4))\n",
      "ax = plt.gca()\n",
      "plt.subplots_adjust(bottom=0.17,left=0.17,top=0.96,right=0.96)\n",
      "\n",
      "# Change the axis units to CMU Serif\n",
      "plt.setp(ax.get_ymajorticklabels(),family='serif',fontsize=18)\n",
      "plt.setp(ax.get_xmajorticklabels(),family='serif',fontsize=18)\n",
      "\n",
      "ax.spines['right'].set_color('none')\n",
      "ax.spines['top'].set_color('none')\n",
      "\n",
      "ax.xaxis.set_ticks_position('bottom')\n",
      "ax.yaxis.set_ticks_position('left')\n",
      "\n",
      "# Turn on the plot grid and set appropriate linestyle and color\n",
      "ax.grid(True,linestyle=':',color='0.75')\n",
      "ax.set_axisbelow(True)\n",
      "\n",
      "# Define the X and Y axis labels\n",
      "plt.xlabel('Frequency (rad/s)',family='serif',fontsize=22,weight='bold',labelpad=5)\n",
      "plt.ylabel('Magnitude',family='serif',fontsize=22,weight='bold',labelpad=10)\n",
      "\n",
      "plt.plot(w,np.abs(X[:,0]),linewidth=2,label=r'$|\\bar{x}_1|$')\n",
      "plt.plot(w,np.abs(X[:,1]),linewidth=2,linestyle=\"--\",label=r'$|\\bar{x}_2|$')\n",
      "\n",
      "# uncomment below and set limits if needed\n",
      "# plt.xlim(1.4,4.5)\n",
      "plt.ylim(-0.001,0.01)\n",
      "\n",
      "# Create the legend, then fix the fontsize\n",
      "leg = plt.legend(loc='upper right', fancybox=True)\n",
      "ltext  = leg.get_texts()\n",
      "plt.setp(ltext,family='serif',fontsize=16)\n",
      "\n",
      "# Adjust the page layout filling the page using the new tight_layout command\n",
      "plt.tight_layout(pad=0.5)\n",
      "\n",
      "# save the figure as a high-res pdf in the current folder\n",
      "# plt.savefig('Vibration_Absorber_Magnitude.pdf')\n",
      "\n",
      "fig.set_size_inches(9,6) # Resize the figure for better display in the notebook"
     ],
     "language": "python",
     "metadata": {},
     "outputs": [
      {
       "metadata": {},
       "output_type": "display_data",
       "png": "[encoded data removed]",
       "text": [
        "<matplotlib.figure.Figure at 0x10ef72e10>"
       ]
      }
     ],
     "prompt_number": 12
    },
    {
     "cell_type": "markdown",
     "metadata": {},
     "source": [
      "Now, let's look at the amplitude at $\\omega = \\sqrt{k/m_1}$."
     ]
    },
    {
     "cell_type": "code",
     "collapsed": false,
     "input": [
      "f_bar = (3.0 / 1000) * np.linalg.det(K - k/m1 * M) / k\n",
      "\n",
      "print 'The amplitude of the force for a 3mm motion of m1 is {:0.4f} N.'.format(f_bar)"
     ],
     "language": "python",
     "metadata": {},
     "outputs": [
      {
       "output_type": "stream",
       "stream": "stdout",
       "text": [
        "The amplitude of the force for a 3mm motion of m1 is -9.0000 N.\n"
       ]
      }
     ],
     "prompt_number": 13
    },
    {
     "cell_type": "markdown",
     "metadata": {},
     "source": [
      "<hr class = \"style-end\">"
     ]
    },
    {
     "cell_type": "markdown",
     "metadata": {},
     "source": [
      "#### Licenses\n",
      "Code is licensed under a 3-clause BSD style license. See the licenses/LICENSE.md file.\n",
      "\n",
      "Other content is provided under a [Creative Commons Attribution-NonCommercial 4.0 International License](http://creativecommons.org/licenses/by-nc/4.0/), CC-BY-NC 4.0.\n"
     ]
    },
    {
     "cell_type": "code",
     "collapsed": false,
     "input": [
      "# Ignore this cell - We just update the CSS to make the notebook look a little bit better and easier to read\n",
      "\n",
      "# Improve the notebook styling -- Run this first\n",
      "from IPython.core.display import HTML\n",
      "css_file = 'styling/CRAWLAB_IPythonNotebook.css'\n",
      "HTML(open(css_file, \"r\").read())"
     ],
     "language": "python",
     "metadata": {},
     "outputs": [
      {
       "html": [
        "<style>\n",
        "    @font-face {\n",
        "        font-family: \"Computer Modern\";\n",
        "        src: url('http://9dbb143991406a7c655e-aa5fcb0a5a4ec34cff238a2d56ca4144.r56.cf5.rackcdn.com/cmunss.otf');\n",
        "    }\n",
        "    @font-face {\n",
        "        font-family: \"Computer Modern\";\n",
        "        font-weight: bold;\n",
        "        src: url('http://9dbb143991406a7c655e-aa5fcb0a5a4ec34cff238a2d56ca4144.r56.cf5.rackcdn.com/cmunsx.otf');\n",
        "    }\n",
        "    @font-face {\n",
        "        font-family: \"Computer Modern\";\n",
        "        font-style: oblique;\n",
        "        src: url('http://9dbb143991406a7c655e-aa5fcb0a5a4ec34cff238a2d56ca4144.r56.cf5.rackcdn.com/cmunsi.otf');\n",
        "    }\n",
        "    @font-face {\n",
        "        font-family: \"Computer Modern\";\n",
        "        font-weight: bold;\n",
        "        font-style: oblique;\n",
        "        src: url('http://9dbb143991406a7c655e-aa5fcb0a5a4ec34cff238a2d56ca4144.r56.cf5.rackcdn.com/cmunso.otf');\n",
        "    }\n",
        "    \n",
        "    div.cell{\n",
        "        max-width:1100px;\n",
        "        margin-left:auto;\n",
        "        margin-right:auto;\n",
        "    }\n",
        "    \n",
        "    h1 {\n",
        "        font-family: Computer Modern;\n",
        "    }\n",
        "    \n",
        "    h4{\n",
        "        margin-top:12px;\n",
        "        margin-bottom: 3px;\n",
        "       }\n",
        "\n",
        "    div.text_cell_render{\n",
        "        font-family: Computer Modern, \"Helvetica Neue\", Arial, Helvetica, Geneva, sans-serif;\n",
        "        line-height: 145%;\n",
        "        font-size: 130%;\n",
        "        max-width:1100px;\n",
        "        margin-left:auto;\n",
        "        margin-right:auto;\n",
        "    }\n",
        "    \n",
        "    .CodeMirror{\n",
        "            font-family: \"Source Code Pro\", source-code-pro, Consolas, monospace;\n",
        "    }\n",
        "    \n",
        "    .warning{\n",
        "        color: rgb( 240, 20, 20 )\n",
        "        }  \n",
        "    \n",
        "    hr.style-end {\n",
        "    border: 0;\n",
        "    height: 1px;\n",
        "    text-align: center;\n",
        "    background: #333;\n",
        "    background-image: -webkit-linear-gradient(left, #ccc, #333, #ccc); \n",
        "    background-image:    -moz-linear-gradient(left, #ccc, #333, #ccc); \n",
        "    background-image:     -ms-linear-gradient(left, #ccc, #333, #ccc); \n",
        "    background-image:      -o-linear-gradient(left, #ccc, #333, #ccc); \n",
        "    }\n",
        "\n",
        "    hr.style-end:after {\n",
        "    content: \"\u269c\";\n",
        "    display: inline-block;\n",
        "    position: relative; \n",
        "    top: -0.5em;  \n",
        "    font-size: 1.5em;\n",
        "    padding: 0 0.25em;\n",
        "    background: white;\n",
        "    }\n",
        "    \n",
        "/*  Center figures, etc\n",
        "    .ui-wrapper {\n",
        "        margin-left: auto !important;\n",
        "        margin-right: auto !important;\n",
        "    }\n",
        " */\n",
        "    \n",
        "</style>\n",
        "<script>\n",
        "    MathJax.Hub.Config({\n",
        "                        TeX: {\n",
        "                           extensions: [\"AMSmath.js\"]\n",
        "                           },\n",
        "                tex2jax: {\n",
        "                    inlineMath: [ ['$','$'], [\"\\\\(\",\"\\\\)\"] ],\n",
        "                    displayMath: [ ['$$','$$'], [\"\\\\[\",\"\\\\]\"] ]\n",
        "                },\n",
        "                displayAlign: 'center', // Change this to 'center' to center equations.\n",
        "                \"HTML-CSS\": {\n",
        "                    styles: {'.MathJax_Display': {\"margin\": 4}}\n",
        "                }\n",
        "        });\n",
        "</script>\n"
       ],
       "metadata": {},
       "output_type": "pyout",
       "prompt_number": 14,
       "text": [
        "<IPython.core.display.HTML at 0x10ef5f090>"
       ]
      }
     ],
     "prompt_number": 14
    }
   ],
   "metadata": {}
  }
 ]
}